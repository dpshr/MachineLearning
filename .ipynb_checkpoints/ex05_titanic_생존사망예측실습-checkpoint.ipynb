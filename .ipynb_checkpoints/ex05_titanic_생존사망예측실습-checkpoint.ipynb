{
 "cells": [
  {
   "cell_type": "markdown",
   "id": "80381a8f-2b33-4043-b6b1-a798c34acf67",
   "metadata": {},
   "source": [
    "### 목표\n",
    " - 타이타닉 데이터를 학습해서 생존자/사망자 예측을 해보자\n",
    " - 머신러닝 전체 과정을 진행해보자"
   ]
  },
  {
   "cell_type": "markdown",
   "id": "ce1b8446-94d6-4e1b-9ffd-35d144071220",
   "metadata": {},
   "source": [
    "#### 1. 문제정의\n",
    "- 생존/사망을 예측해보자\n",
    "- kaggle 경진대회에서 높은 순위를 차지해보자"
   ]
  },
  {
   "cell_type": "markdown",
   "id": "6e845894-c1c5-4fed-aa51-8c9c50cab045",
   "metadata": {},
   "source": [
    "#### 2. 데이터 수집(불러와서 확인)"
   ]
  },
  {
   "cell_type": "code",
   "execution_count": 1,
   "id": "05eebd24-1cfa-4587-8fc0-cd00f21c00ed",
   "metadata": {},
   "outputs": [],
   "source": [
    "# 데이터 분석에 필요한 라이브러리 불러오기\n",
    "import numpy as np\n",
    "import pandas as pd\n",
    "import matplotlib.pyplot as plt\n",
    "import seaborn as sns   # 시각화 라이브러리"
   ]
  },
  {
   "cell_type": "markdown",
   "id": "c0bcb82f-3841-45dd-af92-de2fa1701799",
   "metadata": {},
   "source": [
    "- q1. 타이타닉 train 데이터와 test 데이터를 변수 train, test에 저장하기(단, PassengerId 컬럼을 불러오면서 인덱스로 설정해서 불러오기)"
   ]
  },
  {
   "cell_type": "code",
   "execution_count": 2,
   "id": "060d9592-87f5-4cd2-93f7-abc6b4f000b3",
   "metadata": {},
   "outputs": [
    {
     "data": {
      "text/html": [
       "<div>\n",
       "<style scoped>\n",
       "    .dataframe tbody tr th:only-of-type {\n",
       "        vertical-align: middle;\n",
       "    }\n",
       "\n",
       "    .dataframe tbody tr th {\n",
       "        vertical-align: top;\n",
       "    }\n",
       "\n",
       "    .dataframe thead th {\n",
       "        text-align: right;\n",
       "    }\n",
       "</style>\n",
       "<table border=\"1\" class=\"dataframe\">\n",
       "  <thead>\n",
       "    <tr style=\"text-align: right;\">\n",
       "      <th></th>\n",
       "      <th>Survived</th>\n",
       "      <th>Pclass</th>\n",
       "      <th>Name</th>\n",
       "      <th>Sex</th>\n",
       "      <th>Age</th>\n",
       "      <th>SibSp</th>\n",
       "      <th>Parch</th>\n",
       "      <th>Ticket</th>\n",
       "      <th>Fare</th>\n",
       "      <th>Cabin</th>\n",
       "      <th>Embarked</th>\n",
       "    </tr>\n",
       "    <tr>\n",
       "      <th>PassengerId</th>\n",
       "      <th></th>\n",
       "      <th></th>\n",
       "      <th></th>\n",
       "      <th></th>\n",
       "      <th></th>\n",
       "      <th></th>\n",
       "      <th></th>\n",
       "      <th></th>\n",
       "      <th></th>\n",
       "      <th></th>\n",
       "      <th></th>\n",
       "    </tr>\n",
       "  </thead>\n",
       "  <tbody>\n",
       "    <tr>\n",
       "      <th>1</th>\n",
       "      <td>0</td>\n",
       "      <td>3</td>\n",
       "      <td>Braund, Mr. Owen Harris</td>\n",
       "      <td>male</td>\n",
       "      <td>22.0</td>\n",
       "      <td>1</td>\n",
       "      <td>0</td>\n",
       "      <td>A/5 21171</td>\n",
       "      <td>7.2500</td>\n",
       "      <td>NaN</td>\n",
       "      <td>S</td>\n",
       "    </tr>\n",
       "    <tr>\n",
       "      <th>2</th>\n",
       "      <td>1</td>\n",
       "      <td>1</td>\n",
       "      <td>Cumings, Mrs. John Bradley (Florence Briggs Th...</td>\n",
       "      <td>female</td>\n",
       "      <td>38.0</td>\n",
       "      <td>1</td>\n",
       "      <td>0</td>\n",
       "      <td>PC 17599</td>\n",
       "      <td>71.2833</td>\n",
       "      <td>C85</td>\n",
       "      <td>C</td>\n",
       "    </tr>\n",
       "    <tr>\n",
       "      <th>3</th>\n",
       "      <td>1</td>\n",
       "      <td>3</td>\n",
       "      <td>Heikkinen, Miss. Laina</td>\n",
       "      <td>female</td>\n",
       "      <td>26.0</td>\n",
       "      <td>0</td>\n",
       "      <td>0</td>\n",
       "      <td>STON/O2. 3101282</td>\n",
       "      <td>7.9250</td>\n",
       "      <td>NaN</td>\n",
       "      <td>S</td>\n",
       "    </tr>\n",
       "    <tr>\n",
       "      <th>4</th>\n",
       "      <td>1</td>\n",
       "      <td>1</td>\n",
       "      <td>Futrelle, Mrs. Jacques Heath (Lily May Peel)</td>\n",
       "      <td>female</td>\n",
       "      <td>35.0</td>\n",
       "      <td>1</td>\n",
       "      <td>0</td>\n",
       "      <td>113803</td>\n",
       "      <td>53.1000</td>\n",
       "      <td>C123</td>\n",
       "      <td>S</td>\n",
       "    </tr>\n",
       "    <tr>\n",
       "      <th>5</th>\n",
       "      <td>0</td>\n",
       "      <td>3</td>\n",
       "      <td>Allen, Mr. William Henry</td>\n",
       "      <td>male</td>\n",
       "      <td>35.0</td>\n",
       "      <td>0</td>\n",
       "      <td>0</td>\n",
       "      <td>373450</td>\n",
       "      <td>8.0500</td>\n",
       "      <td>NaN</td>\n",
       "      <td>S</td>\n",
       "    </tr>\n",
       "  </tbody>\n",
       "</table>\n",
       "</div>"
      ],
      "text/plain": [
       "             Survived  Pclass  \\\n",
       "PassengerId                     \n",
       "1                   0       3   \n",
       "2                   1       1   \n",
       "3                   1       3   \n",
       "4                   1       1   \n",
       "5                   0       3   \n",
       "\n",
       "                                                          Name     Sex   Age  \\\n",
       "PassengerId                                                                    \n",
       "1                                      Braund, Mr. Owen Harris    male  22.0   \n",
       "2            Cumings, Mrs. John Bradley (Florence Briggs Th...  female  38.0   \n",
       "3                                       Heikkinen, Miss. Laina  female  26.0   \n",
       "4                 Futrelle, Mrs. Jacques Heath (Lily May Peel)  female  35.0   \n",
       "5                                     Allen, Mr. William Henry    male  35.0   \n",
       "\n",
       "             SibSp  Parch            Ticket     Fare Cabin Embarked  \n",
       "PassengerId                                                          \n",
       "1                1      0         A/5 21171   7.2500   NaN        S  \n",
       "2                1      0          PC 17599  71.2833   C85        C  \n",
       "3                0      0  STON/O2. 3101282   7.9250   NaN        S  \n",
       "4                1      0            113803  53.1000  C123        S  \n",
       "5                0      0            373450   8.0500   NaN        S  "
      ]
     },
     "execution_count": 2,
     "metadata": {},
     "output_type": "execute_result"
    }
   ],
   "source": [
    "# csv -> pd.read_csv()\n",
    "train = pd.read_csv('./data/train.csv', index_col = 'PassengerId')\n",
    "test = pd.read_csv('./data/test.csv', index_col = 'PassengerId')\n",
    "train.head()"
   ]
  },
  {
   "cell_type": "code",
   "execution_count": 3,
   "id": "0cd00f4f-ccdf-4b88-9540-0cbb9907f9e8",
   "metadata": {},
   "outputs": [
    {
     "name": "stdout",
     "output_type": "stream",
     "text": [
      "훈련 데이터셋 크기 :  (891, 11)\n",
      "테스트 데이터셋 크기 :  (418, 10)\n"
     ]
    }
   ],
   "source": [
    "# 크기확인\n",
    "print('훈련 데이터셋 크기 : ', train.shape)\n",
    "print('테스트 데이터셋 크기 : ', test.shape)"
   ]
  },
  {
   "cell_type": "markdown",
   "id": "8a91d33f-ca91-494a-90b8-d3343d596c40",
   "metadata": {},
   "source": [
    "#### 3. 데이터 전처리 및 데이터 탐색✨✨"
   ]
  },
  {
   "cell_type": "code",
   "execution_count": 4,
   "id": "fab9693f-ab96-4cc5-a343-61943c85a87f",
   "metadata": {},
   "outputs": [
    {
     "name": "stdout",
     "output_type": "stream",
     "text": [
      "<class 'pandas.core.frame.DataFrame'>\n",
      "Index: 891 entries, 1 to 891\n",
      "Data columns (total 11 columns):\n",
      " #   Column    Non-Null Count  Dtype  \n",
      "---  ------    --------------  -----  \n",
      " 0   Survived  891 non-null    int64  \n",
      " 1   Pclass    891 non-null    int64  \n",
      " 2   Name      891 non-null    object \n",
      " 3   Sex       891 non-null    object \n",
      " 4   Age       714 non-null    float64\n",
      " 5   SibSp     891 non-null    int64  \n",
      " 6   Parch     891 non-null    int64  \n",
      " 7   Ticket    891 non-null    object \n",
      " 8   Fare      891 non-null    float64\n",
      " 9   Cabin     204 non-null    object \n",
      " 10  Embarked  889 non-null    object \n",
      "dtypes: float64(2), int64(4), object(5)\n",
      "memory usage: 83.5+ KB\n"
     ]
    }
   ],
   "source": [
    "# 훈련 데이터셋 정보 확인\n",
    "train.info()\n",
    "# 결측치가 있는 컬럼 : Age, Cabin, Embarked\n",
    "# 데이터 타입 : 숫자(정수, 실수), 문자열\n",
    "#    -> 모델은 문제 데이터가 숫자인 것만 인식할 수 있다\n",
    "# 문자 -> 숫자 : 인코딩(라벨 인코딩, 원핫 인코딩)"
   ]
  },
  {
   "cell_type": "code",
   "execution_count": 5,
   "id": "21a7596d-1f97-4093-b52c-bb48cb2cbfa0",
   "metadata": {},
   "outputs": [
    {
     "name": "stdout",
     "output_type": "stream",
     "text": [
      "<class 'pandas.core.frame.DataFrame'>\n",
      "Index: 418 entries, 892 to 1309\n",
      "Data columns (total 10 columns):\n",
      " #   Column    Non-Null Count  Dtype  \n",
      "---  ------    --------------  -----  \n",
      " 0   Pclass    418 non-null    int64  \n",
      " 1   Name      418 non-null    object \n",
      " 2   Sex       418 non-null    object \n",
      " 3   Age       332 non-null    float64\n",
      " 4   SibSp     418 non-null    int64  \n",
      " 5   Parch     418 non-null    int64  \n",
      " 6   Ticket    418 non-null    object \n",
      " 7   Fare      417 non-null    float64\n",
      " 8   Cabin     91 non-null     object \n",
      " 9   Embarked  418 non-null    object \n",
      "dtypes: float64(2), int64(3), object(5)\n",
      "memory usage: 35.9+ KB\n"
     ]
    }
   ],
   "source": [
    "# test - info()\n",
    "test.info()\n",
    "# Survived 컬럼이 없다 -> 생존/사망 데이터가 없음\n",
    "# y_test -> kaggle이 알고 있다\n",
    "# 경진대회 데이터는 테스트 문제까지만 제공\n",
    "# 결측치 컬럼 : Age, Fare, Cabin\n",
    "# 데이터 타입: 숫자(정수, 실수), 문자열"
   ]
  },
  {
   "cell_type": "code",
   "execution_count": 6,
   "id": "c4b8d0f3-099c-4fa5-a42b-17f2f0122058",
   "metadata": {},
   "outputs": [
    {
     "data": {
      "text/plain": [
       "Index(['Survived', 'Pclass', 'Name', 'Sex', 'Age', 'SibSp', 'Parch', 'Ticket',\n",
       "       'Fare', 'Cabin', 'Embarked'],\n",
       "      dtype='object')"
      ]
     },
     "execution_count": 6,
     "metadata": {},
     "output_type": "execute_result"
    }
   ],
   "source": [
    "# 컬럼 정보 정리\n",
    "train.columns\n",
    "# 'Survived', 생존/사망 결과 값이 담긴 컬럼(0:사망, 1:생존)\n",
    "# 'Pclass',  승객 등급(1:상위층, 2:중상위층, 3:하위층)\n",
    "# 'Name'\n",
    "# 'Sex'\n",
    "# 'Age'\n",
    "# 'SibSp', 형제자매/배우자 수 (같이 탑승한)\n",
    "# 'Parch', 부모/자식의 수 (같이 탑승한)\n",
    "# 'Ticket', 티켓 번호\n",
    "# 'Fare', 요금\n",
    "# 'Cabin', 객실 번호\n",
    "# 'Embarked', 승선항(S, C, Q)\n",
    "# S = Southampton , C = Cherbourg , Q = Queenstown"
   ]
  },
  {
   "cell_type": "markdown",
   "id": "6fa8e097-8a02-4a86-8005-912fd6aac5d7",
   "metadata": {},
   "source": [
    "#### 결측치 채우기\n",
    "- train\n",
    "- test"
   ]
  },
  {
   "cell_type": "code",
   "execution_count": 7,
   "id": "84406748-7c3c-40d0-8601-767b86abd1ad",
   "metadata": {},
   "outputs": [],
   "source": [
    "# 결측치를 채우는 방법\n",
    "# 1. 결측치가 있는 행 전체를 삭제하는 방법\n",
    "# -> 삭제하려는 데이터가 너무 많거나 모델링에 치명적이지 않은 데이터여야만 한다\n",
    "# 2. 결측치를 다른 값으로 대체하는 방법\n",
    "# -> 평균값, 최빈값, 중앙값 등"
   ]
  },
  {
   "cell_type": "code",
   "execution_count": 8,
   "id": "2902c154-3120-40cd-b474-3e75b4be650d",
   "metadata": {},
   "outputs": [
    {
     "data": {
      "text/html": [
       "<div>\n",
       "<style scoped>\n",
       "    .dataframe tbody tr th:only-of-type {\n",
       "        vertical-align: middle;\n",
       "    }\n",
       "\n",
       "    .dataframe tbody tr th {\n",
       "        vertical-align: top;\n",
       "    }\n",
       "\n",
       "    .dataframe thead th {\n",
       "        text-align: right;\n",
       "    }\n",
       "</style>\n",
       "<table border=\"1\" class=\"dataframe\">\n",
       "  <thead>\n",
       "    <tr style=\"text-align: right;\">\n",
       "      <th></th>\n",
       "      <th>Survived</th>\n",
       "      <th>Pclass</th>\n",
       "      <th>Name</th>\n",
       "      <th>Sex</th>\n",
       "      <th>Age</th>\n",
       "      <th>SibSp</th>\n",
       "      <th>Parch</th>\n",
       "      <th>Ticket</th>\n",
       "      <th>Fare</th>\n",
       "      <th>Cabin</th>\n",
       "      <th>Embarked</th>\n",
       "    </tr>\n",
       "    <tr>\n",
       "      <th>PassengerId</th>\n",
       "      <th></th>\n",
       "      <th></th>\n",
       "      <th></th>\n",
       "      <th></th>\n",
       "      <th></th>\n",
       "      <th></th>\n",
       "      <th></th>\n",
       "      <th></th>\n",
       "      <th></th>\n",
       "      <th></th>\n",
       "      <th></th>\n",
       "    </tr>\n",
       "  </thead>\n",
       "  <tbody>\n",
       "    <tr>\n",
       "      <th>62</th>\n",
       "      <td>1</td>\n",
       "      <td>1</td>\n",
       "      <td>Icard, Miss. Amelie</td>\n",
       "      <td>female</td>\n",
       "      <td>38.0</td>\n",
       "      <td>0</td>\n",
       "      <td>0</td>\n",
       "      <td>113572</td>\n",
       "      <td>80.0</td>\n",
       "      <td>B28</td>\n",
       "      <td>NaN</td>\n",
       "    </tr>\n",
       "    <tr>\n",
       "      <th>830</th>\n",
       "      <td>1</td>\n",
       "      <td>1</td>\n",
       "      <td>Stone, Mrs. George Nelson (Martha Evelyn)</td>\n",
       "      <td>female</td>\n",
       "      <td>62.0</td>\n",
       "      <td>0</td>\n",
       "      <td>0</td>\n",
       "      <td>113572</td>\n",
       "      <td>80.0</td>\n",
       "      <td>B28</td>\n",
       "      <td>NaN</td>\n",
       "    </tr>\n",
       "  </tbody>\n",
       "</table>\n",
       "</div>"
      ],
      "text/plain": [
       "             Survived  Pclass                                       Name  \\\n",
       "PassengerId                                                                \n",
       "62                  1       1                        Icard, Miss. Amelie   \n",
       "830                 1       1  Stone, Mrs. George Nelson (Martha Evelyn)   \n",
       "\n",
       "                Sex   Age  SibSp  Parch  Ticket  Fare Cabin Embarked  \n",
       "PassengerId                                                           \n",
       "62           female  38.0      0      0  113572  80.0   B28      NaN  \n",
       "830          female  62.0      0      0  113572  80.0   B28      NaN  "
      ]
     },
     "execution_count": 8,
     "metadata": {},
     "output_type": "execute_result"
    }
   ],
   "source": [
    "# train - Embarked 컬럼 결측치 채우기\n",
    "train['Embarked'].value_counts()  # S에서 제일 많이 탔다\n",
    "# 이 안에 결측치는 ?\n",
    "train['Embarked'].isnull().sum()\n",
    "# train['Embarked'] 결측치가 있는 데이터 출력하기\n",
    "train[train['Embarked'].isnull()]"
   ]
  },
  {
   "cell_type": "code",
   "execution_count": 9,
   "id": "3b5fa2e1-3315-4d88-a0d3-c05574cef02d",
   "metadata": {},
   "outputs": [],
   "source": [
    "# 두 사람의 데이터가 굉장히 비슷\n",
    "# 같은 승선항에서 탔을 것이라고 가정\n",
    "# 사람이 가장 많이 탑승한 장소의 승선항 값으로 채워주기 -> 최빈값\n",
    "# fillna(값) : 비어있는 데이터가 있다면 \"값\"으로 채워주는 함수\n",
    "train['Embarked'] = train['Embarked'].fillna('S')"
   ]
  },
  {
   "cell_type": "code",
   "execution_count": 10,
   "id": "e1067756-6709-4be9-bbcf-9f5f19f22f1d",
   "metadata": {},
   "outputs": [
    {
     "data": {
      "text/plain": [
       "0"
      ]
     },
     "execution_count": 10,
     "metadata": {},
     "output_type": "execute_result"
    }
   ],
   "source": [
    "train['Embarked'].isnull().sum()"
   ]
  },
  {
   "cell_type": "code",
   "execution_count": 11,
   "id": "f42b5b60-3ab1-4e30-93a9-40bfe0ace19b",
   "metadata": {
    "scrolled": true
   },
   "outputs": [
    {
     "name": "stdout",
     "output_type": "stream",
     "text": [
      "<class 'pandas.core.frame.DataFrame'>\n",
      "Index: 891 entries, 1 to 891\n",
      "Data columns (total 11 columns):\n",
      " #   Column    Non-Null Count  Dtype  \n",
      "---  ------    --------------  -----  \n",
      " 0   Survived  891 non-null    int64  \n",
      " 1   Pclass    891 non-null    int64  \n",
      " 2   Name      891 non-null    object \n",
      " 3   Sex       891 non-null    object \n",
      " 4   Age       714 non-null    float64\n",
      " 5   SibSp     891 non-null    int64  \n",
      " 6   Parch     891 non-null    int64  \n",
      " 7   Ticket    891 non-null    object \n",
      " 8   Fare      891 non-null    float64\n",
      " 9   Cabin     204 non-null    object \n",
      " 10  Embarked  891 non-null    object \n",
      "dtypes: float64(2), int64(4), object(5)\n",
      "memory usage: 83.5+ KB\n"
     ]
    }
   ],
   "source": [
    "train.info()"
   ]
  },
  {
   "cell_type": "markdown",
   "id": "37a7f36c-4702-4b90-bf15-97ee0e515e42",
   "metadata": {},
   "source": [
    "- test : Fare 컬럼 결측치 채우기"
   ]
  },
  {
   "cell_type": "code",
   "execution_count": 12,
   "id": "3d3b9bf9-2dc7-47dd-94f8-5160dcf2b5b4",
   "metadata": {},
   "outputs": [
    {
     "data": {
      "text/html": [
       "<div>\n",
       "<style scoped>\n",
       "    .dataframe tbody tr th:only-of-type {\n",
       "        vertical-align: middle;\n",
       "    }\n",
       "\n",
       "    .dataframe tbody tr th {\n",
       "        vertical-align: top;\n",
       "    }\n",
       "\n",
       "    .dataframe thead th {\n",
       "        text-align: right;\n",
       "    }\n",
       "</style>\n",
       "<table border=\"1\" class=\"dataframe\">\n",
       "  <thead>\n",
       "    <tr style=\"text-align: right;\">\n",
       "      <th></th>\n",
       "      <th>Survived</th>\n",
       "      <th>Pclass</th>\n",
       "      <th>Age</th>\n",
       "      <th>SibSp</th>\n",
       "      <th>Parch</th>\n",
       "      <th>Fare</th>\n",
       "    </tr>\n",
       "  </thead>\n",
       "  <tbody>\n",
       "    <tr>\n",
       "      <th>Survived</th>\n",
       "      <td>1.000000</td>\n",
       "      <td>-0.338481</td>\n",
       "      <td>-0.077221</td>\n",
       "      <td>-0.035322</td>\n",
       "      <td>0.081629</td>\n",
       "      <td>0.257307</td>\n",
       "    </tr>\n",
       "    <tr>\n",
       "      <th>Pclass</th>\n",
       "      <td>-0.338481</td>\n",
       "      <td>1.000000</td>\n",
       "      <td>-0.369226</td>\n",
       "      <td>0.083081</td>\n",
       "      <td>0.018443</td>\n",
       "      <td>-0.549500</td>\n",
       "    </tr>\n",
       "    <tr>\n",
       "      <th>Age</th>\n",
       "      <td>-0.077221</td>\n",
       "      <td>-0.369226</td>\n",
       "      <td>1.000000</td>\n",
       "      <td>-0.308247</td>\n",
       "      <td>-0.189119</td>\n",
       "      <td>0.096067</td>\n",
       "    </tr>\n",
       "    <tr>\n",
       "      <th>SibSp</th>\n",
       "      <td>-0.035322</td>\n",
       "      <td>0.083081</td>\n",
       "      <td>-0.308247</td>\n",
       "      <td>1.000000</td>\n",
       "      <td>0.414838</td>\n",
       "      <td>0.159651</td>\n",
       "    </tr>\n",
       "    <tr>\n",
       "      <th>Parch</th>\n",
       "      <td>0.081629</td>\n",
       "      <td>0.018443</td>\n",
       "      <td>-0.189119</td>\n",
       "      <td>0.414838</td>\n",
       "      <td>1.000000</td>\n",
       "      <td>0.216225</td>\n",
       "    </tr>\n",
       "    <tr>\n",
       "      <th>Fare</th>\n",
       "      <td>0.257307</td>\n",
       "      <td>-0.549500</td>\n",
       "      <td>0.096067</td>\n",
       "      <td>0.159651</td>\n",
       "      <td>0.216225</td>\n",
       "      <td>1.000000</td>\n",
       "    </tr>\n",
       "  </tbody>\n",
       "</table>\n",
       "</div>"
      ],
      "text/plain": [
       "          Survived    Pclass       Age     SibSp     Parch      Fare\n",
       "Survived  1.000000 -0.338481 -0.077221 -0.035322  0.081629  0.257307\n",
       "Pclass   -0.338481  1.000000 -0.369226  0.083081  0.018443 -0.549500\n",
       "Age      -0.077221 -0.369226  1.000000 -0.308247 -0.189119  0.096067\n",
       "SibSp    -0.035322  0.083081 -0.308247  1.000000  0.414838  0.159651\n",
       "Parch     0.081629  0.018443 -0.189119  0.414838  1.000000  0.216225\n",
       "Fare      0.257307 -0.549500  0.096067  0.159651  0.216225  1.000000"
      ]
     },
     "execution_count": 12,
     "metadata": {},
     "output_type": "execute_result"
    }
   ],
   "source": [
    "# test 데이터 Fare 인덱싱한 후 결측치가 존재하는 행 출력\n",
    "# isnull(), 불리언인덱싱\n",
    "test[test['Fare'].isnull()]\n",
    "# 다른 컬럼과 연관해서 생각할 순 없을까?\n",
    "# 상관관계 확인\n",
    "train.corr(numeric_only=True)  # 문자열로 된 컬럼 포함 -> 상관계수 X\n",
    "# Fare라는 컬럼은 어떤 컬럼과 연관이 가장 높을까? -> Pclass\n",
    "# 상관관계는 +1이나 -1에 가까울수록 관계가 깊고, 0에 가까울수록 상관없는 컬럼"
   ]
  },
  {
   "cell_type": "code",
   "execution_count": 13,
   "id": "bcdb4090-49a4-4eba-b703-068c834ca5aa",
   "metadata": {},
   "outputs": [
    {
     "data": {
      "text/plain": [
       "count    891.000000\n",
       "mean      32.204208\n",
       "std       49.693429\n",
       "min        0.000000\n",
       "25%        7.910400\n",
       "50%       14.454200\n",
       "75%       31.000000\n",
       "max      512.329200\n",
       "Name: Fare, dtype: float64"
      ]
     },
     "execution_count": 13,
     "metadata": {},
     "output_type": "execute_result"
    }
   ],
   "source": [
    "# train -> Fare 컬럼 기술통계량 확인\n",
    "# describe()\n",
    "# 중앙값, 평균값, 최빈값 중에서 어떤 대표값을 사용할 것인지 확인\n",
    "train['Fare'].describe()   # --> 중앙값을 사용해야 겠구나!"
   ]
  },
  {
   "cell_type": "code",
   "execution_count": 14,
   "id": "336b89a6-69d6-4c3a-9024-4b8276ecb456",
   "metadata": {},
   "outputs": [
    {
     "data": {
      "text/plain": [
       "0"
      ]
     },
     "execution_count": 14,
     "metadata": {},
     "output_type": "execute_result"
    }
   ],
   "source": [
    "# Pclass, Sex  -> Fare의 중앙값으로 결측치를 대체\n",
    "# 1, female -> Fare 중앙값\n",
    "# 1, male -> Fare 중앙값\n",
    "# 2, female -> Fare 중앙값\n",
    "# ....\n",
    "# train 데이터를 기준으로 승객 등급, 성별 그룹핑(groupby)\n",
    "# 중앙값 : median()\n",
    "train[['Pclass', 'Sex', 'Fare']].groupby(['Pclass', 'Sex']).median()\n",
    "\n",
    "# test['Fare'] 결측치 채워주기 -> 7.92500\n",
    "# 1.인덱싱  2. fillna\n",
    "test['Fare'] = test['Fare'].fillna(7.92500)\n",
    "test['Fare'].isnull().sum()  # null값이 잘 처리 됐는지 확인"
   ]
  },
  {
   "cell_type": "code",
   "execution_count": 15,
   "id": "f82cf729-59ad-4a3e-9116-d19fc8f57c27",
   "metadata": {},
   "outputs": [
    {
     "data": {
      "text/html": [
       "<div>\n",
       "<style scoped>\n",
       "    .dataframe tbody tr th:only-of-type {\n",
       "        vertical-align: middle;\n",
       "    }\n",
       "\n",
       "    .dataframe tbody tr th {\n",
       "        vertical-align: top;\n",
       "    }\n",
       "\n",
       "    .dataframe thead th {\n",
       "        text-align: right;\n",
       "    }\n",
       "</style>\n",
       "<table border=\"1\" class=\"dataframe\">\n",
       "  <thead>\n",
       "    <tr style=\"text-align: right;\">\n",
       "      <th></th>\n",
       "      <th>Pclass</th>\n",
       "      <th>Name</th>\n",
       "      <th>Sex</th>\n",
       "      <th>Age</th>\n",
       "      <th>SibSp</th>\n",
       "      <th>Parch</th>\n",
       "      <th>Ticket</th>\n",
       "      <th>Fare</th>\n",
       "      <th>Cabin</th>\n",
       "      <th>Embarked</th>\n",
       "    </tr>\n",
       "    <tr>\n",
       "      <th>PassengerId</th>\n",
       "      <th></th>\n",
       "      <th></th>\n",
       "      <th></th>\n",
       "      <th></th>\n",
       "      <th></th>\n",
       "      <th></th>\n",
       "      <th></th>\n",
       "      <th></th>\n",
       "      <th></th>\n",
       "      <th></th>\n",
       "    </tr>\n",
       "  </thead>\n",
       "  <tbody>\n",
       "  </tbody>\n",
       "</table>\n",
       "</div>"
      ],
      "text/plain": [
       "Empty DataFrame\n",
       "Columns: [Pclass, Name, Sex, Age, SibSp, Parch, Ticket, Fare, Cabin, Embarked]\n",
       "Index: []"
      ]
     },
     "execution_count": 15,
     "metadata": {},
     "output_type": "execute_result"
    }
   ],
   "source": [
    "test[test['Fare'].isnull()]"
   ]
  },
  {
   "cell_type": "markdown",
   "id": "1f1f8c18-80d2-4796-b373-4174a15f1445",
   "metadata": {},
   "source": [
    "- Age 결측치 채우기\n",
    "    - train, test 모두 채워줘야 한다\n",
    "    - 나이의 평균, 중앙값으로 결측치 채워주기\n",
    "    - 다른 컬럼과의 상관관계를 이용하여 결측치를 채워보자"
   ]
  },
  {
   "cell_type": "code",
   "execution_count": 16,
   "id": "20d6b4bd-c5a1-4a4c-8749-68b11ced2b63",
   "metadata": {},
   "outputs": [
    {
     "data": {
      "text/plain": [
       "count    714.000000\n",
       "mean      29.699118\n",
       "std       14.526497\n",
       "min        0.420000\n",
       "25%       20.125000\n",
       "50%       28.000000\n",
       "75%       38.000000\n",
       "max       80.000000\n",
       "Name: Age, dtype: float64"
      ]
     },
     "execution_count": 16,
     "metadata": {},
     "output_type": "execute_result"
    }
   ],
   "source": [
    "# 중앙값 vs 평균값?  -> 평균값(mean)\n",
    "# 기술통계량 : describe()\n",
    "train['Age'].describe()"
   ]
  },
  {
   "cell_type": "code",
   "execution_count": 17,
   "id": "9abecac4-d90b-45bb-91bf-ccfc5545ecf0",
   "metadata": {},
   "outputs": [
    {
     "data": {
      "text/plain": [
       "Age         1.000000\n",
       "Pclass      0.369226\n",
       "SibSp       0.308247\n",
       "Parch       0.189119\n",
       "Fare        0.096067\n",
       "Survived    0.077221\n",
       "Name: Age, dtype: float64"
      ]
     },
     "execution_count": 17,
     "metadata": {},
     "output_type": "execute_result"
    }
   ],
   "source": [
    "# Age 컬럼과 상관관계가 높은 컬럼 찾아보기  -> Pclass\n",
    "train.corr(numeric_only=True)['Age'].abs().sort_values(ascending = False)"
   ]
  },
  {
   "cell_type": "code",
   "execution_count": 18,
   "id": "8f33f5f5-dcdc-4574-965b-cad99cc284ab",
   "metadata": {},
   "outputs": [
    {
     "data": {
      "text/plain": [
       "Age    41.281386\n",
       "Name: (1, male), dtype: float64"
      ]
     },
     "execution_count": 18,
     "metadata": {},
     "output_type": "execute_result"
    }
   ],
   "source": [
    "# Pclass, Sex, Age 컬럼의 평균값 출력해보기\n",
    "gb1 = train[['Pclass', 'Sex', 'Age']].groupby(['Pclass', 'Sex']).mean()\n",
    "gb1\n",
    "\n",
    "# 나이의 결측치는 한개나 두개가 아니기 때문에\n",
    "# 결측치를 채울 수 있는 \"함수\"가 필요하다\n",
    "\n",
    "# 멀티인덱스(중복인덱스) 접근 방법\n",
    "gb1.loc[(1,'male')]"
   ]
  },
  {
   "cell_type": "code",
   "execution_count": 19,
   "id": "c8733d44-2b6f-4ec7-ae01-3160b6a61799",
   "metadata": {},
   "outputs": [
    {
     "data": {
      "text/html": [
       "<div>\n",
       "<style scoped>\n",
       "    .dataframe tbody tr th:only-of-type {\n",
       "        vertical-align: middle;\n",
       "    }\n",
       "\n",
       "    .dataframe tbody tr th {\n",
       "        vertical-align: top;\n",
       "    }\n",
       "\n",
       "    .dataframe thead th {\n",
       "        text-align: right;\n",
       "    }\n",
       "</style>\n",
       "<table border=\"1\" class=\"dataframe\">\n",
       "  <thead>\n",
       "    <tr style=\"text-align: right;\">\n",
       "      <th></th>\n",
       "      <th></th>\n",
       "      <th>Age</th>\n",
       "    </tr>\n",
       "    <tr>\n",
       "      <th>Pclass</th>\n",
       "      <th>Sex</th>\n",
       "      <th></th>\n",
       "    </tr>\n",
       "  </thead>\n",
       "  <tbody>\n",
       "    <tr>\n",
       "      <th rowspan=\"2\" valign=\"top\">1</th>\n",
       "      <th>female</th>\n",
       "      <td>34.611765</td>\n",
       "    </tr>\n",
       "    <tr>\n",
       "      <th>male</th>\n",
       "      <td>41.281386</td>\n",
       "    </tr>\n",
       "    <tr>\n",
       "      <th rowspan=\"2\" valign=\"top\">2</th>\n",
       "      <th>female</th>\n",
       "      <td>28.722973</td>\n",
       "    </tr>\n",
       "    <tr>\n",
       "      <th>male</th>\n",
       "      <td>30.740707</td>\n",
       "    </tr>\n",
       "    <tr>\n",
       "      <th rowspan=\"2\" valign=\"top\">3</th>\n",
       "      <th>female</th>\n",
       "      <td>21.750000</td>\n",
       "    </tr>\n",
       "    <tr>\n",
       "      <th>male</th>\n",
       "      <td>26.507589</td>\n",
       "    </tr>\n",
       "  </tbody>\n",
       "</table>\n",
       "</div>"
      ],
      "text/plain": [
       "                     Age\n",
       "Pclass Sex              \n",
       "1      female  34.611765\n",
       "       male    41.281386\n",
       "2      female  28.722973\n",
       "       male    30.740707\n",
       "3      female  21.750000\n",
       "       male    26.507589"
      ]
     },
     "execution_count": 19,
     "metadata": {},
     "output_type": "execute_result"
    }
   ],
   "source": [
    "gb1"
   ]
  },
  {
   "cell_type": "code",
   "execution_count": 20,
   "id": "d61e3218-f20c-4139-b6d2-4920b1b93781",
   "metadata": {},
   "outputs": [
    {
     "data": {
      "text/plain": [
       "0"
      ]
     },
     "execution_count": 20,
     "metadata": {},
     "output_type": "execute_result"
    }
   ],
   "source": [
    "# train, test\n",
    "train[train['Age'].isnull()]\n",
    "\n",
    "# 결측치를 채우기 위해서 각 승객의 등급, 성별을 확인한 후\n",
    "# Age의 평균값을 인덱싱해서 채워주자\n",
    "# 판다스 객체(DataFrame)의 특정 컬럼에 접근해서 데이터 값 전부 함수처리 하기 => apply()\n",
    "def prepro_age(row):\n",
    "    # 만약 나이가 결측치라면 값을 가져오고, 결측치가 아니라면 그냥 놔두는 함수\n",
    "    # row 1 사람의 정보\n",
    "    if np.isnan(row['Age']) : # 결측치를 확인하는 함수 np.isnan(대상)\n",
    "        return gb1.loc[(row['Pclass'], row['Sex'])]\n",
    "    else:  # 결측치가 아니라면 실행할 문장\n",
    "        return row['Age']\n",
    "\n",
    "train['Age'] = train.apply(prepro_age, axis = 1)\n",
    "train['Age'].isnull().sum()"
   ]
  },
  {
   "cell_type": "code",
   "execution_count": 21,
   "id": "886efe26-77bb-4ad8-aa08-a4d92a574529",
   "metadata": {},
   "outputs": [
    {
     "data": {
      "text/html": [
       "<div>\n",
       "<style scoped>\n",
       "    .dataframe tbody tr th:only-of-type {\n",
       "        vertical-align: middle;\n",
       "    }\n",
       "\n",
       "    .dataframe tbody tr th {\n",
       "        vertical-align: top;\n",
       "    }\n",
       "\n",
       "    .dataframe thead th {\n",
       "        text-align: right;\n",
       "    }\n",
       "</style>\n",
       "<table border=\"1\" class=\"dataframe\">\n",
       "  <thead>\n",
       "    <tr style=\"text-align: right;\">\n",
       "      <th></th>\n",
       "      <th>Survived</th>\n",
       "      <th>Pclass</th>\n",
       "      <th>Name</th>\n",
       "      <th>Sex</th>\n",
       "      <th>Age</th>\n",
       "      <th>SibSp</th>\n",
       "      <th>Parch</th>\n",
       "      <th>Ticket</th>\n",
       "      <th>Fare</th>\n",
       "      <th>Cabin</th>\n",
       "      <th>Embarked</th>\n",
       "    </tr>\n",
       "    <tr>\n",
       "      <th>PassengerId</th>\n",
       "      <th></th>\n",
       "      <th></th>\n",
       "      <th></th>\n",
       "      <th></th>\n",
       "      <th></th>\n",
       "      <th></th>\n",
       "      <th></th>\n",
       "      <th></th>\n",
       "      <th></th>\n",
       "      <th></th>\n",
       "      <th></th>\n",
       "    </tr>\n",
       "  </thead>\n",
       "  <tbody>\n",
       "  </tbody>\n",
       "</table>\n",
       "</div>"
      ],
      "text/plain": [
       "Empty DataFrame\n",
       "Columns: [Survived, Pclass, Name, Sex, Age, SibSp, Parch, Ticket, Fare, Cabin, Embarked]\n",
       "Index: []"
      ]
     },
     "execution_count": 21,
     "metadata": {},
     "output_type": "execute_result"
    }
   ],
   "source": [
    "train[train['Age'].isnull()]"
   ]
  },
  {
   "cell_type": "code",
   "execution_count": 22,
   "id": "22d0d23a-21a1-4b7f-a334-6f8d85c953b8",
   "metadata": {},
   "outputs": [
    {
     "data": {
      "text/plain": [
       "PassengerId\n",
       "1                                                22.0\n",
       "2                                                38.0\n",
       "3                                                26.0\n",
       "4                                                35.0\n",
       "5                                                35.0\n",
       "                            ...                      \n",
       "887                                              27.0\n",
       "888                                              19.0\n",
       "889    Age    21.75\n",
       "Name: (3, female), dtype: float64\n",
       "890                                              26.0\n",
       "891                                              32.0\n",
       "Name: Age, Length: 891, dtype: object"
      ]
     },
     "execution_count": 22,
     "metadata": {},
     "output_type": "execute_result"
    }
   ],
   "source": [
    "train[\"Age\"]"
   ]
  },
  {
   "cell_type": "code",
   "execution_count": 23,
   "id": "45de1320-666f-41ca-b066-e26eefc37c96",
   "metadata": {},
   "outputs": [
    {
     "name": "stderr",
     "output_type": "stream",
     "text": [
      "C:\\Users\\smhrd1\\AppData\\Local\\Temp\\ipykernel_19220\\3026282297.py:2: FutureWarning: Calling int on a single element Series is deprecated and will raise a TypeError in the future. Use int(ser.iloc[0]) instead\n",
      "  train['Age'] = train['Age'].astype(np.int64)\n"
     ]
    }
   ],
   "source": [
    "# 멀티인덱스 방식을 사용해서 함수를 쓰다보니 오류가 있는 것 같다!! -> 형변환\n",
    "train['Age'] = train['Age'].astype(np.int64)"
   ]
  },
  {
   "cell_type": "code",
   "execution_count": 24,
   "id": "15b2dc82-0ceb-45db-91c9-de284085e128",
   "metadata": {},
   "outputs": [
    {
     "data": {
      "text/plain": [
       "0"
      ]
     },
     "execution_count": 24,
     "metadata": {},
     "output_type": "execute_result"
    }
   ],
   "source": [
    "test['Age'] = test.apply(prepro_age, axis = 1)\n",
    "test['Age'].isnull().sum()"
   ]
  },
  {
   "cell_type": "code",
   "execution_count": 25,
   "id": "8b124b1e-e8fd-4995-a5c6-39f2e1073d63",
   "metadata": {},
   "outputs": [
    {
     "name": "stderr",
     "output_type": "stream",
     "text": [
      "C:\\Users\\smhrd1\\AppData\\Local\\Temp\\ipykernel_19220\\185668017.py:1: FutureWarning: Calling int on a single element Series is deprecated and will raise a TypeError in the future. Use int(ser.iloc[0]) instead\n",
      "  test['Age'] = test['Age'].astype(np.int64)\n"
     ]
    }
   ],
   "source": [
    "test['Age'] = test['Age'].astype(np.int64)"
   ]
  },
  {
   "cell_type": "markdown",
   "id": "1b92629e-a052-49e1-b47e-83be97d3806f",
   "metadata": {},
   "source": [
    "- train, test : Cabin(객실번호) 결측치 채우기!"
   ]
  },
  {
   "cell_type": "code",
   "execution_count": 26,
   "id": "b9430195-b70f-454d-8c1a-ca3f38bfd072",
   "metadata": {
    "scrolled": true
   },
   "outputs": [
    {
     "name": "stdout",
     "output_type": "stream",
     "text": [
      "<class 'pandas.core.frame.DataFrame'>\n",
      "Index: 891 entries, 1 to 891\n",
      "Data columns (total 11 columns):\n",
      " #   Column    Non-Null Count  Dtype  \n",
      "---  ------    --------------  -----  \n",
      " 0   Survived  891 non-null    int64  \n",
      " 1   Pclass    891 non-null    int64  \n",
      " 2   Name      891 non-null    object \n",
      " 3   Sex       891 non-null    object \n",
      " 4   Age       891 non-null    int64  \n",
      " 5   SibSp     891 non-null    int64  \n",
      " 6   Parch     891 non-null    int64  \n",
      " 7   Ticket    891 non-null    object \n",
      " 8   Fare      891 non-null    float64\n",
      " 9   Cabin     204 non-null    object \n",
      " 10  Embarked  891 non-null    object \n",
      "dtypes: float64(1), int64(5), object(5)\n",
      "memory usage: 83.5+ KB\n"
     ]
    }
   ],
   "source": [
    "train.info()"
   ]
  },
  {
   "cell_type": "code",
   "execution_count": 27,
   "id": "6cc57f5c-2357-4723-b160-98b2f2873f88",
   "metadata": {},
   "outputs": [
    {
     "name": "stdout",
     "output_type": "stream",
     "text": [
      "<class 'pandas.core.frame.DataFrame'>\n",
      "Index: 418 entries, 892 to 1309\n",
      "Data columns (total 10 columns):\n",
      " #   Column    Non-Null Count  Dtype  \n",
      "---  ------    --------------  -----  \n",
      " 0   Pclass    418 non-null    int64  \n",
      " 1   Name      418 non-null    object \n",
      " 2   Sex       418 non-null    object \n",
      " 3   Age       418 non-null    int64  \n",
      " 4   SibSp     418 non-null    int64  \n",
      " 5   Parch     418 non-null    int64  \n",
      " 6   Ticket    418 non-null    object \n",
      " 7   Fare      418 non-null    float64\n",
      " 8   Cabin     91 non-null     object \n",
      " 9   Embarked  418 non-null    object \n",
      "dtypes: float64(1), int64(4), object(5)\n",
      "memory usage: 35.9+ KB\n"
     ]
    }
   ],
   "source": [
    "test.info()"
   ]
  },
  {
   "cell_type": "code",
   "execution_count": 28,
   "id": "baa75a02-33c2-47ff-acae-cbcb0508bfc9",
   "metadata": {},
   "outputs": [
    {
     "data": {
      "text/plain": [
       "687"
      ]
     },
     "execution_count": 28,
     "metadata": {},
     "output_type": "execute_result"
    }
   ],
   "source": [
    "# train['Cabin'] 결측치가 몇 개 있을까?\n",
    "train['Cabin'].isnull().sum()  # 절반 이상이 결측치 687개"
   ]
  },
  {
   "cell_type": "code",
   "execution_count": 29,
   "id": "2b175693-d368-48b0-a0e0-d06a75351631",
   "metadata": {},
   "outputs": [
    {
     "data": {
      "text/plain": [
       "array([nan, 'C85', 'C123', 'E46', 'G6', 'C103', 'D56', 'A6',\n",
       "       'C23 C25 C27', 'B78', 'D33', 'B30', 'C52', 'B28', 'C83', 'F33',\n",
       "       'F G73', 'E31', 'A5', 'D10 D12', 'D26', 'C110', 'B58 B60', 'E101',\n",
       "       'F E69', 'D47', 'B86', 'F2', 'C2', 'E33', 'B19', 'A7', 'C49', 'F4',\n",
       "       'A32', 'B4', 'B80', 'A31', 'D36', 'D15', 'C93', 'C78', 'D35',\n",
       "       'C87', 'B77', 'E67', 'B94', 'C125', 'C99', 'C118', 'D7', 'A19',\n",
       "       'B49', 'D', 'C22 C26', 'C106', 'C65', 'E36', 'C54',\n",
       "       'B57 B59 B63 B66', 'C7', 'E34', 'C32', 'B18', 'C124', 'C91', 'E40',\n",
       "       'T', 'C128', 'D37', 'B35', 'E50', 'C82', 'B96 B98', 'E10', 'E44',\n",
       "       'A34', 'C104', 'C111', 'C92', 'E38', 'D21', 'E12', 'E63', 'A14',\n",
       "       'B37', 'C30', 'D20', 'B79', 'E25', 'D46', 'B73', 'C95', 'B38',\n",
       "       'B39', 'B22', 'C86', 'C70', 'A16', 'C101', 'C68', 'A10', 'E68',\n",
       "       'B41', 'A20', 'D19', 'D50', 'D9', 'A23', 'B50', 'A26', 'D48',\n",
       "       'E58', 'C126', 'B71', 'B51 B53 B55', 'D49', 'B5', 'B20', 'F G63',\n",
       "       'C62 C64', 'E24', 'C90', 'C45', 'E8', 'B101', 'D45', 'C46', 'D30',\n",
       "       'E121', 'D11', 'E77', 'F38', 'B3', 'D6', 'B82 B84', 'D17', 'A36',\n",
       "       'B102', 'B69', 'E49', 'C47', 'D28', 'E17', 'A24', 'C50', 'B42',\n",
       "       'C148'], dtype=object)"
      ]
     },
     "execution_count": 29,
     "metadata": {},
     "output_type": "execute_result"
    }
   ],
   "source": [
    "train['Cabin'].unique()"
   ]
  },
  {
   "cell_type": "code",
   "execution_count": 30,
   "id": "15543c1c-3fe4-44a9-ab5e-b4e0e03e54e7",
   "metadata": {},
   "outputs": [],
   "source": [
    "# 중복없이 값 확인\n",
    "# unique()\n",
    "train['Cabin'].unique()\n",
    "# 층 + 방번호 -> C85\n",
    "# 결측치에다가 임의로 'M' 값으로 채워주기\n",
    "# --> 나중에 층별로 생존확률에 영향을 미쳤을지 알아볼 때 이상치로 사용하기 위함\n",
    "# fillna()로 결측치를 처리한 후 Deck라는 컬럼을 새로 생성해서 담아주기\n",
    "\n",
    "train['Deck'] = train['Cabin'].fillna('M')\n",
    "test['Deck'] = test['Cabin'].fillna('M')"
   ]
  },
  {
   "cell_type": "code",
   "execution_count": 31,
   "id": "db7faf62-9bbc-431c-a4b8-77d566e883e3",
   "metadata": {},
   "outputs": [
    {
     "data": {
      "text/plain": [
       "PassengerId\n",
       "1      M\n",
       "2      C\n",
       "3      M\n",
       "4      C\n",
       "5      M\n",
       "      ..\n",
       "887    M\n",
       "888    B\n",
       "889    M\n",
       "890    C\n",
       "891    M\n",
       "Name: Deck, Length: 891, dtype: object"
      ]
     },
     "execution_count": 31,
     "metadata": {},
     "output_type": "execute_result"
    }
   ],
   "source": [
    "# Deck 컬럼에서 맨 첫글자 알파벳만 추출\n",
    "# -> 층별 생존확률 계산에 필요한 컬럼\n",
    "train['Deck'] = train['Deck'].str[0]\n",
    "test['Deck'] = test['Deck'].str[0]\n",
    "train['Deck']"
   ]
  },
  {
   "cell_type": "code",
   "execution_count": 32,
   "id": "d7b8b59c-f01b-45c9-a672-5edeb540658a",
   "metadata": {},
   "outputs": [],
   "source": [
    "# Cabin 컬럼 삭제\n",
    "# train, test\n",
    "train.drop('Cabin', axis = 1, inplace = True)\n",
    "test.drop('Cabin', axis = 1, inplace = True)"
   ]
  },
  {
   "cell_type": "code",
   "execution_count": 33,
   "id": "0c1f821a-59a7-41e1-93dc-2137f2d12b0e",
   "metadata": {},
   "outputs": [
    {
     "name": "stdout",
     "output_type": "stream",
     "text": [
      "<class 'pandas.core.frame.DataFrame'>\n",
      "Index: 891 entries, 1 to 891\n",
      "Data columns (total 11 columns):\n",
      " #   Column    Non-Null Count  Dtype  \n",
      "---  ------    --------------  -----  \n",
      " 0   Survived  891 non-null    int64  \n",
      " 1   Pclass    891 non-null    int64  \n",
      " 2   Name      891 non-null    object \n",
      " 3   Sex       891 non-null    object \n",
      " 4   Age       891 non-null    int64  \n",
      " 5   SibSp     891 non-null    int64  \n",
      " 6   Parch     891 non-null    int64  \n",
      " 7   Ticket    891 non-null    object \n",
      " 8   Fare      891 non-null    float64\n",
      " 9   Embarked  891 non-null    object \n",
      " 10  Deck      891 non-null    object \n",
      "dtypes: float64(1), int64(5), object(5)\n",
      "memory usage: 83.5+ KB\n"
     ]
    }
   ],
   "source": [
    "# info() 확인\n",
    "train.info()"
   ]
  },
  {
   "cell_type": "code",
   "execution_count": 34,
   "id": "b3ac45b2-0f55-4c32-8ed1-923537130c1c",
   "metadata": {},
   "outputs": [
    {
     "name": "stdout",
     "output_type": "stream",
     "text": [
      "<class 'pandas.core.frame.DataFrame'>\n",
      "Index: 418 entries, 892 to 1309\n",
      "Data columns (total 10 columns):\n",
      " #   Column    Non-Null Count  Dtype  \n",
      "---  ------    --------------  -----  \n",
      " 0   Pclass    418 non-null    int64  \n",
      " 1   Name      418 non-null    object \n",
      " 2   Sex       418 non-null    object \n",
      " 3   Age       418 non-null    int64  \n",
      " 4   SibSp     418 non-null    int64  \n",
      " 5   Parch     418 non-null    int64  \n",
      " 6   Ticket    418 non-null    object \n",
      " 7   Fare      418 non-null    float64\n",
      " 8   Embarked  418 non-null    object \n",
      " 9   Deck      418 non-null    object \n",
      "dtypes: float64(1), int64(4), object(5)\n",
      "memory usage: 35.9+ KB\n"
     ]
    }
   ],
   "source": [
    "test.info()"
   ]
  },
  {
   "cell_type": "markdown",
   "id": "8a13aa6a-265c-44ae-bf08-a39c87c92fc6",
   "metadata": {},
   "source": [
    "### EDA(탐색적 데이터 분석, Exploratory Data Anlaysis)\n",
    "- 이상치로 판단해야 되는지 시각화로 확인\n",
    "- 결측치를 임의의 알파벳 'M'으로 채운 Deck 컬럼이 과연 생존에 영향을 주는지?\n",
    "- 특성공학(Feature Engineering) : 컬럼 삭제, 컬럼 추가(합계, 평균, 나눠서...)"
   ]
  },
  {
   "cell_type": "code",
   "execution_count": 35,
   "id": "b9598f36-d33f-4efd-918a-b68c4dff2e13",
   "metadata": {},
   "outputs": [
    {
     "data": {
      "text/plain": [
       "count                         891\n",
       "unique                        891\n",
       "top       Braund, Mr. Owen Harris\n",
       "freq                            1\n",
       "Name: Name, dtype: object"
      ]
     },
     "execution_count": 35,
     "metadata": {},
     "output_type": "execute_result"
    }
   ],
   "source": [
    "train['Name'].describe()"
   ]
  },
  {
   "cell_type": "code",
   "execution_count": 36,
   "id": "323c8aca-5f7f-4427-bf3d-1a243a1d58d3",
   "metadata": {
    "scrolled": true
   },
   "outputs": [
    {
     "data": {
      "text/html": [
       "<div>\n",
       "<style scoped>\n",
       "    .dataframe tbody tr th:only-of-type {\n",
       "        vertical-align: middle;\n",
       "    }\n",
       "\n",
       "    .dataframe tbody tr th {\n",
       "        vertical-align: top;\n",
       "    }\n",
       "\n",
       "    .dataframe thead th {\n",
       "        text-align: right;\n",
       "    }\n",
       "</style>\n",
       "<table border=\"1\" class=\"dataframe\">\n",
       "  <thead>\n",
       "    <tr style=\"text-align: right;\">\n",
       "      <th></th>\n",
       "      <th></th>\n",
       "      <th>Name</th>\n",
       "    </tr>\n",
       "    <tr>\n",
       "      <th>Deck</th>\n",
       "      <th>Survived</th>\n",
       "      <th></th>\n",
       "    </tr>\n",
       "  </thead>\n",
       "  <tbody>\n",
       "    <tr>\n",
       "      <th rowspan=\"2\" valign=\"top\">A</th>\n",
       "      <th>0</th>\n",
       "      <td>8</td>\n",
       "    </tr>\n",
       "    <tr>\n",
       "      <th>1</th>\n",
       "      <td>7</td>\n",
       "    </tr>\n",
       "    <tr>\n",
       "      <th rowspan=\"2\" valign=\"top\">B</th>\n",
       "      <th>0</th>\n",
       "      <td>12</td>\n",
       "    </tr>\n",
       "    <tr>\n",
       "      <th>1</th>\n",
       "      <td>35</td>\n",
       "    </tr>\n",
       "    <tr>\n",
       "      <th rowspan=\"2\" valign=\"top\">C</th>\n",
       "      <th>0</th>\n",
       "      <td>24</td>\n",
       "    </tr>\n",
       "    <tr>\n",
       "      <th>1</th>\n",
       "      <td>35</td>\n",
       "    </tr>\n",
       "    <tr>\n",
       "      <th rowspan=\"2\" valign=\"top\">D</th>\n",
       "      <th>0</th>\n",
       "      <td>8</td>\n",
       "    </tr>\n",
       "    <tr>\n",
       "      <th>1</th>\n",
       "      <td>25</td>\n",
       "    </tr>\n",
       "    <tr>\n",
       "      <th rowspan=\"2\" valign=\"top\">E</th>\n",
       "      <th>0</th>\n",
       "      <td>8</td>\n",
       "    </tr>\n",
       "    <tr>\n",
       "      <th>1</th>\n",
       "      <td>24</td>\n",
       "    </tr>\n",
       "    <tr>\n",
       "      <th rowspan=\"2\" valign=\"top\">F</th>\n",
       "      <th>0</th>\n",
       "      <td>5</td>\n",
       "    </tr>\n",
       "    <tr>\n",
       "      <th>1</th>\n",
       "      <td>8</td>\n",
       "    </tr>\n",
       "    <tr>\n",
       "      <th rowspan=\"2\" valign=\"top\">G</th>\n",
       "      <th>0</th>\n",
       "      <td>2</td>\n",
       "    </tr>\n",
       "    <tr>\n",
       "      <th>1</th>\n",
       "      <td>2</td>\n",
       "    </tr>\n",
       "    <tr>\n",
       "      <th rowspan=\"2\" valign=\"top\">M</th>\n",
       "      <th>0</th>\n",
       "      <td>481</td>\n",
       "    </tr>\n",
       "    <tr>\n",
       "      <th>1</th>\n",
       "      <td>206</td>\n",
       "    </tr>\n",
       "    <tr>\n",
       "      <th>T</th>\n",
       "      <th>0</th>\n",
       "      <td>1</td>\n",
       "    </tr>\n",
       "  </tbody>\n",
       "</table>\n",
       "</div>"
      ],
      "text/plain": [
       "               Name\n",
       "Deck Survived      \n",
       "A    0            8\n",
       "     1            7\n",
       "B    0           12\n",
       "     1           35\n",
       "C    0           24\n",
       "     1           35\n",
       "D    0            8\n",
       "     1           25\n",
       "E    0            8\n",
       "     1           24\n",
       "F    0            5\n",
       "     1            8\n",
       "G    0            2\n",
       "     1            2\n",
       "M    0          481\n",
       "     1          206\n",
       "T    0            1"
      ]
     },
     "execution_count": 36,
     "metadata": {},
     "output_type": "execute_result"
    }
   ],
   "source": [
    "# Deck 컬럼에 대해 피봇테이블 만들어서 요약데이터 확인\n",
    "train.pivot_table(values = \"Name\", # 집계함수를 적용시킬 값(컬럼)\n",
    "                 index = [\"Deck\", \"Survived\"], # 묶을 기준\n",
    "                 aggfunc = \"count\") # 어떤 걸로 볼래? 평균, 합계, 빈도...\n",
    "\n",
    "# M(결측치) 데이터를 가진 사람들은 죽을 확률이 높다!"
   ]
  },
  {
   "cell_type": "code",
   "execution_count": 37,
   "id": "22c06abb-631d-47ad-a65c-f5a7e709dfba",
   "metadata": {},
   "outputs": [
    {
     "name": "stdout",
     "output_type": "stream",
     "text": [
      "<class 'pandas.core.frame.DataFrame'>\n",
      "Index: 891 entries, 1 to 891\n",
      "Data columns (total 11 columns):\n",
      " #   Column    Non-Null Count  Dtype  \n",
      "---  ------    --------------  -----  \n",
      " 0   Survived  891 non-null    int64  \n",
      " 1   Pclass    891 non-null    int64  \n",
      " 2   Name      891 non-null    object \n",
      " 3   Sex       891 non-null    object \n",
      " 4   Age       891 non-null    int64  \n",
      " 5   SibSp     891 non-null    int64  \n",
      " 6   Parch     891 non-null    int64  \n",
      " 7   Ticket    891 non-null    object \n",
      " 8   Fare      891 non-null    float64\n",
      " 9   Embarked  891 non-null    object \n",
      " 10  Deck      891 non-null    object \n",
      "dtypes: float64(1), int64(5), object(5)\n",
      "memory usage: 83.5+ KB\n"
     ]
    }
   ],
   "source": [
    "train.info()"
   ]
  },
  {
   "cell_type": "code",
   "execution_count": 38,
   "id": "b6acc4e6-29fb-452b-be5c-97225a5c34e7",
   "metadata": {},
   "outputs": [],
   "source": [
    "train['Survived'] = train['Survived'].astype(str)\n",
    "# jupyter notebook 최신 버전에서의 경고메세지\n",
    "# countplot 사용 시 hue 속성에 object형이 올거라고 기대했는데, 숫자형이 들어와 경고메세지!\n",
    "# 연산을 수행할 건 아니다보니까, str로 바꿔줌!"
   ]
  },
  {
   "cell_type": "code",
   "execution_count": 39,
   "id": "7df33431-9fa6-4001-aacf-b8692c244ff9",
   "metadata": {
    "scrolled": true
   },
   "outputs": [
    {
     "data": {
      "image/png": "[encoded data removed]",
      "text/plain": [
       "<Figure size 640x480 with 1 Axes>"
      ]
     },
     "metadata": {},
     "output_type": "display_data"
    }
   ],
   "source": [
    "# Deck 컬럼 시각화\n",
    "# Deck 컬럼의 결측치를 M으로 채웠는데, 사용 여부에 대해 시각화를 통해 확인\n",
    "sns.countplot(data = train, \n",
    "             x = \"Deck\", \n",
    "             hue = \"Survived\")\n",
    "plt.show()\n",
    "\n",
    "# Deck 컬럼은 삭제하지 않고, 활용하는 쪽으로 진행! -> 사망자가 월등히 높아서, 예측을 수행하는 데 있어서 지표로 삼아볼만 함!!"
   ]
  },
  {
   "cell_type": "code",
   "execution_count": 40,
   "id": "0fa5f8ff-b24e-4dd2-8cd5-4993a0744189",
   "metadata": {
    "scrolled": true
   },
   "outputs": [
    {
     "data": {
      "image/png": "[encoded data removed]",
      "text/plain": [
       "<Figure size 640x480 with 1 Axes>"
      ]
     },
     "metadata": {},
     "output_type": "display_data"
    }
   ],
   "source": [
    "# Pclass 시각화\n",
    "sns.countplot(data =train, \n",
    "             x = \"Pclass\", \n",
    "             hue = \"Survived\")\n",
    "plt.show()\n",
    "\n",
    "# 3등급인 경우 사망자 비율이 매우 높음\n",
    "# 1등급인 경우 생존자 비율이 조금 더 높음"
   ]
  },
  {
   "cell_type": "code",
   "execution_count": 41,
   "id": "6d69d731-f048-45cc-9298-daf46ca5094d",
   "metadata": {},
   "outputs": [],
   "source": [
    "train['Pclass'] = train['Pclass'].astype(str) # 문자형으로 업데이트!"
   ]
  },
  {
   "cell_type": "code",
   "execution_count": 42,
   "id": "7ecba33e-0ddd-47c5-8083-dd6aa3099c84",
   "metadata": {
    "scrolled": true
   },
   "outputs": [
    {
     "data": {
      "image/png": "[encoded data removed]",
      "text/plain": [
       "<Figure size 640x480 with 1 Axes>"
      ]
     },
     "metadata": {},
     "output_type": "display_data"
    }
   ],
   "source": [
    "# 3등급이였던 사람들을 확인해보니 사망자 비율이 높았음\n",
    "# Deck에서도 M(결측치)도 사망자 비율이 높았음\n",
    "# 3등급이였던 사람들이 결측치였을 확률이 높지 않을까??\n",
    "\n",
    "# Deck, Pclass 시각화\n",
    "sns.countplot(data = train, \n",
    "             x = \"Deck\",\n",
    "             hue = \"Pclass\")\n",
    "plt.show()\n",
    "# 결측치 였던 사람들 대부분이 3등급이였음 -> 3등급이면서 M이면 죽을 확률이 높아보임 -> 생존 여부에 영향을 크게 미침!"
   ]
  },
  {
   "cell_type": "code",
   "execution_count": 43,
   "id": "00fa78ce-5e9c-469d-a1fd-0c767a08dc84",
   "metadata": {},
   "outputs": [],
   "source": [
    "train['Pclass'] = train['Pclass'].astype(np.int64) # 원핫인코딩 진행이 안 되게끔 숫자형으로 다시 변경"
   ]
  },
  {
   "cell_type": "code",
   "execution_count": 44,
   "id": "cbf203fd-fadf-4c1f-bad3-3af4cdbd9df6",
   "metadata": {
    "scrolled": true
   },
   "outputs": [
    {
     "data": {
      "image/png": "[encoded data removed]",
      "text/plain": [
       "<Figure size 640x480 with 1 Axes>"
      ]
     },
     "metadata": {},
     "output_type": "display_data"
    }
   ],
   "source": [
    "# 성별 데이터 시각화\n",
    "sns.countplot(data = train, \n",
    "             x = \"Sex\", \n",
    "             hue = \"Survived\")\n",
    "plt.show()\n",
    "\n",
    "# 남성인 경우 죽을 확률이 높았다! -> Deck가 'M'이면서, Pclass이 3이면서, 남성인 경우 죽을 확률이 매우 높아짐!\n",
    "# 여성인 경우 생존할 확률이 높았다!"
   ]
  },
  {
   "cell_type": "code",
   "execution_count": 45,
   "id": "0d2d2768-56df-48ed-bf78-9fc69a68c817",
   "metadata": {
    "scrolled": true
   },
   "outputs": [
    {
     "data": {
      "image/png": "[encoded data removed]",
      "text/plain": [
       "<Figure size 640x480 with 1 Axes>"
      ]
     },
     "metadata": {},
     "output_type": "display_data"
    }
   ],
   "source": [
    "# 승선항에 따른 생존 여부 비율 확인\n",
    "sns.countplot(data = train, \n",
    "             x = \"Embarked\", \n",
    "             hue = \"Survived\")\n",
    "plt.show()\n",
    "\n",
    "# S항구에서 탑승한 인원이 사망 확률이 높다 (추측 : 3등급이 많이 타지않았을까?)\n",
    "# C항구는 생존자가 조금 더 많다\n",
    "# Q항구는 사망자가 조금 더 많다"
   ]
  },
  {
   "cell_type": "code",
   "execution_count": 46,
   "id": "eceb1b68-b572-44ff-9280-92c3788ecf21",
   "metadata": {
    "scrolled": true
   },
   "outputs": [
    {
     "data": {
      "image/png": "[encoded data removed]",
      "text/plain": [
       "<Figure size 640x480 with 1 Axes>"
      ]
     },
     "metadata": {},
     "output_type": "display_data"
    }
   ],
   "source": [
    "# 나이 시각화\n",
    "sns.countplot(\n",
    "    data = train, \n",
    "    x = \"Age\", \n",
    "    hue = \"Survived\"\n",
    ")\n",
    "plt.show()\n",
    "\n",
    "# 나이데이터를 countplot으로 시각화 했더니, 해석하기가 힘듬"
   ]
  },
  {
   "cell_type": "code",
   "execution_count": 47,
   "id": "60eddf44-2c0e-48e9-8b84-00b3d7966f9b",
   "metadata": {
    "scrolled": true
   },
   "outputs": [
    {
     "data": {
      "image/png": "[encoded data removed]",
      "text/plain": [
       "<Figure size 640x480 with 1 Axes>"
      ]
     },
     "metadata": {},
     "output_type": "display_data"
    }
   ],
   "source": [
    "# 바이올린 플롯 : 바이올린 형태로 데이터의 분포와 밀도를 보기 좋게 곡선으로 표현한 그래프\n",
    "# 데이터가 많이 존재하는 부분은 두껍게\n",
    "# 데이터가 적게 존재하는 부분은 얇게\n",
    "\n",
    "sns.violinplot(\n",
    "    data = train, \n",
    "    x = \"Sex\", \n",
    "    y = \"Age\", \n",
    "    hue = \"Survived\", \n",
    "    split = True\n",
    ")\n",
    "plt.show()\n",
    "\n",
    "# 20대 ~ 40대 사이의 탑승자가 많음을 확인\n",
    "# 어린아이들 중에서 남자아이가 유독 생존자가 많음을 확인 -> 남아선호사상의 관념이 자리잡혀 있었음 -> 혈통을 유지하기 위해...!"
   ]
  },
  {
   "cell_type": "code",
   "execution_count": 48,
   "id": "78cc4b3b-4de2-4cae-9acf-17dfeeaf18e8",
   "metadata": {
    "scrolled": true
   },
   "outputs": [
    {
     "name": "stdout",
     "output_type": "stream",
     "text": [
      "<class 'pandas.core.frame.DataFrame'>\n",
      "Index: 891 entries, 1 to 891\n",
      "Data columns (total 11 columns):\n",
      " #   Column    Non-Null Count  Dtype  \n",
      "---  ------    --------------  -----  \n",
      " 0   Survived  891 non-null    object \n",
      " 1   Pclass    891 non-null    int64  \n",
      " 2   Name      891 non-null    object \n",
      " 3   Sex       891 non-null    object \n",
      " 4   Age       891 non-null    int64  \n",
      " 5   SibSp     891 non-null    int64  \n",
      " 6   Parch     891 non-null    int64  \n",
      " 7   Ticket    891 non-null    object \n",
      " 8   Fare      891 non-null    float64\n",
      " 9   Embarked  891 non-null    object \n",
      " 10  Deck      891 non-null    object \n",
      "dtypes: float64(1), int64(4), object(6)\n",
      "memory usage: 83.5+ KB\n"
     ]
    }
   ],
   "source": [
    "train.info()"
   ]
  },
  {
   "cell_type": "code",
   "execution_count": 49,
   "id": "dc2067a0-8d3d-4012-a5e9-7f0bf23466fd",
   "metadata": {},
   "outputs": [
    {
     "data": {
      "text/html": [
       "<div>\n",
       "<style scoped>\n",
       "    .dataframe tbody tr th:only-of-type {\n",
       "        vertical-align: middle;\n",
       "    }\n",
       "\n",
       "    .dataframe tbody tr th {\n",
       "        vertical-align: top;\n",
       "    }\n",
       "\n",
       "    .dataframe thead th {\n",
       "        text-align: right;\n",
       "    }\n",
       "</style>\n",
       "<table border=\"1\" class=\"dataframe\">\n",
       "  <thead>\n",
       "    <tr style=\"text-align: right;\">\n",
       "      <th></th>\n",
       "      <th>Survived</th>\n",
       "      <th>Pclass</th>\n",
       "      <th>Name</th>\n",
       "      <th>Sex</th>\n",
       "      <th>Age</th>\n",
       "      <th>SibSp</th>\n",
       "      <th>Parch</th>\n",
       "      <th>Ticket</th>\n",
       "      <th>Fare</th>\n",
       "      <th>Embarked</th>\n",
       "      <th>Deck</th>\n",
       "    </tr>\n",
       "    <tr>\n",
       "      <th>PassengerId</th>\n",
       "      <th></th>\n",
       "      <th></th>\n",
       "      <th></th>\n",
       "      <th></th>\n",
       "      <th></th>\n",
       "      <th></th>\n",
       "      <th></th>\n",
       "      <th></th>\n",
       "      <th></th>\n",
       "      <th></th>\n",
       "      <th></th>\n",
       "    </tr>\n",
       "  </thead>\n",
       "  <tbody>\n",
       "    <tr>\n",
       "      <th>1</th>\n",
       "      <td>0</td>\n",
       "      <td>3</td>\n",
       "      <td>Braund, Mr. Owen Harris</td>\n",
       "      <td>male</td>\n",
       "      <td>22</td>\n",
       "      <td>1</td>\n",
       "      <td>0</td>\n",
       "      <td>A/5 21171</td>\n",
       "      <td>7.2500</td>\n",
       "      <td>S</td>\n",
       "      <td>M</td>\n",
       "    </tr>\n",
       "    <tr>\n",
       "      <th>2</th>\n",
       "      <td>1</td>\n",
       "      <td>1</td>\n",
       "      <td>Cumings, Mrs. John Bradley (Florence Briggs Th...</td>\n",
       "      <td>female</td>\n",
       "      <td>38</td>\n",
       "      <td>1</td>\n",
       "      <td>0</td>\n",
       "      <td>PC 17599</td>\n",
       "      <td>71.2833</td>\n",
       "      <td>C</td>\n",
       "      <td>C</td>\n",
       "    </tr>\n",
       "    <tr>\n",
       "      <th>3</th>\n",
       "      <td>1</td>\n",
       "      <td>3</td>\n",
       "      <td>Heikkinen, Miss. Laina</td>\n",
       "      <td>female</td>\n",
       "      <td>26</td>\n",
       "      <td>0</td>\n",
       "      <td>0</td>\n",
       "      <td>STON/O2. 3101282</td>\n",
       "      <td>7.9250</td>\n",
       "      <td>S</td>\n",
       "      <td>M</td>\n",
       "    </tr>\n",
       "    <tr>\n",
       "      <th>4</th>\n",
       "      <td>1</td>\n",
       "      <td>1</td>\n",
       "      <td>Futrelle, Mrs. Jacques Heath (Lily May Peel)</td>\n",
       "      <td>female</td>\n",
       "      <td>35</td>\n",
       "      <td>1</td>\n",
       "      <td>0</td>\n",
       "      <td>113803</td>\n",
       "      <td>53.1000</td>\n",
       "      <td>S</td>\n",
       "      <td>C</td>\n",
       "    </tr>\n",
       "    <tr>\n",
       "      <th>5</th>\n",
       "      <td>0</td>\n",
       "      <td>3</td>\n",
       "      <td>Allen, Mr. William Henry</td>\n",
       "      <td>male</td>\n",
       "      <td>35</td>\n",
       "      <td>0</td>\n",
       "      <td>0</td>\n",
       "      <td>373450</td>\n",
       "      <td>8.0500</td>\n",
       "      <td>S</td>\n",
       "      <td>M</td>\n",
       "    </tr>\n",
       "  </tbody>\n",
       "</table>\n",
       "</div>"
      ],
      "text/plain": [
       "            Survived  Pclass  \\\n",
       "PassengerId                    \n",
       "1                  0       3   \n",
       "2                  1       1   \n",
       "3                  1       3   \n",
       "4                  1       1   \n",
       "5                  0       3   \n",
       "\n",
       "                                                          Name     Sex  Age  \\\n",
       "PassengerId                                                                   \n",
       "1                                      Braund, Mr. Owen Harris    male   22   \n",
       "2            Cumings, Mrs. John Bradley (Florence Briggs Th...  female   38   \n",
       "3                                       Heikkinen, Miss. Laina  female   26   \n",
       "4                 Futrelle, Mrs. Jacques Heath (Lily May Peel)  female   35   \n",
       "5                                     Allen, Mr. William Henry    male   35   \n",
       "\n",
       "             SibSp  Parch            Ticket     Fare Embarked Deck  \n",
       "PassengerId                                                         \n",
       "1                1      0         A/5 21171   7.2500        S    M  \n",
       "2                1      0          PC 17599  71.2833        C    C  \n",
       "3                0      0  STON/O2. 3101282   7.9250        S    M  \n",
       "4                1      0            113803  53.1000        S    C  \n",
       "5                0      0            373450   8.0500        S    M  "
      ]
     },
     "execution_count": 49,
     "metadata": {},
     "output_type": "execute_result"
    }
   ],
   "source": [
    "train.head()\n",
    "# SibSp : 형제, 자매, 배우자의 수\n",
    "# Parch : 부모, 자녀의 수"
   ]
  },
  {
   "cell_type": "markdown",
   "id": "cf758d0f-0663-45d3-b0f1-3d3ff9b4914c",
   "metadata": {},
   "source": [
    "### 특성공학(Feature engineering)\n",
    "- 특성들을 파악하여 합치거나, 나누었을 때 유의미한 결과를 내도록 변형\n",
    "- Parch, SibSp 두 특성을 합치면 가족 구성원이라는 새로운 특성을 만들어볼 수 있음 -> Family"
   ]
  },
  {
   "cell_type": "code",
   "execution_count": 50,
   "id": "72105a7f-3d47-4700-9f92-91f574364e06",
   "metadata": {},
   "outputs": [],
   "source": [
    "train[\"Family\"] = train['Parch'] + train[\"SibSp\"] + 1 # 나 자신 더해주기!\n",
    "test[\"Family\"] = test['Parch'] + test[\"SibSp\"] + 1 # test set도 동일한 입력 특성의 개수를 위해 맞춰주기!"
   ]
  },
  {
   "cell_type": "code",
   "execution_count": 51,
   "id": "e8a247d8-d120-4286-a5ae-e45455ab9583",
   "metadata": {
    "scrolled": true
   },
   "outputs": [
    {
     "name": "stdout",
     "output_type": "stream",
     "text": [
      "<class 'pandas.core.frame.DataFrame'>\n",
      "Index: 891 entries, 1 to 891\n",
      "Data columns (total 12 columns):\n",
      " #   Column    Non-Null Count  Dtype  \n",
      "---  ------    --------------  -----  \n",
      " 0   Survived  891 non-null    object \n",
      " 1   Pclass    891 non-null    int64  \n",
      " 2   Name      891 non-null    object \n",
      " 3   Sex       891 non-null    object \n",
      " 4   Age       891 non-null    int64  \n",
      " 5   SibSp     891 non-null    int64  \n",
      " 6   Parch     891 non-null    int64  \n",
      " 7   Ticket    891 non-null    object \n",
      " 8   Fare      891 non-null    float64\n",
      " 9   Embarked  891 non-null    object \n",
      " 10  Deck      891 non-null    object \n",
      " 11  Family    891 non-null    int64  \n",
      "dtypes: float64(1), int64(5), object(6)\n",
      "memory usage: 90.5+ KB\n"
     ]
    }
   ],
   "source": [
    "train.info()"
   ]
  },
  {
   "cell_type": "code",
   "execution_count": 52,
   "id": "7b27f611-4ff5-46db-a72d-83e77da38c2b",
   "metadata": {
    "scrolled": true
   },
   "outputs": [
    {
     "data": {
      "image/png": "[encoded data removed]",
      "text/plain": [
       "<Figure size 640x480 with 1 Axes>"
      ]
     },
     "metadata": {},
     "output_type": "display_data"
    }
   ],
   "source": [
    "# 가족 구성원 수에 따른 생존 비율\n",
    "sns.countplot(\n",
    "    data = train, \n",
    "    x = \"Family\",\n",
    "    hue = \"Survived\"\n",
    ")\n",
    "plt.show()\n",
    "# 1명일 때 사망 비율이 높다!\n",
    "# 2 ~ 4명일 때 생존 비율이 조금 더 높다!\n",
    "# 5명 이상일 때 사망비율이 높다!\n",
    "# 사소한 관찰의 오류 : 데이터가 한쪽으로 편향되어 있다보니, 비교적 특징이 잘 안 보임...\n",
    "# -> 범주화(Bining) : 숫자형을 문자형으로 변환!"
   ]
  },
  {
   "cell_type": "code",
   "execution_count": 53,
   "id": "6843f514-eaaa-45b7-ac26-aa6d2701c68a",
   "metadata": {},
   "outputs": [],
   "source": [
    "# 카테고리화  진행\n",
    "# Family -> 1:'Alone', 2~4:'Small', 5~:'Large'\n",
    "bins = [0, 1, 4, 11]\n",
    "labels = ['Alone', 'Small', 'Large']\n",
    "\n",
    "train[\"Family\"] = pd.cut(train[\"Family\"], bins = bins, labels = labels)\n",
    "test[\"Family\"] = pd.cut(test[\"Family\"], bins = bins, labels = labels)"
   ]
  },
  {
   "cell_type": "code",
   "execution_count": 54,
   "id": "38e130e9-ee7a-4fe0-8eba-3873d069f753",
   "metadata": {},
   "outputs": [
    {
     "data": {
      "text/plain": [
       "PassengerId\n",
       "1      Small\n",
       "2      Small\n",
       "3      Alone\n",
       "4      Small\n",
       "5      Alone\n",
       "       ...  \n",
       "887    Alone\n",
       "888    Alone\n",
       "889    Small\n",
       "890    Alone\n",
       "891    Alone\n",
       "Name: Family, Length: 891, dtype: category\n",
       "Categories (3, object): ['Alone' < 'Small' < 'Large']"
      ]
     },
     "execution_count": 54,
     "metadata": {},
     "output_type": "execute_result"
    }
   ],
   "source": [
    "train[\"Family\"]"
   ]
  },
  {
   "cell_type": "code",
   "execution_count": 55,
   "id": "21bf1963-f51f-47ba-9eee-8ac7af2046ce",
   "metadata": {
    "scrolled": true
   },
   "outputs": [
    {
     "name": "stderr",
     "output_type": "stream",
     "text": [
      "C:\\Users\\smhrd1\\anaconda3\\Lib\\site-packages\\seaborn\\categorical.py:641: FutureWarning: The default of observed=False is deprecated and will be changed to True in a future version of pandas. Pass observed=False to retain current behavior or observed=True to adopt the future default and silence this warning.\n",
      "  grouped_vals = vals.groupby(grouper)\n",
      "C:\\Users\\smhrd1\\anaconda3\\Lib\\site-packages\\seaborn\\categorical.py:641: FutureWarning: The default of observed=False is deprecated and will be changed to True in a future version of pandas. Pass observed=False to retain current behavior or observed=True to adopt the future default and silence this warning.\n",
      "  grouped_vals = vals.groupby(grouper)\n"
     ]
    },
    {
     "data": {
      "image/png": "[encoded data removed]",
      "text/plain": [
       "<Figure size 640x480 with 1 Axes>"
      ]
     },
     "metadata": {},
     "output_type": "display_data"
    }
   ],
   "source": [
    "sns.countplot(\n",
    "    data = train, \n",
    "    x = \"Family\",\n",
    "    hue = \"Survived\"\n",
    ")\n",
    "plt.show()\n",
    "# 범주화를 진행하여 시각화를 수행하니, 좀 더 명확한 특징을 파악할 수 있었음!\n",
    "# 1명일 때와 5명 이상일 때 사망 비율이 좀 더 높았음! -> 사소한 분석 오류를 피할 수 있다!"
   ]
  },
  {
   "cell_type": "code",
   "execution_count": 56,
   "id": "f6b65f11-34d4-48b0-ab9a-a17e90d3d116",
   "metadata": {
    "scrolled": true
   },
   "outputs": [
    {
     "name": "stdout",
     "output_type": "stream",
     "text": [
      "<class 'pandas.core.frame.DataFrame'>\n",
      "Index: 891 entries, 1 to 891\n",
      "Data columns (total 12 columns):\n",
      " #   Column    Non-Null Count  Dtype   \n",
      "---  ------    --------------  -----   \n",
      " 0   Survived  891 non-null    object  \n",
      " 1   Pclass    891 non-null    int64   \n",
      " 2   Name      891 non-null    object  \n",
      " 3   Sex       891 non-null    object  \n",
      " 4   Age       891 non-null    int64   \n",
      " 5   SibSp     891 non-null    int64   \n",
      " 6   Parch     891 non-null    int64   \n",
      " 7   Ticket    891 non-null    object  \n",
      " 8   Fare      891 non-null    float64 \n",
      " 9   Embarked  891 non-null    object  \n",
      " 10  Deck      891 non-null    object  \n",
      " 11  Family    891 non-null    category\n",
      "dtypes: category(1), float64(1), int64(4), object(6)\n",
      "memory usage: 84.5+ KB\n"
     ]
    }
   ],
   "source": [
    "train.info()"
   ]
  },
  {
   "cell_type": "code",
   "execution_count": 57,
   "id": "dcc55c9e-3f38-464e-bfbe-e80dcef43ee4",
   "metadata": {},
   "outputs": [
    {
     "data": {
      "text/plain": [
       "PassengerId\n",
       "1                                Braund, Mr. Owen Harris\n",
       "2      Cumings, Mrs. John Bradley (Florence Briggs Th...\n",
       "3                                 Heikkinen, Miss. Laina\n",
       "4           Futrelle, Mrs. Jacques Heath (Lily May Peel)\n",
       "5                               Allen, Mr. William Henry\n",
       "                             ...                        \n",
       "887                                Montvila, Rev. Juozas\n",
       "888                         Graham, Miss. Margaret Edith\n",
       "889             Johnston, Miss. Catherine Helen \"Carrie\"\n",
       "890                                Behr, Mr. Karl Howell\n",
       "891                                  Dooley, Mr. Patrick\n",
       "Name: Name, Length: 891, dtype: object"
      ]
     },
     "execution_count": 57,
     "metadata": {},
     "output_type": "execute_result"
    }
   ],
   "source": [
    "train['Name']\n",
    "# 성, 호칭. 이름\n",
    "# 미스터, 미스, 닥터... -> 호칭들만 추출해서, 생존 여부에 영향을 주는지 파악해보자!"
   ]
  },
  {
   "cell_type": "code",
   "execution_count": 58,
   "id": "81c86201-d676-4461-aead-fd620f5d8355",
   "metadata": {},
   "outputs": [
    {
     "data": {
      "text/plain": [
       "'Mr'"
      ]
     },
     "execution_count": 58,
     "metadata": {},
     "output_type": "execute_result"
    }
   ],
   "source": [
    "# 호칭추출\n",
    "# train[\"Name\"][1].split(\",\") : \",\"를 기준으로 문자열 분리\n",
    "# train[\"Name\"][1].split(\",\")[1] : 호칭과 이름이 담긴 문자열 요소를 인덱싱\n",
    "# train[\"Name\"][1].split(\",\")[1].split(\".\") : \".\"를 기준으로 문자열 분리\n",
    "# train[\"Name\"][1].split(\",\")[1].split(\".\")[0] : 호칭이 담긴 문자열 요소를 인덱싱\n",
    "# strip() : 공백 제거\n",
    "train[\"Name\"][5].split(\",\")[1].split(\".\")[0].strip()"
   ]
  },
  {
   "cell_type": "code",
   "execution_count": 59,
   "id": "3830be49-34dc-440c-b23f-94fbe310d605",
   "metadata": {},
   "outputs": [],
   "source": [
    "# Name의 모든 데이터에 호칭을 추출하기 위해 함수 정의\n",
    "def split_name(data) :\n",
    "    return data.split(\",\")[1].split(\".\")[0].strip()"
   ]
  },
  {
   "cell_type": "code",
   "execution_count": 60,
   "id": "55a697ba-a9f2-4145-a0c9-0f46ea28194b",
   "metadata": {},
   "outputs": [],
   "source": [
    "# apply(1D) 적용\n",
    "train[\"Title\"] = train[\"Name\"].apply(split_name)\n",
    "test[\"Title\"] = test[\"Name\"].apply(split_name)"
   ]
  },
  {
   "cell_type": "code",
   "execution_count": 61,
   "id": "110733ea-fb30-47f8-870a-f725c1a149d7",
   "metadata": {
    "scrolled": true
   },
   "outputs": [
    {
     "data": {
      "text/plain": [
       "array(['Mr', 'Mrs', 'Miss', 'Master', 'Don', 'Rev', 'Dr', 'Mme', 'Ms',\n",
       "       'Major', 'Lady', 'Sir', 'Mlle', 'Col', 'Capt', 'the Countess',\n",
       "       'Jonkheer'], dtype=object)"
      ]
     },
     "execution_count": 61,
     "metadata": {},
     "output_type": "execute_result"
    }
   ],
   "source": [
    "train['Title'].unique()"
   ]
  },
  {
   "cell_type": "code",
   "execution_count": 62,
   "id": "27988f51-5cdb-4fea-813a-347618cc2242",
   "metadata": {
    "scrolled": true
   },
   "outputs": [
    {
     "data": {
      "image/png": "[encoded data removed]",
      "text/plain": [
       "<Figure size 1500x500 with 1 Axes>"
      ]
     },
     "metadata": {},
     "output_type": "display_data"
    }
   ],
   "source": [
    "plt.figure(figsize = (15, 5))\n",
    "sns.countplot(\n",
    "    data = train, \n",
    "    x = \"Title\", \n",
    "    hue = \"Survived\"\n",
    ")\n",
    "plt.ylim(0, 10)\n",
    "plt.show()"
   ]
  },
  {
   "cell_type": "code",
   "execution_count": 63,
   "id": "763f32ef-7ed2-42c5-993b-6f4ba48eb2b5",
   "metadata": {},
   "outputs": [
    {
     "data": {
      "text/plain": [
       "array(['Mr', 'Mrs', 'Miss', 'Master', 'Don', 'Rev', 'Dr', 'Mme', 'Ms',\n",
       "       'Major', 'Lady', 'Sir', 'Mlle', 'Col', 'Capt', 'the Countess',\n",
       "       'Jonkheer'], dtype=object)"
      ]
     },
     "execution_count": 63,
     "metadata": {},
     "output_type": "execute_result"
    }
   ],
   "source": [
    "train['Title'].unique()"
   ]
  },
  {
   "cell_type": "code",
   "execution_count": 64,
   "id": "7ee4013a-c4c8-4180-a270-c0d04f7b252e",
   "metadata": {
    "scrolled": true
   },
   "outputs": [],
   "source": [
    "# title = list(train['Title'].unique()) # 매핑되는 순서를 맞춰줘야 함!!"
   ]
  },
  {
   "cell_type": "code",
   "execution_count": 65,
   "id": "304af002-1ed2-428d-bc35-52b008c2d795",
   "metadata": {
    "scrolled": true
   },
   "outputs": [],
   "source": [
    "# 매핑되는 순서를 고려하여 'Don'과 'Rev' 호칭을 순서를 바꿔줌\n",
    "title = ['Mr', 'Mrs', 'Miss', 'Master', 'Rev', 'Don', 'Dr', 'Mme', 'Ms', 'Major', 'Lady', 'Sir', 'Mlle', 'Col', 'Capt', 'the Countess', 'Jonkheer']"
   ]
  },
  {
   "cell_type": "code",
   "execution_count": 66,
   "id": "fb91532f-fe3c-48ab-883c-3e2536998083",
   "metadata": {},
   "outputs": [],
   "source": [
    "# 우리가 생각하기에 중요한 호칭들은 그대로 사용하고 나머지는 other로 바꿔주기 위해 map 인수에 들어갈 딕셔너리의 value 값 생성\n",
    "convert_title = ['Mr', 'Mrs', 'Miss', 'Master', 'Rev'] + ['Other'] * 12"
   ]
  },
  {
   "cell_type": "code",
   "execution_count": 67,
   "id": "97aa7f93-b560-4e2e-a91e-30224554bdcd",
   "metadata": {
    "scrolled": true
   },
   "outputs": [],
   "source": [
    "# dict 만들기\n",
    "title_dict = dict(zip(title, convert_title))"
   ]
  },
  {
   "cell_type": "code",
   "execution_count": 68,
   "id": "5f56f413-9285-46bc-a9a5-fa4e0d6f0cdc",
   "metadata": {},
   "outputs": [],
   "source": [
    "# map : 딕셔너리를 인자로 받음, key을 value로 바꾸는 기능(라벨 인코딩 때도 활용)\n",
    "\n",
    "train[\"Title\"] = train[\"Title\"].map(title_dict)"
   ]
  },
  {
   "cell_type": "code",
   "execution_count": 69,
   "id": "ac508b85-fafd-4533-9788-fb0113136cf0",
   "metadata": {},
   "outputs": [
    {
     "data": {
      "text/plain": [
       "array(['Mr', 'Mrs', 'Miss', 'Master', 'Other', 'Rev'], dtype=object)"
      ]
     },
     "execution_count": 69,
     "metadata": {},
     "output_type": "execute_result"
    }
   ],
   "source": [
    "train[\"Title\"].unique()"
   ]
  },
  {
   "cell_type": "code",
   "execution_count": 70,
   "id": "c97f9c99-8b00-4be7-b63d-855420c48804",
   "metadata": {},
   "outputs": [
    {
     "data": {
      "text/plain": [
       "array(['Mr', 'Mrs', 'Miss', 'Master', 'Other', 'Rev', nan], dtype=object)"
      ]
     },
     "execution_count": 70,
     "metadata": {},
     "output_type": "execute_result"
    }
   ],
   "source": [
    "test[\"Title\"].map(title_dict).unique() \n",
    "# nan -> map 함수 사용할 때 key값들 중 해당되지 않는 요소가 존재한다면, nan으로 반환"
   ]
  },
  {
   "cell_type": "code",
   "execution_count": 71,
   "id": "38edd0cf-b356-4842-8885-086d89ee33c5",
   "metadata": {},
   "outputs": [
    {
     "data": {
      "text/plain": [
       "{'Dona'}"
      ]
     },
     "execution_count": 71,
     "metadata": {},
     "output_type": "execute_result"
    }
   ],
   "source": [
    "# 집합 : set(), 중복이 없음, 순서가 없음\n",
    "\n",
    "# test Title에서 train Title 빼기 -> Dona\n",
    "# Dona가 test set에만 있는 Title!\n",
    "set(test[\"Title\"].unique()) - set(title)"
   ]
  },
  {
   "cell_type": "code",
   "execution_count": 72,
   "id": "52330dc3-4bcc-4e64-94ae-4ea6be350280",
   "metadata": {},
   "outputs": [
    {
     "data": {
      "text/html": [
       "<div>\n",
       "<style scoped>\n",
       "    .dataframe tbody tr th:only-of-type {\n",
       "        vertical-align: middle;\n",
       "    }\n",
       "\n",
       "    .dataframe tbody tr th {\n",
       "        vertical-align: top;\n",
       "    }\n",
       "\n",
       "    .dataframe thead th {\n",
       "        text-align: right;\n",
       "    }\n",
       "</style>\n",
       "<table border=\"1\" class=\"dataframe\">\n",
       "  <thead>\n",
       "    <tr style=\"text-align: right;\">\n",
       "      <th></th>\n",
       "      <th>Pclass</th>\n",
       "      <th>Name</th>\n",
       "      <th>Sex</th>\n",
       "      <th>Age</th>\n",
       "      <th>SibSp</th>\n",
       "      <th>Parch</th>\n",
       "      <th>Ticket</th>\n",
       "      <th>Fare</th>\n",
       "      <th>Embarked</th>\n",
       "      <th>Deck</th>\n",
       "      <th>Family</th>\n",
       "      <th>Title</th>\n",
       "    </tr>\n",
       "    <tr>\n",
       "      <th>PassengerId</th>\n",
       "      <th></th>\n",
       "      <th></th>\n",
       "      <th></th>\n",
       "      <th></th>\n",
       "      <th></th>\n",
       "      <th></th>\n",
       "      <th></th>\n",
       "      <th></th>\n",
       "      <th></th>\n",
       "      <th></th>\n",
       "      <th></th>\n",
       "      <th></th>\n",
       "    </tr>\n",
       "  </thead>\n",
       "  <tbody>\n",
       "    <tr>\n",
       "      <th>1306</th>\n",
       "      <td>1</td>\n",
       "      <td>Oliva y Ocana, Dona. Fermina</td>\n",
       "      <td>female</td>\n",
       "      <td>39</td>\n",
       "      <td>0</td>\n",
       "      <td>0</td>\n",
       "      <td>PC 17758</td>\n",
       "      <td>108.9</td>\n",
       "      <td>C</td>\n",
       "      <td>C</td>\n",
       "      <td>Alone</td>\n",
       "      <td>Dona</td>\n",
       "    </tr>\n",
       "  </tbody>\n",
       "</table>\n",
       "</div>"
      ],
      "text/plain": [
       "             Pclass                          Name     Sex  Age  SibSp  Parch  \\\n",
       "PassengerId                                                                    \n",
       "1306              1  Oliva y Ocana, Dona. Fermina  female   39      0      0   \n",
       "\n",
       "               Ticket   Fare Embarked Deck Family Title  \n",
       "PassengerId                                              \n",
       "1306         PC 17758  108.9        C    C  Alone  Dona  "
      ]
     },
     "execution_count": 72,
     "metadata": {},
     "output_type": "execute_result"
    }
   ],
   "source": [
    "test[test[\"Title\"] == \"Dona\"]"
   ]
  },
  {
   "cell_type": "code",
   "execution_count": 73,
   "id": "011e7200-7fdc-4efa-a2d0-73d276fd4956",
   "metadata": {},
   "outputs": [],
   "source": [
    "# 딕셔너리 수정 -> Dona 추가\n",
    "title_dict[\"Dona\"] = \"Other\""
   ]
  },
  {
   "cell_type": "code",
   "execution_count": 74,
   "id": "d846c87e-c680-4c29-9e05-0450e927fc7f",
   "metadata": {
    "scrolled": true
   },
   "outputs": [
    {
     "data": {
      "text/plain": [
       "{'Mr': 'Mr',\n",
       " 'Mrs': 'Mrs',\n",
       " 'Miss': 'Miss',\n",
       " 'Master': 'Master',\n",
       " 'Rev': 'Rev',\n",
       " 'Don': 'Other',\n",
       " 'Dr': 'Other',\n",
       " 'Mme': 'Other',\n",
       " 'Ms': 'Other',\n",
       " 'Major': 'Other',\n",
       " 'Lady': 'Other',\n",
       " 'Sir': 'Other',\n",
       " 'Mlle': 'Other',\n",
       " 'Col': 'Other',\n",
       " 'Capt': 'Other',\n",
       " 'the Countess': 'Other',\n",
       " 'Jonkheer': 'Other',\n",
       " 'Dona': 'Other'}"
      ]
     },
     "execution_count": 74,
     "metadata": {},
     "output_type": "execute_result"
    }
   ],
   "source": [
    "title_dict"
   ]
  },
  {
   "cell_type": "code",
   "execution_count": 75,
   "id": "7deb7111-9b00-4e1c-8343-5d6cf93cfe38",
   "metadata": {},
   "outputs": [],
   "source": [
    "test[\"Title\"] = test[\"Title\"].map(title_dict)"
   ]
  },
  {
   "cell_type": "code",
   "execution_count": 76,
   "id": "e923edcb-a80c-485c-be02-716935ee99ed",
   "metadata": {
    "scrolled": true
   },
   "outputs": [
    {
     "data": {
      "text/plain": [
       "PassengerId\n",
       "892         Mr\n",
       "893        Mrs\n",
       "894         Mr\n",
       "895         Mr\n",
       "896        Mrs\n",
       "         ...  \n",
       "1305        Mr\n",
       "1306     Other\n",
       "1307        Mr\n",
       "1308        Mr\n",
       "1309    Master\n",
       "Name: Title, Length: 418, dtype: object"
      ]
     },
     "execution_count": 76,
     "metadata": {},
     "output_type": "execute_result"
    }
   ],
   "source": [
    "test[\"Title\"]"
   ]
  },
  {
   "cell_type": "code",
   "execution_count": 77,
   "id": "1081dfca-32d2-46c6-b876-bb27ca9fa4cb",
   "metadata": {
    "scrolled": true
   },
   "outputs": [
    {
     "name": "stdout",
     "output_type": "stream",
     "text": [
      "<class 'pandas.core.frame.DataFrame'>\n",
      "Index: 891 entries, 1 to 891\n",
      "Data columns (total 13 columns):\n",
      " #   Column    Non-Null Count  Dtype   \n",
      "---  ------    --------------  -----   \n",
      " 0   Survived  891 non-null    object  \n",
      " 1   Pclass    891 non-null    int64   \n",
      " 2   Name      891 non-null    object  \n",
      " 3   Sex       891 non-null    object  \n",
      " 4   Age       891 non-null    int64   \n",
      " 5   SibSp     891 non-null    int64   \n",
      " 6   Parch     891 non-null    int64   \n",
      " 7   Ticket    891 non-null    object  \n",
      " 8   Fare      891 non-null    float64 \n",
      " 9   Embarked  891 non-null    object  \n",
      " 10  Deck      891 non-null    object  \n",
      " 11  Family    891 non-null    category\n",
      " 12  Title     891 non-null    object  \n",
      "dtypes: category(1), float64(1), int64(4), object(7)\n",
      "memory usage: 123.8+ KB\n"
     ]
    }
   ],
   "source": [
    "train.info()"
   ]
  },
  {
   "cell_type": "code",
   "execution_count": 78,
   "id": "6f999a6c-0c7a-4b9f-8a5a-0095f565ed03",
   "metadata": {},
   "outputs": [
    {
     "data": {
      "text/plain": [
       "array(['A/5 21171', 'PC 17599', 'STON/O2. 3101282', '113803', '373450',\n",
       "       '330877', '17463', '349909', '347742', '237736', 'PP 9549',\n",
       "       '113783', 'A/5. 2151', '347082', '350406', '248706', '382652',\n",
       "       '244373', '345763', '2649', '239865', '248698', '330923', '113788',\n",
       "       '347077', '2631', '19950', '330959', '349216', 'PC 17601',\n",
       "       'PC 17569', '335677', 'C.A. 24579', 'PC 17604', '113789', '2677',\n",
       "       'A./5. 2152', '345764', '2651', '7546', '11668', '349253',\n",
       "       'SC/Paris 2123', '330958', 'S.C./A.4. 23567', '370371', '14311',\n",
       "       '2662', '349237', '3101295', 'A/4. 39886', 'PC 17572', '2926',\n",
       "       '113509', '19947', 'C.A. 31026', '2697', 'C.A. 34651', 'CA 2144',\n",
       "       '2669', '113572', '36973', '347088', 'PC 17605', '2661',\n",
       "       'C.A. 29395', 'S.P. 3464', '3101281', '315151', 'C.A. 33111',\n",
       "       'S.O.C. 14879', '2680', '1601', '348123', '349208', '374746',\n",
       "       '248738', '364516', '345767', '345779', '330932', '113059',\n",
       "       'SO/C 14885', '3101278', 'W./C. 6608', 'SOTON/OQ 392086', '343275',\n",
       "       '343276', '347466', 'W.E.P. 5734', 'C.A. 2315', '364500', '374910',\n",
       "       'PC 17754', 'PC 17759', '231919', '244367', '349245', '349215',\n",
       "       '35281', '7540', '3101276', '349207', '343120', '312991', '349249',\n",
       "       '371110', '110465', '2665', '324669', '4136', '2627',\n",
       "       'STON/O 2. 3101294', '370369', 'PC 17558', 'A4. 54510', '27267',\n",
       "       '370372', 'C 17369', '2668', '347061', '349241',\n",
       "       'SOTON/O.Q. 3101307', 'A/5. 3337', '228414', 'C.A. 29178',\n",
       "       'SC/PARIS 2133', '11752', '7534', 'PC 17593', '2678', '347081',\n",
       "       'STON/O2. 3101279', '365222', '231945', 'C.A. 33112', '350043',\n",
       "       '230080', '244310', 'S.O.P. 1166', '113776', 'A.5. 11206',\n",
       "       'A/5. 851', 'Fa 265302', 'PC 17597', '35851', 'SOTON/OQ 392090',\n",
       "       '315037', 'CA. 2343', '371362', 'C.A. 33595', '347068', '315093',\n",
       "       '363291', '113505', 'PC 17318', '111240', 'STON/O 2. 3101280',\n",
       "       '17764', '350404', '4133', 'PC 17595', '250653', 'LINE',\n",
       "       'SC/PARIS 2131', '230136', '315153', '113767', '370365', '111428',\n",
       "       '364849', '349247', '234604', '28424', '350046', 'PC 17610',\n",
       "       '368703', '4579', '370370', '248747', '345770', '3101264', '2628',\n",
       "       'A/5 3540', '347054', '2699', '367231', '112277',\n",
       "       'SOTON/O.Q. 3101311', 'F.C.C. 13528', 'A/5 21174', '250646',\n",
       "       '367229', '35273', 'STON/O2. 3101283', '243847', '11813',\n",
       "       'W/C 14208', 'SOTON/OQ 392089', '220367', '21440', '349234',\n",
       "       '19943', 'PP 4348', 'SW/PP 751', 'A/5 21173', '236171', '347067',\n",
       "       '237442', 'C.A. 29566', 'W./C. 6609', '26707', 'C.A. 31921',\n",
       "       '28665', 'SCO/W 1585', '367230', 'W./C. 14263',\n",
       "       'STON/O 2. 3101275', '2694', '19928', '347071', '250649', '11751',\n",
       "       '244252', '362316', '113514', 'A/5. 3336', '370129', '2650',\n",
       "       'PC 17585', '110152', 'PC 17755', '230433', '384461', '110413',\n",
       "       '112059', '382649', 'C.A. 17248', '347083', 'PC 17582', 'PC 17760',\n",
       "       '113798', '250644', 'PC 17596', '370375', '13502', '347073',\n",
       "       '239853', 'C.A. 2673', '336439', '347464', '345778', 'A/5. 10482',\n",
       "       '113056', '349239', '345774', '349206', '237798', '370373',\n",
       "       '19877', '11967', 'SC/Paris 2163', '349236', '349233', 'PC 17612',\n",
       "       '2693', '113781', '19988', '9234', '367226', '226593', 'A/5 2466',\n",
       "       '17421', 'PC 17758', 'P/PP 3381', 'PC 17485', '11767', 'PC 17608',\n",
       "       '250651', '349243', 'F.C.C. 13529', '347470', '29011', '36928',\n",
       "       '16966', 'A/5 21172', '349219', '234818', '345364', '28551',\n",
       "       '111361', '113043', 'PC 17611', '349225', '7598', '113784',\n",
       "       '248740', '244361', '229236', '248733', '31418', '386525',\n",
       "       'C.A. 37671', '315088', '7267', '113510', '2695', '2647', '345783',\n",
       "       '237671', '330931', '330980', 'SC/PARIS 2167', '2691',\n",
       "       'SOTON/O.Q. 3101310', 'C 7076', '110813', '2626', '14313',\n",
       "       'PC 17477', '11765', '3101267', '323951', 'C 7077', '113503',\n",
       "       '2648', '347069', 'PC 17757', '2653', 'STON/O 2. 3101293',\n",
       "       '349227', '27849', '367655', 'SC 1748', '113760', '350034',\n",
       "       '3101277', '350052', '350407', '28403', '244278', '240929',\n",
       "       'STON/O 2. 3101289', '341826', '4137', '315096', '28664', '347064',\n",
       "       '29106', '312992', '349222', '394140', 'STON/O 2. 3101269',\n",
       "       '343095', '28220', '250652', '28228', '345773', '349254',\n",
       "       'A/5. 13032', '315082', '347080', 'A/4. 34244', '2003', '250655',\n",
       "       '364851', 'SOTON/O.Q. 392078', '110564', '376564', 'SC/AH 3085',\n",
       "       'STON/O 2. 3101274', '13507', 'C.A. 18723', '345769', '347076',\n",
       "       '230434', '65306', '33638', '113794', '2666', '113786', '65303',\n",
       "       '113051', '17453', 'A/5 2817', '349240', '13509', '17464',\n",
       "       'F.C.C. 13531', '371060', '19952', '364506', '111320', '234360',\n",
       "       'A/S 2816', 'SOTON/O.Q. 3101306', '113792', '36209', '323592',\n",
       "       '315089', 'SC/AH Basle 541', '7553', '31027', '3460', '350060',\n",
       "       '3101298', '239854', 'A/5 3594', '4134', '11771', 'A.5. 18509',\n",
       "       '65304', 'SOTON/OQ 3101317', '113787', 'PC 17609', 'A/4 45380',\n",
       "       '36947', 'C.A. 6212', '350035', '315086', '364846', '330909',\n",
       "       '4135', '26360', '111427', 'C 4001', '382651', 'SOTON/OQ 3101316',\n",
       "       'PC 17473', 'PC 17603', '349209', '36967', 'C.A. 34260', '226875',\n",
       "       '349242', '12749', '349252', '2624', '2700', '367232',\n",
       "       'W./C. 14258', 'PC 17483', '3101296', '29104', '2641', '2690',\n",
       "       '315084', '113050', 'PC 17761', '364498', '13568', 'WE/P 5735',\n",
       "       '2908', '693', 'SC/PARIS 2146', '244358', '330979', '2620',\n",
       "       '347085', '113807', '11755', '345572', '372622', '349251',\n",
       "       '218629', 'SOTON/OQ 392082', 'SOTON/O.Q. 392087', 'A/4 48871',\n",
       "       '349205', '2686', '350417', 'S.W./PP 752', '11769', 'PC 17474',\n",
       "       '14312', 'A/4. 20589', '358585', '243880', '2689',\n",
       "       'STON/O 2. 3101286', '237789', '13049', '3411', '237565', '13567',\n",
       "       '14973', 'A./5. 3235', 'STON/O 2. 3101273', 'A/5 3902', '364848',\n",
       "       'SC/AH 29037', '248727', '2664', '349214', '113796', '364511',\n",
       "       '111426', '349910', '349246', '113804', 'SOTON/O.Q. 3101305',\n",
       "       '370377', '364512', '220845', '31028', '2659', '11753', '350029',\n",
       "       '54636', '36963', '219533', '349224', '334912', '27042', '347743',\n",
       "       '13214', '112052', '237668', 'STON/O 2. 3101292', '350050',\n",
       "       '349231', '13213', 'S.O./P.P. 751', 'CA. 2314', '349221', '8475',\n",
       "       '330919', '365226', '349223', '29751', '2623', '5727', '349210',\n",
       "       'STON/O 2. 3101285', '234686', '312993', 'A/5 3536', '19996',\n",
       "       '29750', 'F.C. 12750', 'C.A. 24580', '244270', '239856', '349912',\n",
       "       '342826', '4138', '330935', '6563', '349228', '350036', '24160',\n",
       "       '17474', '349256', '2672', '113800', '248731', '363592', '35852',\n",
       "       '348121', 'PC 17475', '36864', '350025', '223596', 'PC 17476',\n",
       "       'PC 17482', '113028', '7545', '250647', '348124', '34218', '36568',\n",
       "       '347062', '350048', '12233', '250643', '113806', '315094', '36866',\n",
       "       '236853', 'STON/O2. 3101271', '239855', '28425', '233639',\n",
       "       '349201', '349218', '16988', '376566', 'STON/O 2. 3101288',\n",
       "       '250648', '113773', '335097', '29103', '392096', '345780',\n",
       "       '349204', '350042', '29108', '363294', 'SOTON/O2 3101272', '2663',\n",
       "       '347074', '112379', '364850', '8471', '345781', '350047',\n",
       "       'S.O./P.P. 3', '2674', '29105', '347078', '383121', '36865',\n",
       "       '2687', '113501', 'W./C. 6607', 'SOTON/O.Q. 3101312', '374887',\n",
       "       '3101265', '12460', 'PC 17600', '349203', '28213', '17465',\n",
       "       '349244', '2685', '2625', '347089', '347063', '112050', '347087',\n",
       "       '248723', '3474', '28206', '364499', '112058', 'STON/O2. 3101290',\n",
       "       'S.C./PARIS 2079', 'C 7075', '315098', '19972', '368323', '367228',\n",
       "       '2671', '347468', '2223', 'PC 17756', '315097', '392092', '11774',\n",
       "       'SOTON/O2 3101287', '2683', '315090', 'C.A. 5547', '349213',\n",
       "       '347060', 'PC 17592', '392091', '113055', '2629', '350026',\n",
       "       '28134', '17466', '233866', '236852', 'SC/PARIS 2149', 'PC 17590',\n",
       "       '345777', '349248', '695', '345765', '2667', '349212', '349217',\n",
       "       '349257', '7552', 'C.A./SOTON 34068', 'SOTON/OQ 392076', '211536',\n",
       "       '112053', '111369', '370376'], dtype=object)"
      ]
     },
     "execution_count": 78,
     "metadata": {},
     "output_type": "execute_result"
    }
   ],
   "source": [
    "train[\"Ticket\"].unique()\n",
    "# 특정 패턴이나 규칙, 생존여부와 별 관계는 크게 없어보임\n",
    "# 삭제"
   ]
  },
  {
   "cell_type": "code",
   "execution_count": 79,
   "id": "303a59f4-a3f3-4a75-9049-7a009db840c4",
   "metadata": {},
   "outputs": [],
   "source": [
    "# Name, SibSp, Parch, Ticket 삭제\n",
    "train.drop([\"Name\", \"SibSp\", \"Parch\", \"Ticket\"], axis = 1, inplace= True)\n",
    "test.drop([\"Name\", \"SibSp\", \"Parch\", \"Ticket\"], axis = 1, inplace = True)"
   ]
  },
  {
   "cell_type": "code",
   "execution_count": 80,
   "id": "726acef9-180a-4ecb-a114-3181f13b741f",
   "metadata": {
    "scrolled": true
   },
   "outputs": [
    {
     "data": {
      "text/plain": [
       "((891, 9), (418, 8))"
      ]
     },
     "execution_count": 80,
     "metadata": {},
     "output_type": "execute_result"
    }
   ],
   "source": [
    "train.shape, test.shape\n",
    "# 모델링 -> 입력특성을 동일 시 해줘야 함(차원의 수를 동일시 해야 함)"
   ]
  },
  {
   "cell_type": "code",
   "execution_count": 81,
   "id": "8a604fc7-7937-4cd7-90a6-3eb3d527fa83",
   "metadata": {
    "scrolled": true
   },
   "outputs": [
    {
     "name": "stdout",
     "output_type": "stream",
     "text": [
      "<class 'pandas.core.frame.DataFrame'>\n",
      "Index: 891 entries, 1 to 891\n",
      "Data columns (total 9 columns):\n",
      " #   Column    Non-Null Count  Dtype   \n",
      "---  ------    --------------  -----   \n",
      " 0   Survived  891 non-null    object  \n",
      " 1   Pclass    891 non-null    int64   \n",
      " 2   Sex       891 non-null    object  \n",
      " 3   Age       891 non-null    int64   \n",
      " 4   Fare      891 non-null    float64 \n",
      " 5   Embarked  891 non-null    object  \n",
      " 6   Deck      891 non-null    object  \n",
      " 7   Family    891 non-null    category\n",
      " 8   Title     891 non-null    object  \n",
      "dtypes: category(1), float64(1), int64(2), object(5)\n",
      "memory usage: 95.9+ KB\n"
     ]
    }
   ],
   "source": [
    "train.info()"
   ]
  },
  {
   "cell_type": "code",
   "execution_count": 82,
   "id": "47f47cff-204a-4a70-9a46-0e992c696966",
   "metadata": {},
   "outputs": [],
   "source": [
    "# 데이터 분리 -> train set의 X, y\n",
    "\n",
    "X_train = train.drop(\"Survived\", axis = 1)\n",
    "y_train = train[\"Survived\"]\n",
    "X_test = test.copy() # 얕은 복사"
   ]
  },
  {
   "cell_type": "code",
   "execution_count": 83,
   "id": "66e6f2e2-33ea-48b5-be0f-0790a39e426a",
   "metadata": {},
   "outputs": [],
   "source": [
    "# 원핫인코딩 진행(train, test 진행)\n",
    "X_train = pd.get_dummies(X_train)\n",
    "X_test = pd.get_dummies(X_test)"
   ]
  },
  {
   "cell_type": "code",
   "execution_count": 84,
   "id": "5ca6d58d-cf7f-405e-9640-7ad5c6f2a7ea",
   "metadata": {},
   "outputs": [
    {
     "data": {
      "text/plain": [
       "((891, 26), (418, 25))"
      ]
     },
     "execution_count": 84,
     "metadata": {},
     "output_type": "execute_result"
    }
   ],
   "source": [
    "X_train.shape, X_test.shape # 특성 개수가 다름!!!"
   ]
  },
  {
   "cell_type": "code",
   "execution_count": 85,
   "id": "4cab1d4b-b34a-4fbf-85f0-c56b0bf47ec9",
   "metadata": {},
   "outputs": [
    {
     "data": {
      "text/plain": [
       "{'Deck_T'}"
      ]
     },
     "execution_count": 85,
     "metadata": {},
     "output_type": "execute_result"
    }
   ],
   "source": [
    "# 집합자료형을 활용해서 어떤 특성이 차이가 나는지 확인!\n",
    "set(X_train.columns) - set(X_test.columns)"
   ]
  },
  {
   "cell_type": "code",
   "execution_count": 86,
   "id": "d5b00644-ddb4-499c-bc53-107fe1fc04fc",
   "metadata": {
    "scrolled": true
   },
   "outputs": [
    {
     "name": "stdout",
     "output_type": "stream",
     "text": [
      "<class 'pandas.core.frame.DataFrame'>\n",
      "Index: 418 entries, 892 to 1309\n",
      "Data columns (total 25 columns):\n",
      " #   Column        Non-Null Count  Dtype  \n",
      "---  ------        --------------  -----  \n",
      " 0   Pclass        418 non-null    int64  \n",
      " 1   Age           418 non-null    int64  \n",
      " 2   Fare          418 non-null    float64\n",
      " 3   Sex_female    418 non-null    bool   \n",
      " 4   Sex_male      418 non-null    bool   \n",
      " 5   Embarked_C    418 non-null    bool   \n",
      " 6   Embarked_Q    418 non-null    bool   \n",
      " 7   Embarked_S    418 non-null    bool   \n",
      " 8   Deck_A        418 non-null    bool   \n",
      " 9   Deck_B        418 non-null    bool   \n",
      " 10  Deck_C        418 non-null    bool   \n",
      " 11  Deck_D        418 non-null    bool   \n",
      " 12  Deck_E        418 non-null    bool   \n",
      " 13  Deck_F        418 non-null    bool   \n",
      " 14  Deck_G        418 non-null    bool   \n",
      " 15  Deck_M        418 non-null    bool   \n",
      " 16  Family_Alone  418 non-null    bool   \n",
      " 17  Family_Small  418 non-null    bool   \n",
      " 18  Family_Large  418 non-null    bool   \n",
      " 19  Title_Master  418 non-null    bool   \n",
      " 20  Title_Miss    418 non-null    bool   \n",
      " 21  Title_Mr      418 non-null    bool   \n",
      " 22  Title_Mrs     418 non-null    bool   \n",
      " 23  Title_Other   418 non-null    bool   \n",
      " 24  Title_Rev     418 non-null    bool   \n",
      "dtypes: bool(22), float64(1), int64(2)\n",
      "memory usage: 22.0 KB\n"
     ]
    }
   ],
   "source": [
    "# Deck에서 T라는 값은 train set에만 있음\n",
    "# Pclass의 경우 차트 error 때문에 train set만 str형으로 바꿔놓았음 -> 원핫인코딩이 수행되었음\n",
    "X_test.info()"
   ]
  },
  {
   "cell_type": "code",
   "execution_count": 87,
   "id": "7bc4e82e-cb28-4446-a6bf-02af6bcdf42d",
   "metadata": {},
   "outputs": [
    {
     "data": {
      "text/html": [
       "<div>\n",
       "<style scoped>\n",
       "    .dataframe tbody tr th:only-of-type {\n",
       "        vertical-align: middle;\n",
       "    }\n",
       "\n",
       "    .dataframe tbody tr th {\n",
       "        vertical-align: top;\n",
       "    }\n",
       "\n",
       "    .dataframe thead th {\n",
       "        text-align: right;\n",
       "    }\n",
       "</style>\n",
       "<table border=\"1\" class=\"dataframe\">\n",
       "  <thead>\n",
       "    <tr style=\"text-align: right;\">\n",
       "      <th></th>\n",
       "      <th>Pclass</th>\n",
       "      <th>Age</th>\n",
       "      <th>Fare</th>\n",
       "      <th>Sex_female</th>\n",
       "      <th>Sex_male</th>\n",
       "      <th>Embarked_C</th>\n",
       "      <th>Embarked_Q</th>\n",
       "      <th>Embarked_S</th>\n",
       "      <th>Deck_A</th>\n",
       "      <th>Deck_B</th>\n",
       "      <th>...</th>\n",
       "      <th>Deck_T</th>\n",
       "      <th>Family_Alone</th>\n",
       "      <th>Family_Small</th>\n",
       "      <th>Family_Large</th>\n",
       "      <th>Title_Master</th>\n",
       "      <th>Title_Miss</th>\n",
       "      <th>Title_Mr</th>\n",
       "      <th>Title_Mrs</th>\n",
       "      <th>Title_Other</th>\n",
       "      <th>Title_Rev</th>\n",
       "    </tr>\n",
       "    <tr>\n",
       "      <th>PassengerId</th>\n",
       "      <th></th>\n",
       "      <th></th>\n",
       "      <th></th>\n",
       "      <th></th>\n",
       "      <th></th>\n",
       "      <th></th>\n",
       "      <th></th>\n",
       "      <th></th>\n",
       "      <th></th>\n",
       "      <th></th>\n",
       "      <th></th>\n",
       "      <th></th>\n",
       "      <th></th>\n",
       "      <th></th>\n",
       "      <th></th>\n",
       "      <th></th>\n",
       "      <th></th>\n",
       "      <th></th>\n",
       "      <th></th>\n",
       "      <th></th>\n",
       "      <th></th>\n",
       "    </tr>\n",
       "  </thead>\n",
       "  <tbody>\n",
       "    <tr>\n",
       "      <th>340</th>\n",
       "      <td>1</td>\n",
       "      <td>45</td>\n",
       "      <td>35.5</td>\n",
       "      <td>False</td>\n",
       "      <td>True</td>\n",
       "      <td>False</td>\n",
       "      <td>False</td>\n",
       "      <td>True</td>\n",
       "      <td>False</td>\n",
       "      <td>False</td>\n",
       "      <td>...</td>\n",
       "      <td>True</td>\n",
       "      <td>True</td>\n",
       "      <td>False</td>\n",
       "      <td>False</td>\n",
       "      <td>False</td>\n",
       "      <td>False</td>\n",
       "      <td>True</td>\n",
       "      <td>False</td>\n",
       "      <td>False</td>\n",
       "      <td>False</td>\n",
       "    </tr>\n",
       "  </tbody>\n",
       "</table>\n",
       "<p>1 rows × 26 columns</p>\n",
       "</div>"
      ],
      "text/plain": [
       "             Pclass  Age  Fare  Sex_female  Sex_male  Embarked_C  Embarked_Q  \\\n",
       "PassengerId                                                                    \n",
       "340               1   45  35.5       False      True       False       False   \n",
       "\n",
       "             Embarked_S  Deck_A  Deck_B  ...  Deck_T  Family_Alone  \\\n",
       "PassengerId                              ...                         \n",
       "340                True   False   False  ...    True          True   \n",
       "\n",
       "             Family_Small  Family_Large  Title_Master  Title_Miss  Title_Mr  \\\n",
       "PassengerId                                                                   \n",
       "340                 False         False         False       False      True   \n",
       "\n",
       "             Title_Mrs  Title_Other  Title_Rev  \n",
       "PassengerId                                     \n",
       "340              False        False      False  \n",
       "\n",
       "[1 rows x 26 columns]"
      ]
     },
     "execution_count": 87,
     "metadata": {},
     "output_type": "execute_result"
    }
   ],
   "source": [
    "X_train[X_train[\"Deck_T\"] == 1]"
   ]
  },
  {
   "cell_type": "code",
   "execution_count": 88,
   "id": "aeb285bb-1c3c-4015-a221-529fd81e4b67",
   "metadata": {},
   "outputs": [],
   "source": [
    "# sklearn에서 제공되는 모델들은 입력을 동일 시 해줘야 함\n",
    "# 그래서 Deck_T라는 컬럼을 0으로 초기화해서 추가함\n",
    "X_test[\"Deck_T\"] = 0"
   ]
  },
  {
   "cell_type": "code",
   "execution_count": 89,
   "id": "8b76185d-1ecc-41c8-a826-25255ffa80c6",
   "metadata": {},
   "outputs": [
    {
     "data": {
      "text/plain": [
       "Index(['Pclass', 'Age', 'Fare', 'Sex_female', 'Sex_male', 'Embarked_C',\n",
       "       'Embarked_Q', 'Embarked_S', 'Deck_A', 'Deck_B', 'Deck_C', 'Deck_D',\n",
       "       'Deck_E', 'Deck_F', 'Deck_G', 'Deck_M', 'Deck_T', 'Family_Alone',\n",
       "       'Family_Small', 'Family_Large', 'Title_Master', 'Title_Miss',\n",
       "       'Title_Mr', 'Title_Mrs', 'Title_Other', 'Title_Rev'],\n",
       "      dtype='object')"
      ]
     },
     "execution_count": 89,
     "metadata": {},
     "output_type": "execute_result"
    }
   ],
   "source": [
    "X_train.columns"
   ]
  },
  {
   "cell_type": "code",
   "execution_count": 90,
   "id": "5960abf0-6d88-4fc3-b26d-58ea5fd585e0",
   "metadata": {},
   "outputs": [
    {
     "data": {
      "text/plain": [
       "Index(['Pclass', 'Age', 'Fare', 'Sex_female', 'Sex_male', 'Embarked_C',\n",
       "       'Embarked_Q', 'Embarked_S', 'Deck_A', 'Deck_B', 'Deck_C', 'Deck_D',\n",
       "       'Deck_E', 'Deck_F', 'Deck_G', 'Deck_M', 'Family_Alone', 'Family_Small',\n",
       "       'Family_Large', 'Title_Master', 'Title_Miss', 'Title_Mr', 'Title_Mrs',\n",
       "       'Title_Other', 'Title_Rev', 'Deck_T'],\n",
       "      dtype='object')"
      ]
     },
     "execution_count": 90,
     "metadata": {},
     "output_type": "execute_result"
    }
   ],
   "source": [
    "X_test.columns"
   ]
  },
  {
   "cell_type": "code",
   "execution_count": 91,
   "id": "7032860f-4fd0-41cf-815f-f36de7167d00",
   "metadata": {},
   "outputs": [],
   "source": [
    "# 컬럼의 순서 재배치를 위해 train set의 Deck_T 순서를 변경\n",
    "\n",
    "# 임의의 변수에 Deck_T를 할당\n",
    "temp = X_train[\"Deck_T\"]"
   ]
  },
  {
   "cell_type": "code",
   "execution_count": 92,
   "id": "b25c43b2-88f4-4a45-8f60-9782208446b7",
   "metadata": {},
   "outputs": [],
   "source": [
    "# 원래 train set의 Deck_T를 삭제\n",
    "X_train.drop(\"Deck_T\", axis = 1, inplace=True)"
   ]
  },
  {
   "cell_type": "code",
   "execution_count": 93,
   "id": "d2733ac5-1043-4e5b-8fd9-5104f1876343",
   "metadata": {},
   "outputs": [],
   "source": [
    "# X_train, Deck_T를 병합\n",
    "X_train = pd.concat([X_train, temp], axis = 1)"
   ]
  },
  {
   "cell_type": "code",
   "execution_count": 94,
   "id": "d071365c-5d0a-4a64-b2b0-7b0cf33fb3d5",
   "metadata": {},
   "outputs": [
    {
     "data": {
      "text/plain": [
       "Index(['Pclass', 'Age', 'Fare', 'Sex_female', 'Sex_male', 'Embarked_C',\n",
       "       'Embarked_Q', 'Embarked_S', 'Deck_A', 'Deck_B', 'Deck_C', 'Deck_D',\n",
       "       'Deck_E', 'Deck_F', 'Deck_G', 'Deck_M', 'Family_Alone', 'Family_Small',\n",
       "       'Family_Large', 'Title_Master', 'Title_Miss', 'Title_Mr', 'Title_Mrs',\n",
       "       'Title_Other', 'Title_Rev', 'Deck_T'],\n",
       "      dtype='object')"
      ]
     },
     "execution_count": 94,
     "metadata": {},
     "output_type": "execute_result"
    }
   ],
   "source": [
    "X_train.columns"
   ]
  },
  {
   "cell_type": "code",
   "execution_count": 95,
   "id": "f23a0951-3a0f-436c-bbf4-401ac16dbccb",
   "metadata": {},
   "outputs": [
    {
     "data": {
      "text/plain": [
       "Index(['Pclass', 'Age', 'Fare', 'Sex_female', 'Sex_male', 'Embarked_C',\n",
       "       'Embarked_Q', 'Embarked_S', 'Deck_A', 'Deck_B', 'Deck_C', 'Deck_D',\n",
       "       'Deck_E', 'Deck_F', 'Deck_G', 'Deck_M', 'Family_Alone', 'Family_Small',\n",
       "       'Family_Large', 'Title_Master', 'Title_Miss', 'Title_Mr', 'Title_Mrs',\n",
       "       'Title_Other', 'Title_Rev', 'Deck_T'],\n",
       "      dtype='object')"
      ]
     },
     "execution_count": 95,
     "metadata": {},
     "output_type": "execute_result"
    }
   ],
   "source": [
    "X_test.columns"
   ]
  },
  {
   "cell_type": "code",
   "execution_count": 96,
   "id": "a9261c9d-276c-498a-8b40-415c8cb5064e",
   "metadata": {},
   "outputs": [
    {
     "data": {
      "text/plain": [
       "set()"
      ]
     },
     "execution_count": 96,
     "metadata": {},
     "output_type": "execute_result"
    }
   ],
   "source": [
    "set(X_train.columns) - set(X_test.columns)"
   ]
  },
  {
   "cell_type": "code",
   "execution_count": 97,
   "id": "8c6af8ef-e4d8-4636-a8b1-efc1722713b8",
   "metadata": {},
   "outputs": [
    {
     "data": {
      "text/plain": [
       "((891, 26), (418, 26))"
      ]
     },
     "execution_count": 97,
     "metadata": {},
     "output_type": "execute_result"
    }
   ],
   "source": [
    "X_train.shape, X_test.shape"
   ]
  },
  {
   "cell_type": "markdown",
   "id": "f492fa3a-b129-4f8a-913a-1896bea3efee",
   "metadata": {},
   "source": [
    "### 모델 선택 및 학습\n",
    "- 여태 배웠던 모델 : KNN알고리즘, Decision Tree"
   ]
  },
  {
   "cell_type": "code",
   "execution_count": 98,
   "id": "23f8827e-c4e9-48a1-bcb9-cae79529957d",
   "metadata": {},
   "outputs": [],
   "source": [
    "from sklearn.neighbors import KNeighborsClassifier\n",
    "from sklearn.tree import DecisionTreeClassifier"
   ]
  },
  {
   "cell_type": "markdown",
   "id": "c502a86f-d3f2-4906-8447-279b9a686cf6",
   "metadata": {},
   "source": [
    "- knn 모델"
   ]
  },
  {
   "cell_type": "code",
   "execution_count": 99,
   "id": "b9434f90-e713-441d-b56c-d863de5d55d5",
   "metadata": {},
   "outputs": [],
   "source": [
    "# 객체 생성(모델 초기화)\n",
    "knn_model = KNeighborsClassifier()\n",
    "\n",
    "# 학습\n",
    "knn_model.fit(X_train,y_train)\n",
    "\n",
    "# 예측\n",
    "y_pred = knn_model.predict(X_test)\n",
    "\n",
    "# y_test(정답)은 kaggle이 가지고 있음\n",
    "# 정답을 제출할 omr카드 \n",
    "\n",
    "result = pd.read_csv(\"./data/gender_submission.csv\")\n",
    "\n",
    "result[\"Survived\"] = y_pred\n",
    "\n",
    "result.to_csv(\"./data/JBG_KNN_sub01.csv\",index=False)"
   ]
  },
  {
   "cell_type": "markdown",
   "id": "e0e0c31a-7d38-4eb6-aeed-5fb5198378cf",
   "metadata": {},
   "source": [
    "- DT 모델"
   ]
  },
  {
   "cell_type": "code",
   "execution_count": 100,
   "id": "fefda19b-771f-4452-8f84-14c06fff505f",
   "metadata": {},
   "outputs": [],
   "source": [
    "# 객체 생성(모델 초기화)\n",
    "dt_model = DecisionTreeClassifier()\n",
    "\n",
    "# 학습\n",
    "dt_model.fit(X_train,y_train)\n",
    "\n",
    "# 예측\n",
    "y_pred = dt_model.predict(X_test)\n",
    "\n",
    "# y_test(정답)은 kaggle이 가지고 있음\n",
    "# 정답을 제출할 omr카드 \n",
    "\n",
    "result = pd.read_csv(\"./data/gender_submission.csv\")\n",
    "\n",
    "result[\"Survived\"] = y_pred\n",
    "\n",
    "result.to_csv(\"./data/JBG_DT_sub01.csv\",index=False)"
   ]
  },
  {
   "cell_type": "markdown",
   "id": "d7e647a0-a28c-42d0-9cfe-7de7e617bcf3",
   "metadata": {},
   "source": [
    "##### 결과\n",
    "- KNN : 65.31%\n",
    "- DT : 72.24%\n",
    "\n",
    "- 결과 해석 : 성능 개선이 필요함\n",
    "  - 데이터양을 늘리기\n",
    "  - 전처리 방식 수정\n",
    "  - 하이퍼 파라미터 조절(5% 내외로 성능이 올라감)\n",
    "  - 더 좋은 모델 선택"
   ]
  },
  {
   "cell_type": "code",
   "execution_count": 101,
   "id": "1cf295da-96bd-4bff-a613-c888b79b1d4b",
   "metadata": {},
   "outputs": [
    {
     "data": {
      "text/plain": [
       "0.8159371492704826"
      ]
     },
     "execution_count": 101,
     "metadata": {},
     "output_type": "execute_result"
    }
   ],
   "source": [
    "knn_model.score(X_train,y_train) # knn 모델은 과소적합의 현상을 보임\n",
    "# 이유 : knn 모델은 알고리즘이 간단한 대신에 , 성능이 좋지 못함"
   ]
  },
  {
   "cell_type": "code",
   "execution_count": 102,
   "id": "605ddd91-dd97-45ee-95b5-eff8ddcaa82c",
   "metadata": {},
   "outputs": [
    {
     "data": {
      "text/plain": [
       "0.9854096520763187"
      ]
     },
     "execution_count": 102,
     "metadata": {},
     "output_type": "execute_result"
    }
   ],
   "source": [
    "dt_model.score(X_train,y_train) # dt모델은 과대적합의 현상을 보임\n",
    "# 이유 : train set은 어느정도 잘 맞춤, test set은 너무 낮음 -> 하이퍼 파라미터 설정을 하지 않음!"
   ]
  },
  {
   "cell_type": "markdown",
   "id": "11619ff2-7f3a-48dd-b7f0-9c939286216c",
   "metadata": {},
   "source": [
    "### 데이터 스케일링\n",
    "- Feature들의 데이터 분포, 범위를 동일하게 조정하는 작업\n",
    "- 거리(ex.knn , kmean 등), 수치(ex.선형분류,선형회귀)기반의 학습을 진행하는 모델에게 적용\n",
    "  - 거리나 수치기반이 아닌경우 -> Decision Tree 계열\n",
    "---\n",
    "- 장점 : 범위를 일정하게 맞추어 모델이 데이터를 더 쉽게 처리하고 , 모델 성능 향상으로 이어짐\n",
    "- 단점 : 데이터의 원래 의미(값)이 변경되기 때문에, 원래 범위를 유지하는게 더 좋다고 판단되면 Scaling을 하지 않는게 왜곡을 방지 할 수 있음"
   ]
  },
  {
   "cell_type": "code",
   "execution_count": 103,
   "id": "474b9be8-81e5-4574-bc61-0a63539bc245",
   "metadata": {},
   "outputs": [],
   "source": [
    "from sklearn.preprocessing import StandardScaler # 스케일링 도구 "
   ]
  },
  {
   "cell_type": "code",
   "execution_count": 104,
   "id": "dc68e02d-ade7-4053-ad0e-34183b4d0509",
   "metadata": {},
   "outputs": [],
   "source": [
    "# 객체 초기화\n",
    "scaler = StandardScaler()"
   ]
  },
  {
   "cell_type": "code",
   "execution_count": 105,
   "id": "a7165a21-7ecc-4b4d-b7eb-f1f606122a4d",
   "metadata": {},
   "outputs": [
    {
     "data": {
      "text/html": [
       "<style>#sk-container-id-1 {color: black;background-color: white;}#sk-container-id-1 pre{padding: 0;}#sk-container-id-1 div.sk-toggleable {background-color: white;}#sk-container-id-1 label.sk-toggleable__label {cursor: pointer;display: block;width: 100%;margin-bottom: 0;padding: 0.3em;box-sizing: border-box;text-align: center;}#sk-container-id-1 label.sk-toggleable__label-arrow:before {content: \"▸\";float: left;margin-right: 0.25em;color: #696969;}#sk-container-id-1 label.sk-toggleable__label-arrow:hover:before {color: black;}#sk-container-id-1 div.sk-estimator:hover label.sk-toggleable__label-arrow:before {color: black;}#sk-container-id-1 div.sk-toggleable__content {max-height: 0;max-width: 0;overflow: hidden;text-align: left;background-color: #f0f8ff;}#sk-container-id-1 div.sk-toggleable__content pre {margin: 0.2em;color: black;border-radius: 0.25em;background-color: #f0f8ff;}#sk-container-id-1 input.sk-toggleable__control:checked~div.sk-toggleable__content {max-height: 200px;max-width: 100%;overflow: auto;}#sk-container-id-1 input.sk-toggleable__control:checked~label.sk-toggleable__label-arrow:before {content: \"▾\";}#sk-container-id-1 div.sk-estimator input.sk-toggleable__control:checked~label.sk-toggleable__label {background-color: #d4ebff;}#sk-container-id-1 div.sk-label input.sk-toggleable__control:checked~label.sk-toggleable__label {background-color: #d4ebff;}#sk-container-id-1 input.sk-hidden--visually {border: 0;clip: rect(1px 1px 1px 1px);clip: rect(1px, 1px, 1px, 1px);height: 1px;margin: -1px;overflow: hidden;padding: 0;position: absolute;width: 1px;}#sk-container-id-1 div.sk-estimator {font-family: monospace;background-color: #f0f8ff;border: 1px dotted black;border-radius: 0.25em;box-sizing: border-box;margin-bottom: 0.5em;}#sk-container-id-1 div.sk-estimator:hover {background-color: #d4ebff;}#sk-container-id-1 div.sk-parallel-item::after {content: \"\";width: 100%;border-bottom: 1px solid gray;flex-grow: 1;}#sk-container-id-1 div.sk-label:hover label.sk-toggleable__label {background-color: #d4ebff;}#sk-container-id-1 div.sk-serial::before {content: \"\";position: absolute;border-left: 1px solid gray;box-sizing: border-box;top: 0;bottom: 0;left: 50%;z-index: 0;}#sk-container-id-1 div.sk-serial {display: flex;flex-direction: column;align-items: center;background-color: white;padding-right: 0.2em;padding-left: 0.2em;position: relative;}#sk-container-id-1 div.sk-item {position: relative;z-index: 1;}#sk-container-id-1 div.sk-parallel {display: flex;align-items: stretch;justify-content: center;background-color: white;position: relative;}#sk-container-id-1 div.sk-item::before, #sk-container-id-1 div.sk-parallel-item::before {content: \"\";position: absolute;border-left: 1px solid gray;box-sizing: border-box;top: 0;bottom: 0;left: 50%;z-index: -1;}#sk-container-id-1 div.sk-parallel-item {display: flex;flex-direction: column;z-index: 1;position: relative;background-color: white;}#sk-container-id-1 div.sk-parallel-item:first-child::after {align-self: flex-end;width: 50%;}#sk-container-id-1 div.sk-parallel-item:last-child::after {align-self: flex-start;width: 50%;}#sk-container-id-1 div.sk-parallel-item:only-child::after {width: 0;}#sk-container-id-1 div.sk-dashed-wrapped {border: 1px dashed gray;margin: 0 0.4em 0.5em 0.4em;box-sizing: border-box;padding-bottom: 0.4em;background-color: white;}#sk-container-id-1 div.sk-label label {font-family: monospace;font-weight: bold;display: inline-block;line-height: 1.2em;}#sk-container-id-1 div.sk-label-container {text-align: center;}#sk-container-id-1 div.sk-container {/* jupyter's `normalize.less` sets `[hidden] { display: none; }` but bootstrap.min.css set `[hidden] { display: none !important; }` so we also need the `!important` here to be able to override the default hidden behavior on the sphinx rendered scikit-learn.org. See: https://github.com/scikit-learn/scikit-learn/issues/21755 */display: inline-block !important;position: relative;}#sk-container-id-1 div.sk-text-repr-fallback {display: none;}</style><div id=\"sk-container-id-1\" class=\"sk-top-container\"><div class=\"sk-text-repr-fallback\"><pre>StandardScaler()</pre><b>In a Jupyter environment, please rerun this cell to show the HTML representation or trust the notebook. <br />On GitHub, the HTML representation is unable to render, please try loading this page with nbviewer.org.</b></div><div class=\"sk-container\" hidden><div class=\"sk-item\"><div class=\"sk-estimator sk-toggleable\"><input class=\"sk-toggleable__control sk-hidden--visually\" id=\"sk-estimator-id-1\" type=\"checkbox\" checked><label for=\"sk-estimator-id-1\" class=\"sk-toggleable__label sk-toggleable__label-arrow\">StandardScaler</label><div class=\"sk-toggleable__content\"><pre>StandardScaler()</pre></div></div></div></div></div>"
      ],
      "text/plain": [
       "StandardScaler()"
      ]
     },
     "execution_count": 105,
     "metadata": {},
     "output_type": "execute_result"
    }
   ],
   "source": [
    "# fit : 해당 데이터를 기준으로 스케일 기준 설정\n",
    "# fit_transform : 해당 데이터를 기준으로 스케일 기준 설정 후 바로 변환\n",
    "# transform : 기존에 정해진 기준으로 변환\n",
    "scaler.fit(X_train) # 스케일 기준 설정\n"
   ]
  },
  {
   "cell_type": "code",
   "execution_count": 106,
   "id": "326be037-773d-477d-8fb5-99a25368d697",
   "metadata": {},
   "outputs": [],
   "source": [
    "# 스케일 기준이 만들어진 스케일러의 범위 변환\n",
    "t_X_train = scaler.transform(X_train) # 변환"
   ]
  },
  {
   "cell_type": "code",
   "execution_count": 107,
   "id": "0a4677da-edd7-4b31-bce5-bece58b1d5cd",
   "metadata": {},
   "outputs": [],
   "source": [
    "t_X_test = scaler.transform(X_test) #변환만 수행"
   ]
  },
  {
   "cell_type": "code",
   "execution_count": 110,
   "id": "b8b70a6d-215f-4a62-8f0d-683dbdf1d2ed",
   "metadata": {},
   "outputs": [],
   "source": [
    "# 스케일링 이후 모델 학습\n",
    "knn_model2 = KNeighborsClassifier()"
   ]
  },
  {
   "cell_type": "code",
   "execution_count": 111,
   "id": "fe29ba12-0a7a-408b-8eb6-b74439c9d54b",
   "metadata": {},
   "outputs": [
    {
     "data": {
      "text/html": [
       "<style>#sk-container-id-2 {color: black;background-color: white;}#sk-container-id-2 pre{padding: 0;}#sk-container-id-2 div.sk-toggleable {background-color: white;}#sk-container-id-2 label.sk-toggleable__label {cursor: pointer;display: block;width: 100%;margin-bottom: 0;padding: 0.3em;box-sizing: border-box;text-align: center;}#sk-container-id-2 label.sk-toggleable__label-arrow:before {content: \"▸\";float: left;margin-right: 0.25em;color: #696969;}#sk-container-id-2 label.sk-toggleable__label-arrow:hover:before {color: black;}#sk-container-id-2 div.sk-estimator:hover label.sk-toggleable__label-arrow:before {color: black;}#sk-container-id-2 div.sk-toggleable__content {max-height: 0;max-width: 0;overflow: hidden;text-align: left;background-color: #f0f8ff;}#sk-container-id-2 div.sk-toggleable__content pre {margin: 0.2em;color: black;border-radius: 0.25em;background-color: #f0f8ff;}#sk-container-id-2 input.sk-toggleable__control:checked~div.sk-toggleable__content {max-height: 200px;max-width: 100%;overflow: auto;}#sk-container-id-2 input.sk-toggleable__control:checked~label.sk-toggleable__label-arrow:before {content: \"▾\";}#sk-container-id-2 div.sk-estimator input.sk-toggleable__control:checked~label.sk-toggleable__label {background-color: #d4ebff;}#sk-container-id-2 div.sk-label input.sk-toggleable__control:checked~label.sk-toggleable__label {background-color: #d4ebff;}#sk-container-id-2 input.sk-hidden--visually {border: 0;clip: rect(1px 1px 1px 1px);clip: rect(1px, 1px, 1px, 1px);height: 1px;margin: -1px;overflow: hidden;padding: 0;position: absolute;width: 1px;}#sk-container-id-2 div.sk-estimator {font-family: monospace;background-color: #f0f8ff;border: 1px dotted black;border-radius: 0.25em;box-sizing: border-box;margin-bottom: 0.5em;}#sk-container-id-2 div.sk-estimator:hover {background-color: #d4ebff;}#sk-container-id-2 div.sk-parallel-item::after {content: \"\";width: 100%;border-bottom: 1px solid gray;flex-grow: 1;}#sk-container-id-2 div.sk-label:hover label.sk-toggleable__label {background-color: #d4ebff;}#sk-container-id-2 div.sk-serial::before {content: \"\";position: absolute;border-left: 1px solid gray;box-sizing: border-box;top: 0;bottom: 0;left: 50%;z-index: 0;}#sk-container-id-2 div.sk-serial {display: flex;flex-direction: column;align-items: center;background-color: white;padding-right: 0.2em;padding-left: 0.2em;position: relative;}#sk-container-id-2 div.sk-item {position: relative;z-index: 1;}#sk-container-id-2 div.sk-parallel {display: flex;align-items: stretch;justify-content: center;background-color: white;position: relative;}#sk-container-id-2 div.sk-item::before, #sk-container-id-2 div.sk-parallel-item::before {content: \"\";position: absolute;border-left: 1px solid gray;box-sizing: border-box;top: 0;bottom: 0;left: 50%;z-index: -1;}#sk-container-id-2 div.sk-parallel-item {display: flex;flex-direction: column;z-index: 1;position: relative;background-color: white;}#sk-container-id-2 div.sk-parallel-item:first-child::after {align-self: flex-end;width: 50%;}#sk-container-id-2 div.sk-parallel-item:last-child::after {align-self: flex-start;width: 50%;}#sk-container-id-2 div.sk-parallel-item:only-child::after {width: 0;}#sk-container-id-2 div.sk-dashed-wrapped {border: 1px dashed gray;margin: 0 0.4em 0.5em 0.4em;box-sizing: border-box;padding-bottom: 0.4em;background-color: white;}#sk-container-id-2 div.sk-label label {font-family: monospace;font-weight: bold;display: inline-block;line-height: 1.2em;}#sk-container-id-2 div.sk-label-container {text-align: center;}#sk-container-id-2 div.sk-container {/* jupyter's `normalize.less` sets `[hidden] { display: none; }` but bootstrap.min.css set `[hidden] { display: none !important; }` so we also need the `!important` here to be able to override the default hidden behavior on the sphinx rendered scikit-learn.org. See: https://github.com/scikit-learn/scikit-learn/issues/21755 */display: inline-block !important;position: relative;}#sk-container-id-2 div.sk-text-repr-fallback {display: none;}</style><div id=\"sk-container-id-2\" class=\"sk-top-container\"><div class=\"sk-text-repr-fallback\"><pre>KNeighborsClassifier()</pre><b>In a Jupyter environment, please rerun this cell to show the HTML representation or trust the notebook. <br />On GitHub, the HTML representation is unable to render, please try loading this page with nbviewer.org.</b></div><div class=\"sk-container\" hidden><div class=\"sk-item\"><div class=\"sk-estimator sk-toggleable\"><input class=\"sk-toggleable__control sk-hidden--visually\" id=\"sk-estimator-id-2\" type=\"checkbox\" checked><label for=\"sk-estimator-id-2\" class=\"sk-toggleable__label sk-toggleable__label-arrow\">KNeighborsClassifier</label><div class=\"sk-toggleable__content\"><pre>KNeighborsClassifier()</pre></div></div></div></div></div>"
      ],
      "text/plain": [
       "KNeighborsClassifier()"
      ]
     },
     "execution_count": 111,
     "metadata": {},
     "output_type": "execute_result"
    }
   ],
   "source": [
    "knn_model2.fit(t_X_train,y_train)"
   ]
  },
  {
   "cell_type": "code",
   "execution_count": null,
   "id": "87b633f0-4b91-4929-9827-1fdc285fc91d",
   "metadata": {},
   "outputs": [],
   "source": [
    "# 검증으로 성능확인"
   ]
  },
  {
   "cell_type": "code",
   "execution_count": 112,
   "id": "3c523b11-2891-4fe4-968b-f6da9f6fc11c",
   "metadata": {},
   "outputs": [],
   "source": [
    "from sklearn.model_selection import cross_val_score"
   ]
  },
  {
   "cell_type": "code",
   "execution_count": 115,
   "id": "cde39338-cc95-4d95-95d9-3a9110e9fddc",
   "metadata": {},
   "outputs": [
    {
     "data": {
      "text/plain": [
       "0.7104764296026616"
      ]
     },
     "execution_count": 115,
     "metadata": {},
     "output_type": "execute_result"
    }
   ],
   "source": [
    "cross_val_score(knn_model,X_train,y_train, cv =5 ).mean()\n",
    "#  스케일링 적용X : 약 71%의 검증 성능을 보임"
   ]
  },
  {
   "cell_type": "code",
   "execution_count": 116,
   "id": "4b049472-d7ae-4f94-84d2-472e6fc21c79",
   "metadata": {},
   "outputs": [
    {
     "data": {
      "text/plain": [
       "0.809189630280585"
      ]
     },
     "execution_count": 116,
     "metadata": {},
     "output_type": "execute_result"
    }
   ],
   "source": [
    "cross_val_score(knn_model2,t_X_train,y_train, cv =5 ).mean()\n",
    "# 스케일링 적용O : 약 80%의 검증 성능을 보임\n",
    "# 이유 : 특정 컬럼이 다른 컬럼에 비해 뭉쳐저 있던 상황을 스케일링으로 풀어서 , \n",
    "# knn 알고리즘이 더 잘 수렴하게끔 성능이 향샹됨을 확인"
   ]
  },
  {
   "cell_type": "markdown",
   "id": "4da3a40c-4f24-4fbc-a5c4-3256caf865c1",
   "metadata": {},
   "source": [
    "### 앙상블(Ensemble)\n",
    "- 여러 모델을 결합하는 방식으로 활용하여, 성능을 올리는 기법"
   ]
  },
  {
   "cell_type": "markdown",
   "id": "72183716-c9ab-458a-8f26-95294a62cf71",
   "metadata": {},
   "source": [
    "#### 1. 보팅(Voting)\n",
    "- 여러 개의 <b>다른 종류의 모델</b>이 예측한 결과를 <b>투표 혹은 평균</b>을 통해 최종 결정하는 방식\n",
    "  - 하드 보팅 : 다수결(예측값을 모아서 투표하는 방식)\n",
    "  - 소프트 보팅 : 확률값을 통한 결정 "
   ]
  },
  {
   "cell_type": "code",
   "execution_count": 119,
   "id": "1754f64a-0599-4356-b350-a20db4a5dda1",
   "metadata": {},
   "outputs": [],
   "source": [
    "from sklearn.ensemble import VotingClassifier\n",
    "\n",
    "\n",
    "# 확률값들을 제공하는 모델들도 같이 불러오기\n",
    "from sklearn.linear_model import LogisticRegression # 로지스틱회귀모델(분류만 가능) 선형 분류  모델\n",
    "from sklearn.svm import SVC # 서포트 벡터 머신"
   ]
  },
  {
   "cell_type": "code",
   "execution_count": 120,
   "id": "9fed4cbd-6841-4bb1-b271-cf99a49aede3",
   "metadata": {},
   "outputs": [],
   "source": [
    "# 모델 초기화\n",
    "\n",
    "log_clf = LogisticRegression(max_iter = 10000)\n",
    "# 로지스틱 회귀 모델(분류만 가능)\n",
    "# 분류 알고리즘 중 하로 , 주어진 데이터가 특정 분류에 속할 확률을 주장\n",
    "# 결과는 0~1사이의 값, 0.5를 기준으로 특정 클래스에 속할 확률을 나타냄\n",
    "# max_iter 는 알고리즘이 수렴할 때까지 반복하는 최대 횟수를 지정(학습 빈도수 설정)\n",
    "\n",
    "svm_clf = SVC(probability = True)\n",
    "# 서포트 벡터 머신\n",
    "# 결정경계 선(또는 면)을 만들어서 새로운 데이터 포인트가 어느 클래스에 속할지 예측하는 모델\n",
    "# 기본적으로 확률값을 제공하지는 않음..\n",
    "# probability = True -> SVM모델이 원래 확률값을 제공을 안하는데, 추가 연산을 통해서 확률값을 제공하게끔 설정하는 옵"
   ]
  },
  {
   "cell_type": "code",
   "execution_count": 125,
   "id": "36ebcbfc-7798-4550-83c4-7169ff2e079a",
   "metadata": {},
   "outputs": [
    {
     "data": {
      "text/plain": [
       "0.8294017952419811"
      ]
     },
     "execution_count": 125,
     "metadata": {},
     "output_type": "execute_result"
    }
   ],
   "source": [
    "# 하드 보팅 분류기\n",
    "hard_voting_clf = VotingClassifier(\n",
    "    estimators=[('lr',log_clf),('svc',svm_clf)], # 모델 지정\n",
    "    voting = 'hard' # 보팅 방식 지정\n",
    ")\n",
    "\n",
    "# 학습\n",
    "hard_voting_clf.fit(t_X_train, y_train)\n",
    "\n",
    "# 검증\n",
    "cross_val_score(hard_voting_clf, t_X_train, y_train, cv = 5).mean()"
   ]
  },
  {
   "cell_type": "code",
   "execution_count": 126,
   "id": "6f84adff-a1bd-47d4-b341-7cb51b55f871",
   "metadata": {},
   "outputs": [
    {
     "data": {
      "text/plain": [
       "0.8294017952419811"
      ]
     },
     "execution_count": 126,
     "metadata": {},
     "output_type": "execute_result"
    }
   ],
   "source": [
    "# 소프트 보팅 분류기\n",
    "soft_voting_clf = VotingClassifier(\n",
    "    estimators=[('lr',log_clf),('svc',svm_clf)], # 모델 지정\n",
    "    voting = 'soft' # 보팅 방식 지정\n",
    ")\n",
    "\n",
    "# 학습\n",
    "soft_voting_clf.fit(t_X_train, y_train)\n",
    "\n",
    "# 검증\n",
    "cross_val_score(soft_voting_clf, t_X_train, y_train, cv = 5).mean()"
   ]
  },
  {
   "cell_type": "markdown",
   "id": "df0d60a6-06f3-4178-aa55-9ffb80e0f45a",
   "metadata": {},
   "source": [
    "#### 2. 배경(Bagging)\n",
    "- 여러 개의 <b>같은 종류의 모델</b>이 예측한 결과를 <b>투표 혹은 평균</b>을 통해 최종 결정하는 방식\n",
    "- 대표 모델 : RandomForest 모델 등"
   ]
  },
  {
   "cell_type": "code",
   "execution_count": 127,
   "id": "128281da-cd05-4f2c-b1a1-a0f3dd69eb38",
   "metadata": {},
   "outputs": [],
   "source": [
    "from sklearn.ensemble import RandomForestClassifier"
   ]
  },
  {
   "cell_type": "code",
   "execution_count": 128,
   "id": "3f12bed9-1493-46d0-8186-0ae87b986b0f",
   "metadata": {},
   "outputs": [],
   "source": [
    "rf_clf = RandomForestClassifier(\n",
    "    n_estimators= 100, # 100개 트리 \n",
    "    random_state= 2024\n",
    ")\n",
    "# random_state : 난수 고정, 고정시키지 않는다면, 실행할 때마다 데이터셋이 달라지기 때문에 성능평가 때 영향을 미침`"
   ]
  },
  {
   "cell_type": "code",
   "execution_count": 129,
   "id": "677915ad-d4ed-4e46-92c9-f555d5f62d75",
   "metadata": {},
   "outputs": [
    {
     "data": {
      "text/html": [
       "<style>#sk-container-id-4 {color: black;background-color: white;}#sk-container-id-4 pre{padding: 0;}#sk-container-id-4 div.sk-toggleable {background-color: white;}#sk-container-id-4 label.sk-toggleable__label {cursor: pointer;display: block;width: 100%;margin-bottom: 0;padding: 0.3em;box-sizing: border-box;text-align: center;}#sk-container-id-4 label.sk-toggleable__label-arrow:before {content: \"▸\";float: left;margin-right: 0.25em;color: #696969;}#sk-container-id-4 label.sk-toggleable__label-arrow:hover:before {color: black;}#sk-container-id-4 div.sk-estimator:hover label.sk-toggleable__label-arrow:before {color: black;}#sk-container-id-4 div.sk-toggleable__content {max-height: 0;max-width: 0;overflow: hidden;text-align: left;background-color: #f0f8ff;}#sk-container-id-4 div.sk-toggleable__content pre {margin: 0.2em;color: black;border-radius: 0.25em;background-color: #f0f8ff;}#sk-container-id-4 input.sk-toggleable__control:checked~div.sk-toggleable__content {max-height: 200px;max-width: 100%;overflow: auto;}#sk-container-id-4 input.sk-toggleable__control:checked~label.sk-toggleable__label-arrow:before {content: \"▾\";}#sk-container-id-4 div.sk-estimator input.sk-toggleable__control:checked~label.sk-toggleable__label {background-color: #d4ebff;}#sk-container-id-4 div.sk-label input.sk-toggleable__control:checked~label.sk-toggleable__label {background-color: #d4ebff;}#sk-container-id-4 input.sk-hidden--visually {border: 0;clip: rect(1px 1px 1px 1px);clip: rect(1px, 1px, 1px, 1px);height: 1px;margin: -1px;overflow: hidden;padding: 0;position: absolute;width: 1px;}#sk-container-id-4 div.sk-estimator {font-family: monospace;background-color: #f0f8ff;border: 1px dotted black;border-radius: 0.25em;box-sizing: border-box;margin-bottom: 0.5em;}#sk-container-id-4 div.sk-estimator:hover {background-color: #d4ebff;}#sk-container-id-4 div.sk-parallel-item::after {content: \"\";width: 100%;border-bottom: 1px solid gray;flex-grow: 1;}#sk-container-id-4 div.sk-label:hover label.sk-toggleable__label {background-color: #d4ebff;}#sk-container-id-4 div.sk-serial::before {content: \"\";position: absolute;border-left: 1px solid gray;box-sizing: border-box;top: 0;bottom: 0;left: 50%;z-index: 0;}#sk-container-id-4 div.sk-serial {display: flex;flex-direction: column;align-items: center;background-color: white;padding-right: 0.2em;padding-left: 0.2em;position: relative;}#sk-container-id-4 div.sk-item {position: relative;z-index: 1;}#sk-container-id-4 div.sk-parallel {display: flex;align-items: stretch;justify-content: center;background-color: white;position: relative;}#sk-container-id-4 div.sk-item::before, #sk-container-id-4 div.sk-parallel-item::before {content: \"\";position: absolute;border-left: 1px solid gray;box-sizing: border-box;top: 0;bottom: 0;left: 50%;z-index: -1;}#sk-container-id-4 div.sk-parallel-item {display: flex;flex-direction: column;z-index: 1;position: relative;background-color: white;}#sk-container-id-4 div.sk-parallel-item:first-child::after {align-self: flex-end;width: 50%;}#sk-container-id-4 div.sk-parallel-item:last-child::after {align-self: flex-start;width: 50%;}#sk-container-id-4 div.sk-parallel-item:only-child::after {width: 0;}#sk-container-id-4 div.sk-dashed-wrapped {border: 1px dashed gray;margin: 0 0.4em 0.5em 0.4em;box-sizing: border-box;padding-bottom: 0.4em;background-color: white;}#sk-container-id-4 div.sk-label label {font-family: monospace;font-weight: bold;display: inline-block;line-height: 1.2em;}#sk-container-id-4 div.sk-label-container {text-align: center;}#sk-container-id-4 div.sk-container {/* jupyter's `normalize.less` sets `[hidden] { display: none; }` but bootstrap.min.css set `[hidden] { display: none !important; }` so we also need the `!important` here to be able to override the default hidden behavior on the sphinx rendered scikit-learn.org. See: https://github.com/scikit-learn/scikit-learn/issues/21755 */display: inline-block !important;position: relative;}#sk-container-id-4 div.sk-text-repr-fallback {display: none;}</style><div id=\"sk-container-id-4\" class=\"sk-top-container\"><div class=\"sk-text-repr-fallback\"><pre>RandomForestClassifier(random_state=2024)</pre><b>In a Jupyter environment, please rerun this cell to show the HTML representation or trust the notebook. <br />On GitHub, the HTML representation is unable to render, please try loading this page with nbviewer.org.</b></div><div class=\"sk-container\" hidden><div class=\"sk-item\"><div class=\"sk-estimator sk-toggleable\"><input class=\"sk-toggleable__control sk-hidden--visually\" id=\"sk-estimator-id-6\" type=\"checkbox\" checked><label for=\"sk-estimator-id-6\" class=\"sk-toggleable__label sk-toggleable__label-arrow\">RandomForestClassifier</label><div class=\"sk-toggleable__content\"><pre>RandomForestClassifier(random_state=2024)</pre></div></div></div></div></div>"
      ],
      "text/plain": [
       "RandomForestClassifier(random_state=2024)"
      ]
     },
     "execution_count": 129,
     "metadata": {},
     "output_type": "execute_result"
    }
   ],
   "source": [
    "# 학습\n",
    "rf_clf.fit(X_train,y_train)"
   ]
  },
  {
   "cell_type": "code",
   "execution_count": 130,
   "id": "b43018ac-7ccd-4d60-806c-fb0cf5c3dc5b",
   "metadata": {},
   "outputs": [
    {
     "data": {
      "text/plain": [
       "0.8136777352331931"
      ]
     },
     "execution_count": 130,
     "metadata": {},
     "output_type": "execute_result"
    }
   ],
   "source": [
    "# 검증\n",
    "cross_val_score(rf_clf, X_train,y_train,cv=5).mean()"
   ]
  },
  {
   "cell_type": "markdown",
   "id": "230fe9ea-5950-4331-8dcf-3a62114e74a4",
   "metadata": {},
   "source": [
    "###### 그리드서치(GridSearchCV)적용해서 최적의 하이퍼파라미터 찾기\n",
    "- 어떠한 하이퍼 파라미터가 적합한 하이퍼 파라미터인지 찾게 도와주는 기능"
   ]
  },
  {
   "cell_type": "code",
   "execution_count": 131,
   "id": "a23f9eaf-8746-4d02-9c08-9884afc9a60d",
   "metadata": {},
   "outputs": [],
   "source": [
    "from sklearn.model_selection import GridSearchCV"
   ]
  },
  {
   "cell_type": "code",
   "execution_count": 133,
   "id": "6a0629a9-61a4-489b-b080-71e12cad67e6",
   "metadata": {},
   "outputs": [
    {
     "data": {
      "text/html": [
       "<style>#sk-container-id-6 {color: black;background-color: white;}#sk-container-id-6 pre{padding: 0;}#sk-container-id-6 div.sk-toggleable {background-color: white;}#sk-container-id-6 label.sk-toggleable__label {cursor: pointer;display: block;width: 100%;margin-bottom: 0;padding: 0.3em;box-sizing: border-box;text-align: center;}#sk-container-id-6 label.sk-toggleable__label-arrow:before {content: \"▸\";float: left;margin-right: 0.25em;color: #696969;}#sk-container-id-6 label.sk-toggleable__label-arrow:hover:before {color: black;}#sk-container-id-6 div.sk-estimator:hover label.sk-toggleable__label-arrow:before {color: black;}#sk-container-id-6 div.sk-toggleable__content {max-height: 0;max-width: 0;overflow: hidden;text-align: left;background-color: #f0f8ff;}#sk-container-id-6 div.sk-toggleable__content pre {margin: 0.2em;color: black;border-radius: 0.25em;background-color: #f0f8ff;}#sk-container-id-6 input.sk-toggleable__control:checked~div.sk-toggleable__content {max-height: 200px;max-width: 100%;overflow: auto;}#sk-container-id-6 input.sk-toggleable__control:checked~label.sk-toggleable__label-arrow:before {content: \"▾\";}#sk-container-id-6 div.sk-estimator input.sk-toggleable__control:checked~label.sk-toggleable__label {background-color: #d4ebff;}#sk-container-id-6 div.sk-label input.sk-toggleable__control:checked~label.sk-toggleable__label {background-color: #d4ebff;}#sk-container-id-6 input.sk-hidden--visually {border: 0;clip: rect(1px 1px 1px 1px);clip: rect(1px, 1px, 1px, 1px);height: 1px;margin: -1px;overflow: hidden;padding: 0;position: absolute;width: 1px;}#sk-container-id-6 div.sk-estimator {font-family: monospace;background-color: #f0f8ff;border: 1px dotted black;border-radius: 0.25em;box-sizing: border-box;margin-bottom: 0.5em;}#sk-container-id-6 div.sk-estimator:hover {background-color: #d4ebff;}#sk-container-id-6 div.sk-parallel-item::after {content: \"\";width: 100%;border-bottom: 1px solid gray;flex-grow: 1;}#sk-container-id-6 div.sk-label:hover label.sk-toggleable__label {background-color: #d4ebff;}#sk-container-id-6 div.sk-serial::before {content: \"\";position: absolute;border-left: 1px solid gray;box-sizing: border-box;top: 0;bottom: 0;left: 50%;z-index: 0;}#sk-container-id-6 div.sk-serial {display: flex;flex-direction: column;align-items: center;background-color: white;padding-right: 0.2em;padding-left: 0.2em;position: relative;}#sk-container-id-6 div.sk-item {position: relative;z-index: 1;}#sk-container-id-6 div.sk-parallel {display: flex;align-items: stretch;justify-content: center;background-color: white;position: relative;}#sk-container-id-6 div.sk-item::before, #sk-container-id-6 div.sk-parallel-item::before {content: \"\";position: absolute;border-left: 1px solid gray;box-sizing: border-box;top: 0;bottom: 0;left: 50%;z-index: -1;}#sk-container-id-6 div.sk-parallel-item {display: flex;flex-direction: column;z-index: 1;position: relative;background-color: white;}#sk-container-id-6 div.sk-parallel-item:first-child::after {align-self: flex-end;width: 50%;}#sk-container-id-6 div.sk-parallel-item:last-child::after {align-self: flex-start;width: 50%;}#sk-container-id-6 div.sk-parallel-item:only-child::after {width: 0;}#sk-container-id-6 div.sk-dashed-wrapped {border: 1px dashed gray;margin: 0 0.4em 0.5em 0.4em;box-sizing: border-box;padding-bottom: 0.4em;background-color: white;}#sk-container-id-6 div.sk-label label {font-family: monospace;font-weight: bold;display: inline-block;line-height: 1.2em;}#sk-container-id-6 div.sk-label-container {text-align: center;}#sk-container-id-6 div.sk-container {/* jupyter's `normalize.less` sets `[hidden] { display: none; }` but bootstrap.min.css set `[hidden] { display: none !important; }` so we also need the `!important` here to be able to override the default hidden behavior on the sphinx rendered scikit-learn.org. See: https://github.com/scikit-learn/scikit-learn/issues/21755 */display: inline-block !important;position: relative;}#sk-container-id-6 div.sk-text-repr-fallback {display: none;}</style><div id=\"sk-container-id-6\" class=\"sk-top-container\"><div class=\"sk-text-repr-fallback\"><pre>GridSearchCV(cv=5, estimator=RandomForestClassifier(random_state=2024),\n",
       "             n_jobs=-1,\n",
       "             param_grid={&#x27;max_depth&#x27;: [3, 5, 7], &#x27;max_leaf_nodes&#x27;: [2, 4, 6],\n",
       "                         &#x27;min_samples_split&#x27;: [3, 5, 7],\n",
       "                         &#x27;n_estimators&#x27;: [50, 100, 200]},\n",
       "             scoring=&#x27;accuracy&#x27;)</pre><b>In a Jupyter environment, please rerun this cell to show the HTML representation or trust the notebook. <br />On GitHub, the HTML representation is unable to render, please try loading this page with nbviewer.org.</b></div><div class=\"sk-container\" hidden><div class=\"sk-item sk-dashed-wrapped\"><div class=\"sk-label-container\"><div class=\"sk-label sk-toggleable\"><input class=\"sk-toggleable__control sk-hidden--visually\" id=\"sk-estimator-id-10\" type=\"checkbox\" ><label for=\"sk-estimator-id-10\" class=\"sk-toggleable__label sk-toggleable__label-arrow\">GridSearchCV</label><div class=\"sk-toggleable__content\"><pre>GridSearchCV(cv=5, estimator=RandomForestClassifier(random_state=2024),\n",
       "             n_jobs=-1,\n",
       "             param_grid={&#x27;max_depth&#x27;: [3, 5, 7], &#x27;max_leaf_nodes&#x27;: [2, 4, 6],\n",
       "                         &#x27;min_samples_split&#x27;: [3, 5, 7],\n",
       "                         &#x27;n_estimators&#x27;: [50, 100, 200]},\n",
       "             scoring=&#x27;accuracy&#x27;)</pre></div></div></div><div class=\"sk-parallel\"><div class=\"sk-parallel-item\"><div class=\"sk-item\"><div class=\"sk-label-container\"><div class=\"sk-label sk-toggleable\"><input class=\"sk-toggleable__control sk-hidden--visually\" id=\"sk-estimator-id-11\" type=\"checkbox\" ><label for=\"sk-estimator-id-11\" class=\"sk-toggleable__label sk-toggleable__label-arrow\">estimator: RandomForestClassifier</label><div class=\"sk-toggleable__content\"><pre>RandomForestClassifier(random_state=2024)</pre></div></div></div><div class=\"sk-serial\"><div class=\"sk-item\"><div class=\"sk-estimator sk-toggleable\"><input class=\"sk-toggleable__control sk-hidden--visually\" id=\"sk-estimator-id-12\" type=\"checkbox\" ><label for=\"sk-estimator-id-12\" class=\"sk-toggleable__label sk-toggleable__label-arrow\">RandomForestClassifier</label><div class=\"sk-toggleable__content\"><pre>RandomForestClassifier(random_state=2024)</pre></div></div></div></div></div></div></div></div></div></div>"
      ],
      "text/plain": [
       "GridSearchCV(cv=5, estimator=RandomForestClassifier(random_state=2024),\n",
       "             n_jobs=-1,\n",
       "             param_grid={'max_depth': [3, 5, 7], 'max_leaf_nodes': [2, 4, 6],\n",
       "                         'min_samples_split': [3, 5, 7],\n",
       "                         'n_estimators': [50, 100, 200]},\n",
       "             scoring='accuracy')"
      ]
     },
     "execution_count": 133,
     "metadata": {},
     "output_type": "execute_result"
    }
   ],
   "source": [
    "# 1. 하이퍼 파라미터 경우의 수 설정\n",
    "params = {\n",
    "    \"n_estimators\":[50,100,200], # 트리의 개수\n",
    "    \"max_depth\":[3,5,7], # 트리의 최대 깊이를 지정\n",
    "    \"max_leaf_nodes\":[2,4,6], # 리프 노드의 최대 샘플 개수 제한\n",
    "    \"min_samples_split\":[3,5,7], # 노드를 분할하기 위한 최소 샘플 개수를 지정\n",
    "}\n",
    "\n",
    "# 2. 대상 모델 초기회(모델 생성)\n",
    "rf_clf = RandomForestClassifier(random_state = 2024)\n",
    "\n",
    "# 3. 그리드 서치 옵션 설정\n",
    "grid = GridSearchCV(\n",
    "    rf_clf, # 모델 설정\n",
    "    params, # 하이퍼파라미터 경우의 수 설정\n",
    "    cv = 5, # 5겸 fold 교차 검증 수행\n",
    "    scoring= \"accuracy\", # 모델의 평가지표 설정(ex.recall,auc_roc...)\n",
    "    n_jobs=-1  #사용 가능한 모든 CPU 코어를 사용하여 병렬 처리를 수행\n",
    ")\n",
    "\n",
    "# 4. 실행(찾아라!)\n",
    "grid.fit(X_train, y_train) # 그리드 서치를 수행하여 최적의 하이퍼 파라미터 조합을 찾음!"
   ]
  },
  {
   "cell_type": "code",
   "execution_count": 134,
   "id": "46a8bee4-fe34-49fb-ada3-48e9eee57463",
   "metadata": {},
   "outputs": [
    {
     "name": "stdout",
     "output_type": "stream",
     "text": [
      "최적의 하이퍼 파라미터 조합 : {'max_depth': 5, 'max_leaf_nodes': 6, 'min_samples_split': 3, 'n_estimators': 50}\n",
      "최적의 하이퍼 파라미터 조합의 정확도 : 0.8170359676103194\n"
     ]
    }
   ],
   "source": [
    "print(\"최적의 하이퍼 파라미터 조합 :\", grid.best_params_)\n",
    "print(\"최적의 하이퍼 파라미터 조합의 정확도 :\", grid.best_score_)"
   ]
  },
  {
   "cell_type": "code",
   "execution_count": 135,
   "id": "6e59be46-2958-40b7-98a9-a84d9bb375b9",
   "metadata": {},
   "outputs": [
    {
     "data": {
      "text/html": [
       "<style>#sk-container-id-7 {color: black;background-color: white;}#sk-container-id-7 pre{padding: 0;}#sk-container-id-7 div.sk-toggleable {background-color: white;}#sk-container-id-7 label.sk-toggleable__label {cursor: pointer;display: block;width: 100%;margin-bottom: 0;padding: 0.3em;box-sizing: border-box;text-align: center;}#sk-container-id-7 label.sk-toggleable__label-arrow:before {content: \"▸\";float: left;margin-right: 0.25em;color: #696969;}#sk-container-id-7 label.sk-toggleable__label-arrow:hover:before {color: black;}#sk-container-id-7 div.sk-estimator:hover label.sk-toggleable__label-arrow:before {color: black;}#sk-container-id-7 div.sk-toggleable__content {max-height: 0;max-width: 0;overflow: hidden;text-align: left;background-color: #f0f8ff;}#sk-container-id-7 div.sk-toggleable__content pre {margin: 0.2em;color: black;border-radius: 0.25em;background-color: #f0f8ff;}#sk-container-id-7 input.sk-toggleable__control:checked~div.sk-toggleable__content {max-height: 200px;max-width: 100%;overflow: auto;}#sk-container-id-7 input.sk-toggleable__control:checked~label.sk-toggleable__label-arrow:before {content: \"▾\";}#sk-container-id-7 div.sk-estimator input.sk-toggleable__control:checked~label.sk-toggleable__label {background-color: #d4ebff;}#sk-container-id-7 div.sk-label input.sk-toggleable__control:checked~label.sk-toggleable__label {background-color: #d4ebff;}#sk-container-id-7 input.sk-hidden--visually {border: 0;clip: rect(1px 1px 1px 1px);clip: rect(1px, 1px, 1px, 1px);height: 1px;margin: -1px;overflow: hidden;padding: 0;position: absolute;width: 1px;}#sk-container-id-7 div.sk-estimator {font-family: monospace;background-color: #f0f8ff;border: 1px dotted black;border-radius: 0.25em;box-sizing: border-box;margin-bottom: 0.5em;}#sk-container-id-7 div.sk-estimator:hover {background-color: #d4ebff;}#sk-container-id-7 div.sk-parallel-item::after {content: \"\";width: 100%;border-bottom: 1px solid gray;flex-grow: 1;}#sk-container-id-7 div.sk-label:hover label.sk-toggleable__label {background-color: #d4ebff;}#sk-container-id-7 div.sk-serial::before {content: \"\";position: absolute;border-left: 1px solid gray;box-sizing: border-box;top: 0;bottom: 0;left: 50%;z-index: 0;}#sk-container-id-7 div.sk-serial {display: flex;flex-direction: column;align-items: center;background-color: white;padding-right: 0.2em;padding-left: 0.2em;position: relative;}#sk-container-id-7 div.sk-item {position: relative;z-index: 1;}#sk-container-id-7 div.sk-parallel {display: flex;align-items: stretch;justify-content: center;background-color: white;position: relative;}#sk-container-id-7 div.sk-item::before, #sk-container-id-7 div.sk-parallel-item::before {content: \"\";position: absolute;border-left: 1px solid gray;box-sizing: border-box;top: 0;bottom: 0;left: 50%;z-index: -1;}#sk-container-id-7 div.sk-parallel-item {display: flex;flex-direction: column;z-index: 1;position: relative;background-color: white;}#sk-container-id-7 div.sk-parallel-item:first-child::after {align-self: flex-end;width: 50%;}#sk-container-id-7 div.sk-parallel-item:last-child::after {align-self: flex-start;width: 50%;}#sk-container-id-7 div.sk-parallel-item:only-child::after {width: 0;}#sk-container-id-7 div.sk-dashed-wrapped {border: 1px dashed gray;margin: 0 0.4em 0.5em 0.4em;box-sizing: border-box;padding-bottom: 0.4em;background-color: white;}#sk-container-id-7 div.sk-label label {font-family: monospace;font-weight: bold;display: inline-block;line-height: 1.2em;}#sk-container-id-7 div.sk-label-container {text-align: center;}#sk-container-id-7 div.sk-container {/* jupyter's `normalize.less` sets `[hidden] { display: none; }` but bootstrap.min.css set `[hidden] { display: none !important; }` so we also need the `!important` here to be able to override the default hidden behavior on the sphinx rendered scikit-learn.org. See: https://github.com/scikit-learn/scikit-learn/issues/21755 */display: inline-block !important;position: relative;}#sk-container-id-7 div.sk-text-repr-fallback {display: none;}</style><div id=\"sk-container-id-7\" class=\"sk-top-container\"><div class=\"sk-text-repr-fallback\"><pre>RandomForestClassifier(max_depth=5, max_leaf_nodes=6, min_samples_split=3,\n",
       "                       n_estimators=50, random_state=2024)</pre><b>In a Jupyter environment, please rerun this cell to show the HTML representation or trust the notebook. <br />On GitHub, the HTML representation is unable to render, please try loading this page with nbviewer.org.</b></div><div class=\"sk-container\" hidden><div class=\"sk-item\"><div class=\"sk-estimator sk-toggleable\"><input class=\"sk-toggleable__control sk-hidden--visually\" id=\"sk-estimator-id-13\" type=\"checkbox\" checked><label for=\"sk-estimator-id-13\" class=\"sk-toggleable__label sk-toggleable__label-arrow\">RandomForestClassifier</label><div class=\"sk-toggleable__content\"><pre>RandomForestClassifier(max_depth=5, max_leaf_nodes=6, min_samples_split=3,\n",
       "                       n_estimators=50, random_state=2024)</pre></div></div></div></div></div>"
      ],
      "text/plain": [
       "RandomForestClassifier(max_depth=5, max_leaf_nodes=6, min_samples_split=3,\n",
       "                       n_estimators=50, random_state=2024)"
      ]
     },
     "execution_count": 135,
     "metadata": {},
     "output_type": "execute_result"
    }
   ],
   "source": [
    "# 다시 최적의 하이퍼 파라미터로 모델링\n",
    "best_rf_clf = RandomForestClassifier(\n",
    "    max_depth=5,\n",
    "    max_leaf_nodes=6,\n",
    "    min_samples_split=3,\n",
    "    n_estimators =50,\n",
    "    random_state = 2024\n",
    ")\n",
    "\n",
    "# 학습\n",
    "best_rf_clf.fit(X_train,y_train)"
   ]
  },
  {
   "cell_type": "code",
   "execution_count": 136,
   "id": "1367b166-a00d-4ac3-b4ec-5ff646a19766",
   "metadata": {},
   "outputs": [
    {
     "data": {
      "text/plain": [
       "0.8170359676103194"
      ]
     },
     "execution_count": 136,
     "metadata": {},
     "output_type": "execute_result"
    }
   ],
   "source": [
    "# 검증\n",
    "cross_val_score(best_rf_clf,X_train,y_train, cv=5).mean()"
   ]
  },
  {
   "cell_type": "markdown",
   "id": "a623cb76-153f-41d2-994d-c18a15099cd9",
   "metadata": {},
   "source": [
    "#### 특성 중요도 확인\n",
    "- tree 계열 모델들의 장점 중 하나가 특성 중요도를 확인 가능 -> Feature Selection 때 활용!\n",
    "- RandomForest도 tree 계열이기 때문에 특성중요도 확인 가능!"
   ]
  },
  {
   "cell_type": "code",
   "execution_count": 143,
   "id": "be6889f0-8e61-4906-853a-ee1b88978aaa",
   "metadata": {},
   "outputs": [
    {
     "data": {
      "image/png": "[encoded data removed]",
      "text/plain": [
       "<Figure size 1000x800 with 1 Axes>"
      ]
     },
     "metadata": {},
     "output_type": "display_data"
    }
   ],
   "source": [
    "ftex = best_rf_clf.feature_importances_ #특성 중요도\n",
    "ftex_series = pd.Series(ftex, index = X_train.columns) # 각각의 컬럼 매핑을 시리즈 형변환\n",
    "ftex_series = ftex_series.sort_values(ascending=False) # 내림차순으로 정렬\n",
    "\n",
    "\n",
    "plt.figure(figsize=(10,8))\n",
    "plt.title(\"Feature importances\")\n",
    "sns.barplot(x= ftex_series,\n",
    "           y= ftex_series.index)\n",
    "plt.show()"
   ]
  },
  {
   "cell_type": "markdown",
   "id": "211fd3a8-0d36-4e8b-960c-c5d351325b0c",
   "metadata": {},
   "source": [
    "#### 3. 부스팅(Boosting)\n",
    "- 여러 개의 <b>같은 종류의 모델</b>이 순차적으로 학습하여, 오분류(오차)에 가중치를 부여해 개선해나가는 방식\n",
    "- Boosting 종류\n",
    "  - AdaBoost (Adaptive Boosting)\n",
    "     - 오분류 된 데이터 포인트에 더 큰 가중치를 할당하고 ,이를 통해 새로운 분류기가 이전의 오류를 적응하여 개선\n",
    "     - 각 반복에서 올바르게 분류도니 샘플의 가중치는 감소하고, 잘 못 분류 된 샘플의 가중치는 증가하여 오분류에 대한 데이터를 보완\n",
    "     - 이해하기 쉬움\n",
    "  - Gradient Boosting\n",
    "     - 오차값을 추출하는 도구 (손실함수) 를 활용해서 기울기를 사용하여 연속적으로 모델을 개선\n",
    "  - XGBoost\n",
    "     - GBM 확장버전 -> 성능이나 속도를 최적화\n",
    "     - Kaggle 대회 등에서 널리 사용됨, 대규모 데이터셋이나 복잡한 문제에 매우 효과적 "
   ]
  },
  {
   "cell_type": "code",
   "execution_count": 151,
   "id": "a7c61509-b0c0-4cdb-a2fb-348bb3f7d5f1",
   "metadata": {},
   "outputs": [],
   "source": [
    "# AdaBoost,GBM 모델 불러오기\n",
    "from sklearn.ensemble import AdaBoostClassifier , GradientBoostingClassifier"
   ]
  },
  {
   "cell_type": "code",
   "execution_count": 152,
   "id": "89539763-aacf-4963-b8b3-f8a5c1444ac0",
   "metadata": {},
   "outputs": [],
   "source": [
    "# AdaBoost 모델 초기화\n",
    "ada_clf = AdaBoostClassifier(\n",
    "    n_estimators= 100, # 트리 개수 지정\n",
    "    random_state= 2024,\n",
    "    learning_rate = 0.1 # 학습률(보폭)\n",
    ")"
   ]
  },
  {
   "cell_type": "code",
   "execution_count": 153,
   "id": "7cecd943-c0a6-43e1-8006-24e9dc071fd4",
   "metadata": {},
   "outputs": [
    {
     "data": {
      "text/plain": [
       "0.827154604230745"
      ]
     },
     "execution_count": 153,
     "metadata": {},
     "output_type": "execute_result"
    }
   ],
   "source": [
    "# 검증\n",
    "cross_val_score(ada_clf,X_train,y_train,cv=5).mean()"
   ]
  },
  {
   "cell_type": "code",
   "execution_count": 155,
   "id": "1e15e26b-404a-49c7-b92b-f6f5e62b6707",
   "metadata": {},
   "outputs": [],
   "source": [
    "# GBM 모델 초기화\n",
    "gb_clf = GradientBoostingClassifier(\n",
    "    n_estimators= 100, # 트리 개수 지정\n",
    "    random_state= 2024,\n",
    "    learning_rate = 0.1,# 학습률(보폭)\n",
    "    max_depth = 5 # 트리 깊이 제한\n",
    ")"
   ]
  },
  {
   "cell_type": "code",
   "execution_count": 156,
   "id": "e2d30405-3255-4589-a5b8-210ec702de40",
   "metadata": {},
   "outputs": [
    {
     "data": {
      "text/plain": [
       "0.8294080723118448"
      ]
     },
     "execution_count": 156,
     "metadata": {},
     "output_type": "execute_result"
    }
   ],
   "source": [
    "cross_val_score(gb_clf,X_train,y_train, cv= 5).mean()"
   ]
  },
  {
   "cell_type": "code",
   "execution_count": 157,
   "id": "2849cf17-d61c-464f-af5f-e354ec58f313",
   "metadata": {},
   "outputs": [
    {
     "name": "stdout",
     "output_type": "stream",
     "text": [
      "Collecting xgboost\n",
      "  Downloading xgboost-2.1.0-py3-none-win_amd64.whl.metadata (2.1 kB)\n",
      "Requirement already satisfied: numpy in c:\\users\\smhrd1\\anaconda3\\lib\\site-packages (from xgboost) (1.26.4)\n",
      "Requirement already satisfied: scipy in c:\\users\\smhrd1\\anaconda3\\lib\\site-packages (from xgboost) (1.11.4)\n",
      "Downloading xgboost-2.1.0-py3-none-win_amd64.whl (124.9 MB)\n",
      "   ---------------------------------------- 0.0/124.9 MB ? eta -:--:--\n",
      "   ---------------------------------------- 0.0/124.9 MB ? eta -:--:--\n",
      "   ---------------------------------------- 0.0/124.9 MB 487.6 kB/s eta 0:04:17\n",
      "   ---------------------------------------- 0.1/124.9 MB 930.9 kB/s eta 0:02:15\n",
      "   ---------------------------------------- 0.4/124.9 MB 2.3 MB/s eta 0:00:56\n",
      "   ---------------------------------------- 1.0/124.9 MB 4.5 MB/s eta 0:00:28\n",
      "    --------------------------------------- 2.0/124.9 MB 7.3 MB/s eta 0:00:17\n",
      "    --------------------------------------- 2.5/124.9 MB 9.0 MB/s eta 0:00:14\n",
      "   - -------------------------------------- 3.6/124.9 MB 9.9 MB/s eta 0:00:13\n",
      "   - -------------------------------------- 4.9/124.9 MB 12.0 MB/s eta 0:00:11\n",
      "   - -------------------------------------- 6.1/124.9 MB 13.5 MB/s eta 0:00:09\n",
      "   -- ------------------------------------- 7.6/124.9 MB 15.7 MB/s eta 0:00:08\n",
      "   -- ------------------------------------- 8.4/124.9 MB 16.2 MB/s eta 0:00:08\n",
      "   --- ------------------------------------ 9.4/124.9 MB 16.2 MB/s eta 0:00:08\n",
      "   --- ------------------------------------ 10.3/124.9 MB 19.9 MB/s eta 0:00:06\n",
      "   --- ------------------------------------ 11.7/124.9 MB 23.4 MB/s eta 0:00:05\n",
      "   ---- ----------------------------------- 12.9/124.9 MB 25.2 MB/s eta 0:00:05\n",
      "   ---- ----------------------------------- 13.5/124.9 MB 24.2 MB/s eta 0:00:05\n",
      "   ---- ----------------------------------- 14.4/124.9 MB 23.4 MB/s eta 0:00:05\n",
      "   ---- ----------------------------------- 14.8/124.9 MB 22.6 MB/s eta 0:00:05\n",
      "   ---- ----------------------------------- 15.4/124.9 MB 21.1 MB/s eta 0:00:06\n",
      "   ----- ---------------------------------- 16.3/124.9 MB 20.5 MB/s eta 0:00:06\n",
      "   ----- ---------------------------------- 17.3/124.9 MB 19.3 MB/s eta 0:00:06\n",
      "   ----- ---------------------------------- 18.6/124.9 MB 19.3 MB/s eta 0:00:06\n",
      "   ------ --------------------------------- 19.5/124.9 MB 19.8 MB/s eta 0:00:06\n",
      "   ------ --------------------------------- 20.2/124.9 MB 19.8 MB/s eta 0:00:06\n",
      "   ------ --------------------------------- 21.0/124.9 MB 19.8 MB/s eta 0:00:06\n",
      "   ------ --------------------------------- 21.0/124.9 MB 18.2 MB/s eta 0:00:06\n",
      "   ------ --------------------------------- 21.6/124.9 MB 16.8 MB/s eta 0:00:07\n",
      "   ------- -------------------------------- 23.2/124.9 MB 17.3 MB/s eta 0:00:06\n",
      "   ------- -------------------------------- 23.9/124.9 MB 17.7 MB/s eta 0:00:06\n",
      "   ------- -------------------------------- 24.8/124.9 MB 17.7 MB/s eta 0:00:06\n",
      "   -------- ------------------------------- 25.6/124.9 MB 18.7 MB/s eta 0:00:06\n",
      "   -------- ------------------------------- 26.4/124.9 MB 18.2 MB/s eta 0:00:06\n",
      "   -------- ------------------------------- 27.3/124.9 MB 17.7 MB/s eta 0:00:06\n",
      "   -------- ------------------------------- 27.3/124.9 MB 17.7 MB/s eta 0:00:06\n",
      "   -------- ------------------------------- 27.3/124.9 MB 17.7 MB/s eta 0:00:06\n",
      "   -------- ------------------------------- 27.3/124.9 MB 17.7 MB/s eta 0:00:06\n",
      "   -------- ------------------------------- 27.3/124.9 MB 17.7 MB/s eta 0:00:06\n",
      "   -------- ------------------------------- 27.6/124.9 MB 12.8 MB/s eta 0:00:08\n",
      "   --------- ------------------------------ 28.6/124.9 MB 12.8 MB/s eta 0:00:08\n",
      "   --------- ------------------------------ 29.2/124.9 MB 12.6 MB/s eta 0:00:08\n",
      "   --------- ------------------------------ 30.0/124.9 MB 12.6 MB/s eta 0:00:08\n",
      "   --------- ------------------------------ 30.6/124.9 MB 12.8 MB/s eta 0:00:08\n",
      "   ---------- ----------------------------- 32.2/124.9 MB 13.6 MB/s eta 0:00:07\n",
      "   ---------- ----------------------------- 33.6/124.9 MB 13.9 MB/s eta 0:00:07\n",
      "   ---------- ----------------------------- 34.1/124.9 MB 13.9 MB/s eta 0:00:07\n",
      "   ----------- ---------------------------- 34.9/124.9 MB 13.9 MB/s eta 0:00:07\n",
      "   ----------- ---------------------------- 35.8/124.9 MB 13.6 MB/s eta 0:00:07\n",
      "   ----------- ---------------------------- 36.7/124.9 MB 13.9 MB/s eta 0:00:07\n",
      "   ------------ --------------------------- 37.6/124.9 MB 18.7 MB/s eta 0:00:05\n",
      "   ------------ --------------------------- 37.8/124.9 MB 18.2 MB/s eta 0:00:05\n",
      "   ------------ --------------------------- 38.6/124.9 MB 18.2 MB/s eta 0:00:05\n",
      "   ------------ --------------------------- 38.9/124.9 MB 16.8 MB/s eta 0:00:06\n",
      "   ------------ --------------------------- 39.8/124.9 MB 17.2 MB/s eta 0:00:05\n",
      "   ------------- -------------------------- 41.5/124.9 MB 18.7 MB/s eta 0:00:05\n",
      "   ------------- -------------------------- 41.6/124.9 MB 18.7 MB/s eta 0:00:05\n",
      "   ------------- -------------------------- 41.7/124.9 MB 16.8 MB/s eta 0:00:05\n",
      "   ------------- -------------------------- 42.4/124.9 MB 16.0 MB/s eta 0:00:06\n",
      "   ------------- -------------------------- 43.1/124.9 MB 15.2 MB/s eta 0:00:06\n",
      "   -------------- ------------------------- 44.0/124.9 MB 15.6 MB/s eta 0:00:06\n",
      "   -------------- ------------------------- 44.9/124.9 MB 14.9 MB/s eta 0:00:06\n",
      "   -------------- ------------------------- 45.4/124.9 MB 15.6 MB/s eta 0:00:06\n",
      "   -------------- ------------------------- 46.5/124.9 MB 15.2 MB/s eta 0:00:06\n",
      "   --------------- ------------------------ 47.5/124.9 MB 15.6 MB/s eta 0:00:05\n",
      "   --------------- ------------------------ 47.7/124.9 MB 14.9 MB/s eta 0:00:06\n",
      "   --------------- ------------------------ 48.6/124.9 MB 15.2 MB/s eta 0:00:06\n",
      "   --------------- ------------------------ 48.8/124.9 MB 14.9 MB/s eta 0:00:06\n",
      "   ---------------- ----------------------- 50.3/124.9 MB 16.0 MB/s eta 0:00:05\n",
      "   ---------------- ----------------------- 51.3/124.9 MB 15.6 MB/s eta 0:00:05\n",
      "   ---------------- ----------------------- 51.3/124.9 MB 15.6 MB/s eta 0:00:05\n",
      "   ---------------- ----------------------- 52.6/124.9 MB 17.2 MB/s eta 0:00:05\n",
      "   ---------------- ----------------------- 52.6/124.9 MB 17.2 MB/s eta 0:00:05\n",
      "   ---------------- ----------------------- 52.8/124.9 MB 15.2 MB/s eta 0:00:05\n",
      "   ----------------- ---------------------- 53.2/124.9 MB 14.6 MB/s eta 0:00:05\n",
      "   ----------------- ---------------------- 53.3/124.9 MB 13.9 MB/s eta 0:00:06\n",
      "   ----------------- ---------------------- 53.7/124.9 MB 13.4 MB/s eta 0:00:06\n",
      "   ----------------- ---------------------- 54.5/124.9 MB 13.1 MB/s eta 0:00:06\n",
      "   ----------------- ---------------------- 55.4/124.9 MB 13.4 MB/s eta 0:00:06\n",
      "   ----------------- ---------------------- 56.1/124.9 MB 13.1 MB/s eta 0:00:06\n",
      "   ------------------ --------------------- 57.0/124.9 MB 13.6 MB/s eta 0:00:05\n",
      "   ------------------ --------------------- 58.2/124.9 MB 13.9 MB/s eta 0:00:05\n",
      "   ------------------ --------------------- 59.1/124.9 MB 14.9 MB/s eta 0:00:05\n",
      "   ------------------- -------------------- 59.4/124.9 MB 14.6 MB/s eta 0:00:05\n",
      "   ------------------- -------------------- 60.3/124.9 MB 13.6 MB/s eta 0:00:05\n",
      "   ------------------- -------------------- 60.9/124.9 MB 13.9 MB/s eta 0:00:05\n",
      "   ------------------- -------------------- 61.6/124.9 MB 14.2 MB/s eta 0:00:05\n",
      "   ------------------- -------------------- 61.7/124.9 MB 13.1 MB/s eta 0:00:05\n",
      "   -------------------- ------------------- 62.7/124.9 MB 12.4 MB/s eta 0:00:06\n",
      "   -------------------- ------------------- 63.0/124.9 MB 13.6 MB/s eta 0:00:05\n",
      "   -------------------- ------------------- 63.4/124.9 MB 14.2 MB/s eta 0:00:05\n",
      "   -------------------- ------------------- 64.0/124.9 MB 14.6 MB/s eta 0:00:05\n",
      "   -------------------- ------------------- 64.1/124.9 MB 14.9 MB/s eta 0:00:05\n",
      "   -------------------- ------------------- 64.3/124.9 MB 13.4 MB/s eta 0:00:05\n",
      "   -------------------- ------------------- 64.8/124.9 MB 13.4 MB/s eta 0:00:05\n",
      "   -------------------- ------------------- 64.8/124.9 MB 13.4 MB/s eta 0:00:05\n",
      "   -------------------- ------------------- 65.1/124.9 MB 12.1 MB/s eta 0:00:05\n",
      "   -------------------- ------------------- 65.6/124.9 MB 11.7 MB/s eta 0:00:06\n",
      "   --------------------- ------------------ 66.3/124.9 MB 11.7 MB/s eta 0:00:06\n",
      "   --------------------- ------------------ 66.9/124.9 MB 11.3 MB/s eta 0:00:06\n",
      "   --------------------- ------------------ 67.6/124.9 MB 11.7 MB/s eta 0:00:05\n",
      "   --------------------- ------------------ 67.8/124.9 MB 10.7 MB/s eta 0:00:06\n",
      "   --------------------- ------------------ 68.4/124.9 MB 10.6 MB/s eta 0:00:06\n",
      "   --------------------- ------------------ 68.5/124.9 MB 10.1 MB/s eta 0:00:06\n",
      "   ---------------------- ----------------- 69.1/124.9 MB 10.1 MB/s eta 0:00:06\n",
      "   ---------------------- ----------------- 69.7/124.9 MB 10.1 MB/s eta 0:00:06\n",
      "   ---------------------- ----------------- 71.2/124.9 MB 10.6 MB/s eta 0:00:06\n",
      "   ----------------------- ---------------- 72.5/124.9 MB 11.5 MB/s eta 0:00:05\n",
      "   ----------------------- ---------------- 74.2/124.9 MB 13.1 MB/s eta 0:00:04\n",
      "   ------------------------ --------------- 75.4/124.9 MB 17.2 MB/s eta 0:00:03\n",
      "   ------------------------ --------------- 76.8/124.9 MB 19.8 MB/s eta 0:00:03\n",
      "   ------------------------ --------------- 77.8/124.9 MB 19.3 MB/s eta 0:00:03\n",
      "   ------------------------- -------------- 78.7/124.9 MB 24.2 MB/s eta 0:00:02\n",
      "   ------------------------- -------------- 79.4/124.9 MB 25.1 MB/s eta 0:00:02\n",
      "   ------------------------- -------------- 79.8/124.9 MB 25.2 MB/s eta 0:00:02\n",
      "   ------------------------- -------------- 79.8/124.9 MB 25.2 MB/s eta 0:00:02\n",
      "   ------------------------- -------------- 80.0/124.9 MB 19.9 MB/s eta 0:00:03\n",
      "   ------------------------- -------------- 81.0/124.9 MB 19.9 MB/s eta 0:00:03\n",
      "   -------------------------- ------------- 82.6/124.9 MB 20.5 MB/s eta 0:00:03\n",
      "   -------------------------- ------------- 83.4/124.9 MB 19.8 MB/s eta 0:00:03\n",
      "   -------------------------- ------------- 83.5/124.9 MB 17.7 MB/s eta 0:00:03\n",
      "   -------------------------- ------------- 84.0/124.9 MB 16.8 MB/s eta 0:00:03\n",
      "   -------------------------- ------------- 84.1/124.9 MB 16.8 MB/s eta 0:00:03\n",
      "   -------------------------- ------------- 84.1/124.9 MB 16.8 MB/s eta 0:00:03\n",
      "   --------------------------- ------------ 84.5/124.9 MB 13.9 MB/s eta 0:00:03\n",
      "   --------------------------- ------------ 84.8/124.9 MB 13.4 MB/s eta 0:00:03\n",
      "   --------------------------- ------------ 84.9/124.9 MB 13.1 MB/s eta 0:00:04\n",
      "   --------------------------- ------------ 84.9/124.9 MB 13.1 MB/s eta 0:00:04\n",
      "   --------------------------- ------------ 85.3/124.9 MB 11.7 MB/s eta 0:00:04\n",
      "   --------------------------- ------------ 85.3/124.9 MB 11.7 MB/s eta 0:00:04\n",
      "   --------------------------- ------------ 86.2/124.9 MB 10.7 MB/s eta 0:00:04\n",
      "   --------------------------- ------------ 86.3/124.9 MB 10.4 MB/s eta 0:00:04\n",
      "   --------------------------- ------------ 86.3/124.9 MB 10.4 MB/s eta 0:00:04\n",
      "   --------------------------- ------------ 86.4/124.9 MB 9.4 MB/s eta 0:00:05\n",
      "   --------------------------- ------------ 86.5/124.9 MB 9.1 MB/s eta 0:00:05\n",
      "   --------------------------- ------------ 86.8/124.9 MB 8.7 MB/s eta 0:00:05\n",
      "   --------------------------- ------------ 87.0/124.9 MB 8.5 MB/s eta 0:00:05\n",
      "   ---------------------------- ----------- 87.8/124.9 MB 8.6 MB/s eta 0:00:05\n",
      "   ---------------------------- ----------- 88.2/124.9 MB 8.3 MB/s eta 0:00:05\n",
      "   ---------------------------- ----------- 88.5/124.9 MB 8.3 MB/s eta 0:00:05\n",
      "   ---------------------------- ----------- 89.1/124.9 MB 7.9 MB/s eta 0:00:05\n",
      "   ---------------------------- ----------- 89.3/124.9 MB 8.0 MB/s eta 0:00:05\n",
      "   ---------------------------- ----------- 89.3/124.9 MB 8.0 MB/s eta 0:00:05\n",
      "   ---------------------------- ----------- 89.9/124.9 MB 7.4 MB/s eta 0:00:05\n",
      "   ----------------------------- ---------- 90.9/124.9 MB 8.1 MB/s eta 0:00:05\n",
      "   ----------------------------- ---------- 92.0/124.9 MB 8.0 MB/s eta 0:00:05\n",
      "   ----------------------------- ---------- 92.1/124.9 MB 7.9 MB/s eta 0:00:05\n",
      "   ----------------------------- ---------- 92.1/124.9 MB 7.9 MB/s eta 0:00:05\n",
      "   ----------------------------- ---------- 92.2/124.9 MB 7.3 MB/s eta 0:00:05\n",
      "   ----------------------------- ---------- 93.0/124.9 MB 7.1 MB/s eta 0:00:05\n",
      "   ------------------------------ --------- 94.2/124.9 MB 7.6 MB/s eta 0:00:05\n",
      "   ------------------------------ --------- 95.8/124.9 MB 10.1 MB/s eta 0:00:03\n",
      "   ------------------------------ --------- 96.6/124.9 MB 12.1 MB/s eta 0:00:03\n",
      "   ------------------------------- -------- 97.4/124.9 MB 12.8 MB/s eta 0:00:03\n",
      "   ------------------------------- -------- 97.9/124.9 MB 12.6 MB/s eta 0:00:03\n",
      "   ------------------------------- -------- 98.8/124.9 MB 14.2 MB/s eta 0:00:02\n",
      "   ------------------------------- -------- 99.8/124.9 MB 16.8 MB/s eta 0:00:02\n",
      "   ------------------------------- ------- 100.8/124.9 MB 16.4 MB/s eta 0:00:02\n",
      "   ------------------------------- ------- 101.3/124.9 MB 16.0 MB/s eta 0:00:02\n",
      "   ------------------------------- ------- 102.3/124.9 MB 16.0 MB/s eta 0:00:02\n",
      "   -------------------------------- ------ 103.0/124.9 MB 19.3 MB/s eta 0:00:02\n",
      "   -------------------------------- ------ 103.6/124.9 MB 18.2 MB/s eta 0:00:02\n",
      "   -------------------------------- ------ 104.2/124.9 MB 17.7 MB/s eta 0:00:02\n",
      "   -------------------------------- ------ 105.2/124.9 MB 17.2 MB/s eta 0:00:02\n",
      "   --------------------------------- ----- 106.0/124.9 MB 17.2 MB/s eta 0:00:02\n",
      "   --------------------------------- ----- 106.8/124.9 MB 16.8 MB/s eta 0:00:02\n",
      "   --------------------------------- ----- 107.2/124.9 MB 16.4 MB/s eta 0:00:02\n",
      "   --------------------------------- ----- 107.8/124.9 MB 16.8 MB/s eta 0:00:02\n",
      "   --------------------------------- ----- 108.0/124.9 MB 16.0 MB/s eta 0:00:02\n",
      "   ---------------------------------- ---- 109.3/124.9 MB 16.0 MB/s eta 0:00:01\n",
      "   ---------------------------------- ---- 109.9/124.9 MB 15.6 MB/s eta 0:00:01\n",
      "   ---------------------------------- ---- 110.4/124.9 MB 15.6 MB/s eta 0:00:01\n",
      "   ---------------------------------- ---- 111.0/124.9 MB 14.6 MB/s eta 0:00:01\n",
      "   ---------------------------------- ---- 111.4/124.9 MB 14.6 MB/s eta 0:00:01\n",
      "   ---------------------------------- ---- 111.5/124.9 MB 14.2 MB/s eta 0:00:01\n",
      "   ---------------------------------- ---- 111.9/124.9 MB 13.1 MB/s eta 0:00:01\n",
      "   ----------------------------------- --- 112.4/124.9 MB 12.9 MB/s eta 0:00:01\n",
      "   ----------------------------------- --- 112.4/124.9 MB 12.9 MB/s eta 0:00:01\n",
      "   ----------------------------------- --- 112.8/124.9 MB 11.7 MB/s eta 0:00:02\n",
      "   ----------------------------------- --- 113.4/124.9 MB 11.9 MB/s eta 0:00:01\n",
      "   ----------------------------------- --- 113.7/124.9 MB 11.9 MB/s eta 0:00:01\n",
      "   ----------------------------------- --- 114.3/124.9 MB 11.3 MB/s eta 0:00:01\n",
      "   ------------------------------------ -- 115.5/124.9 MB 11.7 MB/s eta 0:00:01\n",
      "   ------------------------------------ -- 116.4/124.9 MB 11.9 MB/s eta 0:00:01\n",
      "   ------------------------------------ -- 116.7/124.9 MB 11.9 MB/s eta 0:00:01\n",
      "   ------------------------------------ -- 117.3/124.9 MB 11.5 MB/s eta 0:00:01\n",
      "   ------------------------------------ -- 117.3/124.9 MB 11.5 MB/s eta 0:00:01\n",
      "   ------------------------------------ -- 117.3/124.9 MB 10.4 MB/s eta 0:00:01\n",
      "   ------------------------------------ -- 117.7/124.9 MB 10.2 MB/s eta 0:00:01\n",
      "   ------------------------------------- - 118.6/124.9 MB 10.7 MB/s eta 0:00:01\n",
      "   ------------------------------------- - 118.9/124.9 MB 10.4 MB/s eta 0:00:01\n",
      "   -------------------------------------- - 119.3/124.9 MB 9.9 MB/s eta 0:00:01\n",
      "   -------------------------------------- - 119.6/124.9 MB 9.9 MB/s eta 0:00:01\n",
      "   -------------------------------------- - 120.4/124.9 MB 9.9 MB/s eta 0:00:01\n",
      "   -------------------------------------- - 121.2/124.9 MB 9.9 MB/s eta 0:00:01\n",
      "   ------------------------------------- - 121.6/124.9 MB 10.2 MB/s eta 0:00:01\n",
      "   ------------------------------------- - 121.6/124.9 MB 10.2 MB/s eta 0:00:01\n",
      "   -------------------------------------- - 121.7/124.9 MB 9.1 MB/s eta 0:00:01\n",
      "   ---------------------------------------  121.9/124.9 MB 9.4 MB/s eta 0:00:01\n",
      "   ---------------------------------------  122.2/124.9 MB 9.2 MB/s eta 0:00:01\n",
      "   --------------------------------------  122.9/124.9 MB 10.1 MB/s eta 0:00:01\n",
      "   --------------------------------------  122.9/124.9 MB 10.1 MB/s eta 0:00:01\n",
      "   --------------------------------------  122.9/124.9 MB 10.1 MB/s eta 0:00:01\n",
      "   ---------------------------------------  123.1/124.9 MB 8.8 MB/s eta 0:00:01\n",
      "   ---------------------------------------  123.4/124.9 MB 8.7 MB/s eta 0:00:01\n",
      "   ---------------------------------------  123.5/124.9 MB 8.6 MB/s eta 0:00:01\n",
      "   ---------------------------------------  123.9/124.9 MB 8.2 MB/s eta 0:00:01\n",
      "   ---------------------------------------  124.1/124.9 MB 8.4 MB/s eta 0:00:01\n",
      "   ---------------------------------------  124.3/124.9 MB 8.0 MB/s eta 0:00:01\n",
      "   ---------------------------------------  124.9/124.9 MB 8.0 MB/s eta 0:00:01\n",
      "   ---------------------------------------  124.9/124.9 MB 8.0 MB/s eta 0:00:01\n",
      "   ---------------------------------------  124.9/124.9 MB 8.0 MB/s eta 0:00:01\n",
      "   ---------------------------------------- 124.9/124.9 MB 7.2 MB/s eta 0:00:00\n",
      "Installing collected packages: xgboost\n",
      "Successfully installed xgboost-2.1.0\n"
     ]
    }
   ],
   "source": [
    "# xgboost는 별도로 설치 필요 (sklearn 제공 X)\n",
    "!pip install xgboost"
   ]
  },
  {
   "cell_type": "code",
   "execution_count": 158,
   "id": "a25f31cb-ca40-4292-89ac-287a96dbfe5d",
   "metadata": {},
   "outputs": [],
   "source": [
    "from xgboost import XGBClassifier # XGBoost 모델 불러오기"
   ]
  },
  {
   "cell_type": "code",
   "execution_count": 159,
   "id": "b74ac777-9ea6-4c38-9641-f50ff88c46dc",
   "metadata": {},
   "outputs": [],
   "source": [
    "xgb_clf = XGBClassifier(\n",
    "    n_estimators = 200,\n",
    "    learning_rate = 0.1,\n",
    "    max_depth = 5, \n",
    "    min_child_weight = 3 # 트리에서 추가 분할을 결정하기 위한\n",
    ")"
   ]
  },
  {
   "cell_type": "code",
   "execution_count": 162,
   "id": "0ce616a8-9388-4fc7-95bc-3aacc21df0c0",
   "metadata": {},
   "outputs": [],
   "source": [
    "y_train = y_train.astype(np.int64) # xgb는 정답 데이터도 숫자로 받길 원함!! 그래서 형변환 함"
   ]
  },
  {
   "cell_type": "code",
   "execution_count": 161,
   "id": "46153cc1-3b74-434e-a0f9-c670d3696f20",
   "metadata": {},
   "outputs": [
    {
     "data": {
      "text/plain": [
       "0.8496139602033772"
      ]
     },
     "execution_count": 161,
     "metadata": {},
     "output_type": "execute_result"
    }
   ],
   "source": [
    "# 검증\n",
    "cross_val_score(xgb_clf,X_train,y_train,cv=5).mean()"
   ]
  },
  {
   "cell_type": "code",
   "execution_count": null,
   "id": "80eff0d7-be35-4b92-bfed-73c6abd1d511",
   "metadata": {},
   "outputs": [],
   "source": []
  },
  {
   "cell_type": "code",
   "execution_count": null,
   "id": "dcdb1790-4e49-452f-960e-36cc890c32b7",
   "metadata": {},
   "outputs": [],
   "source": []
  },
  {
   "cell_type": "code",
   "execution_count": null,
   "id": "25c7d79d-c31b-42ac-90e2-f1f8bb037125",
   "metadata": {},
   "outputs": [],
   "source": []
  },
  {
   "cell_type": "code",
   "execution_count": null,
   "id": "8660f287-5cdb-485e-9248-db74b4a1a3b3",
   "metadata": {},
   "outputs": [],
   "source": []
  },
  {
   "cell_type": "code",
   "execution_count": null,
   "id": "35b6d985-4cc1-4b5d-b9f5-491170cf9c49",
   "metadata": {},
   "outputs": [],
   "source": []
  },
  {
   "cell_type": "code",
   "execution_count": null,
   "id": "6202533a-eecb-4cef-bde4-6281fbef90f8",
   "metadata": {},
   "outputs": [],
   "source": []
  },
  {
   "cell_type": "code",
   "execution_count": null,
   "id": "5110fef1-3e0f-4b2b-b4d8-80550dcdb3cd",
   "metadata": {},
   "outputs": [],
   "source": []
  },
  {
   "cell_type": "code",
   "execution_count": null,
   "id": "17b42116-bf79-40ca-a44c-74a3a48c1abc",
   "metadata": {},
   "outputs": [],
   "source": []
  },
  {
   "cell_type": "code",
   "execution_count": null,
   "id": "125ac116-b10f-43bf-90cb-08c977aac939",
   "metadata": {},
   "outputs": [],
   "source": []
  },
  {
   "cell_type": "code",
   "execution_count": null,
   "id": "ac52c75f-7459-42dd-b5bf-134df7f22e4a",
   "metadata": {},
   "outputs": [],
   "source": []
  },
  {
   "cell_type": "code",
   "execution_count": null,
   "id": "c0a8e421-fb3f-421e-a0fc-a7aa25d4fddd",
   "metadata": {},
   "outputs": [],
   "source": []
  },
  {
   "cell_type": "code",
   "execution_count": null,
   "id": "5f58c55c-ce90-4118-a081-bb73aa81f4ea",
   "metadata": {},
   "outputs": [],
   "source": []
  },
  {
   "cell_type": "code",
   "execution_count": null,
   "id": "88cda7bf-775c-4c57-8c22-370fcac2be17",
   "metadata": {},
   "outputs": [],
   "source": []
  },
  {
   "cell_type": "code",
   "execution_count": null,
   "id": "40b7b85f-6852-4294-9ec3-18ea9843e8bd",
   "metadata": {},
   "outputs": [],
   "source": []
  },
  {
   "cell_type": "code",
   "execution_count": null,
   "id": "733625f1-19f4-4d53-9e96-fb3485ee8f57",
   "metadata": {},
   "outputs": [],
   "source": []
  },
  {
   "cell_type": "code",
   "execution_count": null,
   "id": "53ae956a-09df-4074-ad97-944f9c132519",
   "metadata": {},
   "outputs": [],
   "source": []
  },
  {
   "cell_type": "code",
   "execution_count": null,
   "id": "b13f3184-abe8-45ca-8473-569cc4ecd3ab",
   "metadata": {},
   "outputs": [],
   "source": []
  },
  {
   "cell_type": "code",
   "execution_count": null,
   "id": "676b5da1-06bc-4d10-b4af-191fea5edc3a",
   "metadata": {},
   "outputs": [],
   "source": []
  },
  {
   "cell_type": "code",
   "execution_count": null,
   "id": "abd26356-eb55-4e0f-a0d4-cbeff8ab5d12",
   "metadata": {},
   "outputs": [],
   "source": []
  },
  {
   "cell_type": "code",
   "execution_count": null,
   "id": "dae88f59-307e-41c2-8890-6ded7fa059ff",
   "metadata": {},
   "outputs": [],
   "source": []
  },
  {
   "cell_type": "code",
   "execution_count": null,
   "id": "7d8669bd-cef2-4e8c-8082-22ecad6326cf",
   "metadata": {},
   "outputs": [],
   "source": []
  },
  {
   "cell_type": "code",
   "execution_count": null,
   "id": "ad5f8c89-3c39-418d-af48-f607549ac842",
   "metadata": {},
   "outputs": [],
   "source": []
  },
  {
   "cell_type": "code",
   "execution_count": null,
   "id": "15b6268b-ba75-4d10-b909-397164617ebc",
   "metadata": {},
   "outputs": [],
   "source": []
  },
  {
   "cell_type": "code",
   "execution_count": null,
   "id": "b41cf7d0-4994-419a-85f1-20ffde3129e4",
   "metadata": {},
   "outputs": [],
   "source": []
  },
  {
   "cell_type": "code",
   "execution_count": null,
   "id": "24baa2a5-39bf-473d-b7fb-f47867366a55",
   "metadata": {},
   "outputs": [],
   "source": []
  },
  {
   "cell_type": "code",
   "execution_count": null,
   "id": "ce79687a-0556-42f4-8cf8-f568ff72b636",
   "metadata": {},
   "outputs": [],
   "source": []
  },
  {
   "cell_type": "code",
   "execution_count": null,
   "id": "dfca590a-8513-44dc-9e5b-1f4702d58851",
   "metadata": {},
   "outputs": [],
   "source": []
  },
  {
   "cell_type": "code",
   "execution_count": null,
   "id": "7bf377f6-7410-46d6-aa18-73eaabb1c046",
   "metadata": {},
   "outputs": [],
   "source": []
  },
  {
   "cell_type": "code",
   "execution_count": null,
   "id": "2c623c6d-eacc-4758-b082-2f01409fffb2",
   "metadata": {},
   "outputs": [],
   "source": []
  },
  {
   "cell_type": "code",
   "execution_count": null,
   "id": "3f4ee4e2-0c7a-438f-85f7-709d449013d9",
   "metadata": {},
   "outputs": [],
   "source": []
  },
  {
   "cell_type": "code",
   "execution_count": null,
   "id": "a89a2158-7520-4032-97f0-21e3c4e9d141",
   "metadata": {},
   "outputs": [],
   "source": []
  },
  {
   "cell_type": "code",
   "execution_count": null,
   "id": "9ba11ab4-7fb3-4111-b7f8-1aae84ee1499",
   "metadata": {},
   "outputs": [],
   "source": []
  },
  {
   "cell_type": "code",
   "execution_count": null,
   "id": "1cfa4675-a6f0-4d9d-8c74-9c9552e2d974",
   "metadata": {},
   "outputs": [],
   "source": []
  },
  {
   "cell_type": "code",
   "execution_count": null,
   "id": "51622d5f-e425-49d7-9f5a-dc75296fb7c5",
   "metadata": {},
   "outputs": [],
   "source": []
  },
  {
   "cell_type": "code",
   "execution_count": null,
   "id": "14ce3055-38da-4ee6-8810-6dcb28df4b44",
   "metadata": {},
   "outputs": [],
   "source": []
  },
  {
   "cell_type": "code",
   "execution_count": null,
   "id": "049e9877-0798-46bb-948f-b36a20f1336d",
   "metadata": {},
   "outputs": [],
   "source": []
  },
  {
   "cell_type": "code",
   "execution_count": null,
   "id": "358173ca-790b-40bb-8ae5-0f8ea205d4ed",
   "metadata": {},
   "outputs": [],
   "source": []
  },
  {
   "cell_type": "code",
   "execution_count": null,
   "id": "f7f2a2da-6d5f-4c5e-b74b-27b4f136f95b",
   "metadata": {},
   "outputs": [],
   "source": []
  },
  {
   "cell_type": "code",
   "execution_count": null,
   "id": "1def2d33-a597-4479-a7c5-9adb3a0adf65",
   "metadata": {},
   "outputs": [],
   "source": []
  },
  {
   "cell_type": "code",
   "execution_count": null,
   "id": "252616e0-556f-4127-9978-664d5f0efff3",
   "metadata": {},
   "outputs": [],
   "source": []
  },
  {
   "cell_type": "code",
   "execution_count": null,
   "id": "a0969ad2-a004-47a6-b774-ff9e60fb58b3",
   "metadata": {},
   "outputs": [],
   "source": []
  },
  {
   "cell_type": "code",
   "execution_count": null,
   "id": "d70b0212-a567-4790-8c06-ca144f5013ef",
   "metadata": {},
   "outputs": [],
   "source": []
  },
  {
   "cell_type": "code",
   "execution_count": null,
   "id": "4faf7229-1924-457e-9d49-0b77a133f6e0",
   "metadata": {},
   "outputs": [],
   "source": []
  },
  {
   "cell_type": "code",
   "execution_count": null,
   "id": "951a0138-c5a4-4944-a9af-c9b24103d5ec",
   "metadata": {},
   "outputs": [],
   "source": []
  },
  {
   "cell_type": "code",
   "execution_count": null,
   "id": "563de7b5-6820-4386-8629-93b8072f049f",
   "metadata": {},
   "outputs": [],
   "source": []
  },
  {
   "cell_type": "code",
   "execution_count": null,
   "id": "4c677393-417a-4c10-a82e-343be28b9cf5",
   "metadata": {},
   "outputs": [],
   "source": []
  },
  {
   "cell_type": "code",
   "execution_count": null,
   "id": "8e23fc71-d466-4f2c-98a9-82a3b9fb6c1f",
   "metadata": {},
   "outputs": [],
   "source": []
  },
  {
   "cell_type": "code",
   "execution_count": null,
   "id": "eb410b17-7371-4bdb-948b-e919b719bd9c",
   "metadata": {},
   "outputs": [],
   "source": []
  },
  {
   "cell_type": "code",
   "execution_count": null,
   "id": "63625db6-026d-4672-a478-57ea3360310f",
   "metadata": {},
   "outputs": [],
   "source": []
  },
  {
   "cell_type": "code",
   "execution_count": null,
   "id": "0c2534da-cbd3-496e-8d6e-4beea48d8138",
   "metadata": {},
   "outputs": [],
   "source": []
  },
  {
   "cell_type": "code",
   "execution_count": null,
   "id": "819e8b9f-d7af-48ce-9dcd-589c18b09e21",
   "metadata": {},
   "outputs": [],
   "source": []
  },
  {
   "cell_type": "code",
   "execution_count": null,
   "id": "1d8c0adb-c295-4119-9309-bb1c8cf58d2f",
   "metadata": {},
   "outputs": [],
   "source": []
  },
  {
   "cell_type": "code",
   "execution_count": null,
   "id": "eca32ab8-85a5-457f-9d3a-931e5a59d399",
   "metadata": {},
   "outputs": [],
   "source": []
  },
  {
   "cell_type": "code",
   "execution_count": null,
   "id": "d11aa1fb-fe4d-4ef4-a443-d81fc68ed088",
   "metadata": {},
   "outputs": [],
   "source": []
  },
  {
   "cell_type": "code",
   "execution_count": null,
   "id": "5a9bb1e9-fd1f-4e5b-ae03-a61519917633",
   "metadata": {},
   "outputs": [],
   "source": []
  },
  {
   "cell_type": "code",
   "execution_count": null,
   "id": "429c8db9-d727-4495-b28d-e444dd1101f5",
   "metadata": {},
   "outputs": [],
   "source": []
  },
  {
   "cell_type": "code",
   "execution_count": null,
   "id": "cc518d73-b6c2-4cfa-b6f5-da0fb5fde397",
   "metadata": {},
   "outputs": [],
   "source": []
  },
  {
   "cell_type": "code",
   "execution_count": null,
   "id": "f72aa4bb-8e5f-4bb4-a753-8a413fce8381",
   "metadata": {},
   "outputs": [],
   "source": []
  },
  {
   "cell_type": "code",
   "execution_count": null,
   "id": "19878019-e89b-4f47-ab27-fd2fd2d7740a",
   "metadata": {},
   "outputs": [],
   "source": []
  },
  {
   "cell_type": "code",
   "execution_count": null,
   "id": "26544f83-cff0-4c06-8018-e8a6d8d7d2ef",
   "metadata": {},
   "outputs": [],
   "source": []
  },
  {
   "cell_type": "code",
   "execution_count": null,
   "id": "78ecddcf-59f1-4fe9-bf54-32067eae2066",
   "metadata": {},
   "outputs": [],
   "source": []
  },
  {
   "cell_type": "code",
   "execution_count": null,
   "id": "0bc61f76-b6a7-49ee-b579-6ee618f7d4eb",
   "metadata": {},
   "outputs": [],
   "source": []
  },
  {
   "cell_type": "code",
   "execution_count": null,
   "id": "872b3486-de66-4238-b562-18828950b289",
   "metadata": {},
   "outputs": [],
   "source": []
  },
  {
   "cell_type": "code",
   "execution_count": null,
   "id": "fd30206f-9008-404a-b18c-5abc5bbfeecc",
   "metadata": {},
   "outputs": [],
   "source": []
  },
  {
   "cell_type": "code",
   "execution_count": null,
   "id": "beb9f724-f42d-4633-9ed8-40b0909d7196",
   "metadata": {},
   "outputs": [],
   "source": []
  }
 ],
 "metadata": {
  "kernelspec": {
   "display_name": "Python 3 (ipykernel)",
   "language": "python",
   "name": "python3"
  },
  "language_info": {
   "codemirror_mode": {
    "name": "ipython",
    "version": 3
   },
   "file_extension": ".py",
   "mimetype": "text/x-python",
   "name": "python",
   "nbconvert_exporter": "python",
   "pygments_lexer": "ipython3",
   "version": "3.11.7"
  }
 },
 "nbformat": 4,
 "nbformat_minor": 5
}
