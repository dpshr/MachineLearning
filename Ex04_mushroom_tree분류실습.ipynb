{
 "cells": [
  {
   "cell_type": "markdown",
   "id": "66561c5f-bb71-4efb-a78c-7615cac6682c",
   "metadata": {},
   "source": [
    "### 목표\n",
    "- 버섯의 특징을 활용해 독성/식용 버섯을 분류하는 실습\n",
    "- DesitionTree 분류 모델을 학습하고 시각화& 과대적합 제어\n",
    "- 모델 자체적으로 특성 중요도 선택한 것을 확인해보기"
   ]
  },
  {
   "cell_type": "code",
   "execution_count": 37,
   "id": "ce80af5c-d226-4869-8830-192c4a885864",
   "metadata": {},
   "outputs": [],
   "source": [
    "import numpy as np\n",
    "import pandas as pd\n",
    "import matplotlib.pyplot as plt\n",
    "from sklearn.model_selection import train_test_split\n",
    "from sklearn.tree import DecisionTreeClassifier # 트리 분류 모델"
   ]
  },
  {
   "cell_type": "code",
   "execution_count": 38,
   "id": "def915f7-99f0-4e2a-a5f2-4af97f7102c2",
   "metadata": {},
   "outputs": [
    {
     "name": "stdout",
     "output_type": "stream",
     "text": [
      "<class 'pandas.core.frame.DataFrame'>\n",
      "RangeIndex: 8124 entries, 0 to 8123\n",
      "Data columns (total 23 columns):\n",
      " #   Column                    Non-Null Count  Dtype \n",
      "---  ------                    --------------  ----- \n",
      " 0   poisonous                 8124 non-null   object\n",
      " 1   cap-shape                 8124 non-null   object\n",
      " 2   cap-surface               8124 non-null   object\n",
      " 3   cap-color                 8124 non-null   object\n",
      " 4   bruises                   8124 non-null   object\n",
      " 5   odor                      8124 non-null   object\n",
      " 6   gill-attachment           8124 non-null   object\n",
      " 7   gill-spacing              8124 non-null   object\n",
      " 8   gill-size                 8124 non-null   object\n",
      " 9   gill-color                8124 non-null   object\n",
      " 10  stalk-shape               8124 non-null   object\n",
      " 11  stalk-root                8124 non-null   object\n",
      " 12  stalk-surface-above-ring  8124 non-null   object\n",
      " 13  stalk-surface-below-ring  8124 non-null   object\n",
      " 14  stalk-color-above-ring    8124 non-null   object\n",
      " 15  stalk-color-below-ring    8124 non-null   object\n",
      " 16  veil-type                 8124 non-null   object\n",
      " 17  veil-color                8124 non-null   object\n",
      " 18  ring-number               8124 non-null   object\n",
      " 19  ring-type                 8124 non-null   object\n",
      " 20  spore-print-color         8124 non-null   object\n",
      " 21  population                8124 non-null   object\n",
      " 22  habitat                   8124 non-null   object\n",
      "dtypes: object(23)\n",
      "memory usage: 1.4+ MB\n"
     ]
    }
   ],
   "source": [
    "# mushroom.csv 데이터 불러오기\n",
    "# data라는 변수 안에 넣기\n",
    "data = pd.read_csv('./data/mushroom.csv')\n",
    "data.head(3)\n",
    "# poisonous -> 답데이터 // p - 독버섯, e-식용버섯\n",
    "# poisonous 를 제외한 나머지 컬럼-> 문제데이터\n",
    "data.info() # 컬럼이름, 행열크기, 결측치여부, 데이터 타입\n",
    "# Dtype (object) : 파이썬에서는 대체로 문자열을 나타냄"
   ]
  },
  {
   "cell_type": "code",
   "execution_count": 39,
   "id": "da9e5b48-fbf3-405d-8336-84033e7a375a",
   "metadata": {},
   "outputs": [
    {
     "data": {
      "text/html": [
       "<div>\n",
       "<style scoped>\n",
       "    .dataframe tbody tr th:only-of-type {\n",
       "        vertical-align: middle;\n",
       "    }\n",
       "\n",
       "    .dataframe tbody tr th {\n",
       "        vertical-align: top;\n",
       "    }\n",
       "\n",
       "    .dataframe thead th {\n",
       "        text-align: right;\n",
       "    }\n",
       "</style>\n",
       "<table border=\"1\" class=\"dataframe\">\n",
       "  <thead>\n",
       "    <tr style=\"text-align: right;\">\n",
       "      <th></th>\n",
       "      <th>poisonous</th>\n",
       "      <th>cap-shape</th>\n",
       "      <th>cap-surface</th>\n",
       "      <th>cap-color</th>\n",
       "      <th>bruises</th>\n",
       "      <th>odor</th>\n",
       "      <th>gill-attachment</th>\n",
       "      <th>gill-spacing</th>\n",
       "      <th>gill-size</th>\n",
       "      <th>gill-color</th>\n",
       "      <th>stalk-shape</th>\n",
       "      <th>stalk-root</th>\n",
       "      <th>stalk-surface-above-ring</th>\n",
       "      <th>stalk-surface-below-ring</th>\n",
       "      <th>stalk-color-above-ring</th>\n",
       "      <th>stalk-color-below-ring</th>\n",
       "      <th>veil-type</th>\n",
       "      <th>veil-color</th>\n",
       "      <th>ring-number</th>\n",
       "      <th>ring-type</th>\n",
       "      <th>spore-print-color</th>\n",
       "      <th>population</th>\n",
       "      <th>habitat</th>\n",
       "    </tr>\n",
       "  </thead>\n",
       "  <tbody>\n",
       "    <tr>\n",
       "      <th>0</th>\n",
       "      <td>p</td>\n",
       "      <td>x</td>\n",
       "      <td>s</td>\n",
       "      <td>n</td>\n",
       "      <td>t</td>\n",
       "      <td>p</td>\n",
       "      <td>f</td>\n",
       "      <td>c</td>\n",
       "      <td>n</td>\n",
       "      <td>k</td>\n",
       "      <td>e</td>\n",
       "      <td>e</td>\n",
       "      <td>s</td>\n",
       "      <td>s</td>\n",
       "      <td>w</td>\n",
       "      <td>w</td>\n",
       "      <td>p</td>\n",
       "      <td>w</td>\n",
       "      <td>o</td>\n",
       "      <td>p</td>\n",
       "      <td>k</td>\n",
       "      <td>s</td>\n",
       "      <td>u</td>\n",
       "    </tr>\n",
       "  </tbody>\n",
       "</table>\n",
       "</div>"
      ],
      "text/plain": [
       "  poisonous cap-shape cap-surface cap-color bruises odor gill-attachment  \\\n",
       "0         p         x           s         n       t    p               f   \n",
       "\n",
       "  gill-spacing gill-size gill-color stalk-shape stalk-root  \\\n",
       "0            c         n          k           e          e   \n",
       "\n",
       "  stalk-surface-above-ring stalk-surface-below-ring stalk-color-above-ring  \\\n",
       "0                        s                        s                      w   \n",
       "\n",
       "  stalk-color-below-ring veil-type veil-color ring-number ring-type  \\\n",
       "0                      w         p          w           o         p   \n",
       "\n",
       "  spore-print-color population habitat  \n",
       "0                 k          s       u  "
      ]
     },
     "execution_count": 39,
     "metadata": {},
     "output_type": "execute_result"
    }
   ],
   "source": [
    "# df의 컬럼 모두 출력하기 ->생략안하기\n",
    "pd.set_option('display.max_columns',None);\n",
    "data.head(1)\n",
    "# 데이터 타입 : 문자열\n",
    "# 머신러닝 모델은 수치와된 데이터만 학습이 가능\n",
    "# 문자-> 수치화 : encoding"
   ]
  },
  {
   "cell_type": "markdown",
   "id": "fcbf2a88-644d-42bd-9f20-349df1517649",
   "metadata": {},
   "source": [
    "### 데이터 전처리 및 탐색\n",
    "- 문제(특성)와 답(라벨)분리"
   ]
  },
  {
   "cell_type": "code",
   "execution_count": 40,
   "id": "381eb183-10db-49ab-9c42-ec73fbe0477c",
   "metadata": {},
   "outputs": [
    {
     "data": {
      "text/plain": [
       "Index(['poisonous', 'cap-shape', 'cap-surface', 'cap-color', 'bruises', 'odor',\n",
       "       'gill-attachment', 'gill-spacing', 'gill-size', 'gill-color',\n",
       "       'stalk-shape', 'stalk-root', 'stalk-surface-above-ring',\n",
       "       'stalk-surface-below-ring', 'stalk-color-above-ring',\n",
       "       'stalk-color-below-ring', 'veil-type', 'veil-color', 'ring-number',\n",
       "       'ring-type', 'spore-print-color', 'population', 'habitat'],\n",
       "      dtype='object')"
      ]
     },
     "execution_count": 40,
     "metadata": {},
     "output_type": "execute_result"
    }
   ],
   "source": [
    "data.columns"
   ]
  },
  {
   "cell_type": "code",
   "execution_count": 41,
   "id": "885c0a0a-9076-4517-a180-830a64c7ec04",
   "metadata": {},
   "outputs": [
    {
     "name": "stdout",
     "output_type": "stream",
     "text": [
      "문제 크기:  (8124, 22)\n",
      "답 크기:  (8124,)\n"
     ]
    }
   ],
   "source": [
    "# 컬럼 인덱싱\n",
    "# 답 : poisonous,  문제는 poisonous를 제외한 모든 컬럼\n",
    "X = data.drop('poisonous', axis=1)\n",
    "# X = data.iloc[:,1:]\n",
    "y = data['poisonous']\n",
    "\n",
    "# 크기 확인\n",
    "print('문제 크기: ', X.shape)\n",
    "print('답 크기: ', y.shape)"
   ]
  },
  {
   "cell_type": "code",
   "execution_count": 42,
   "id": "df57c222-2f44-4281-a6dc-a4ccb4fb332d",
   "metadata": {},
   "outputs": [
    {
     "data": {
      "text/html": [
       "<div>\n",
       "<style scoped>\n",
       "    .dataframe tbody tr th:only-of-type {\n",
       "        vertical-align: middle;\n",
       "    }\n",
       "\n",
       "    .dataframe tbody tr th {\n",
       "        vertical-align: top;\n",
       "    }\n",
       "\n",
       "    .dataframe thead th {\n",
       "        text-align: right;\n",
       "    }\n",
       "</style>\n",
       "<table border=\"1\" class=\"dataframe\">\n",
       "  <thead>\n",
       "    <tr style=\"text-align: right;\">\n",
       "      <th></th>\n",
       "      <th>cap-shape</th>\n",
       "      <th>cap-surface</th>\n",
       "      <th>cap-color</th>\n",
       "      <th>bruises</th>\n",
       "      <th>odor</th>\n",
       "      <th>gill-attachment</th>\n",
       "      <th>gill-spacing</th>\n",
       "      <th>gill-size</th>\n",
       "      <th>gill-color</th>\n",
       "      <th>stalk-shape</th>\n",
       "      <th>stalk-root</th>\n",
       "      <th>stalk-surface-above-ring</th>\n",
       "      <th>stalk-surface-below-ring</th>\n",
       "      <th>stalk-color-above-ring</th>\n",
       "      <th>stalk-color-below-ring</th>\n",
       "      <th>veil-type</th>\n",
       "      <th>veil-color</th>\n",
       "      <th>ring-number</th>\n",
       "      <th>ring-type</th>\n",
       "      <th>spore-print-color</th>\n",
       "      <th>population</th>\n",
       "      <th>habitat</th>\n",
       "    </tr>\n",
       "  </thead>\n",
       "  <tbody>\n",
       "    <tr>\n",
       "      <th>count</th>\n",
       "      <td>8124</td>\n",
       "      <td>8124</td>\n",
       "      <td>8124</td>\n",
       "      <td>8124</td>\n",
       "      <td>8124</td>\n",
       "      <td>8124</td>\n",
       "      <td>8124</td>\n",
       "      <td>8124</td>\n",
       "      <td>8124</td>\n",
       "      <td>8124</td>\n",
       "      <td>8124</td>\n",
       "      <td>8124</td>\n",
       "      <td>8124</td>\n",
       "      <td>8124</td>\n",
       "      <td>8124</td>\n",
       "      <td>8124</td>\n",
       "      <td>8124</td>\n",
       "      <td>8124</td>\n",
       "      <td>8124</td>\n",
       "      <td>8124</td>\n",
       "      <td>8124</td>\n",
       "      <td>8124</td>\n",
       "    </tr>\n",
       "    <tr>\n",
       "      <th>unique</th>\n",
       "      <td>6</td>\n",
       "      <td>4</td>\n",
       "      <td>10</td>\n",
       "      <td>2</td>\n",
       "      <td>9</td>\n",
       "      <td>2</td>\n",
       "      <td>2</td>\n",
       "      <td>2</td>\n",
       "      <td>12</td>\n",
       "      <td>2</td>\n",
       "      <td>5</td>\n",
       "      <td>4</td>\n",
       "      <td>4</td>\n",
       "      <td>9</td>\n",
       "      <td>9</td>\n",
       "      <td>1</td>\n",
       "      <td>4</td>\n",
       "      <td>3</td>\n",
       "      <td>5</td>\n",
       "      <td>9</td>\n",
       "      <td>6</td>\n",
       "      <td>7</td>\n",
       "    </tr>\n",
       "    <tr>\n",
       "      <th>top</th>\n",
       "      <td>x</td>\n",
       "      <td>y</td>\n",
       "      <td>n</td>\n",
       "      <td>f</td>\n",
       "      <td>n</td>\n",
       "      <td>f</td>\n",
       "      <td>c</td>\n",
       "      <td>b</td>\n",
       "      <td>b</td>\n",
       "      <td>t</td>\n",
       "      <td>b</td>\n",
       "      <td>s</td>\n",
       "      <td>s</td>\n",
       "      <td>w</td>\n",
       "      <td>w</td>\n",
       "      <td>p</td>\n",
       "      <td>w</td>\n",
       "      <td>o</td>\n",
       "      <td>p</td>\n",
       "      <td>w</td>\n",
       "      <td>v</td>\n",
       "      <td>d</td>\n",
       "    </tr>\n",
       "    <tr>\n",
       "      <th>freq</th>\n",
       "      <td>3656</td>\n",
       "      <td>3244</td>\n",
       "      <td>2284</td>\n",
       "      <td>4748</td>\n",
       "      <td>3528</td>\n",
       "      <td>7914</td>\n",
       "      <td>6812</td>\n",
       "      <td>5612</td>\n",
       "      <td>1728</td>\n",
       "      <td>4608</td>\n",
       "      <td>3776</td>\n",
       "      <td>5176</td>\n",
       "      <td>4936</td>\n",
       "      <td>4464</td>\n",
       "      <td>4384</td>\n",
       "      <td>8124</td>\n",
       "      <td>7924</td>\n",
       "      <td>7488</td>\n",
       "      <td>3968</td>\n",
       "      <td>2388</td>\n",
       "      <td>4040</td>\n",
       "      <td>3148</td>\n",
       "    </tr>\n",
       "  </tbody>\n",
       "</table>\n",
       "</div>"
      ],
      "text/plain": [
       "       cap-shape cap-surface cap-color bruises  odor gill-attachment  \\\n",
       "count       8124        8124      8124    8124  8124            8124   \n",
       "unique         6           4        10       2     9               2   \n",
       "top            x           y         n       f     n               f   \n",
       "freq        3656        3244      2284    4748  3528            7914   \n",
       "\n",
       "       gill-spacing gill-size gill-color stalk-shape stalk-root  \\\n",
       "count          8124      8124       8124        8124       8124   \n",
       "unique            2         2         12           2          5   \n",
       "top               c         b          b           t          b   \n",
       "freq           6812      5612       1728        4608       3776   \n",
       "\n",
       "       stalk-surface-above-ring stalk-surface-below-ring  \\\n",
       "count                      8124                     8124   \n",
       "unique                        4                        4   \n",
       "top                           s                        s   \n",
       "freq                       5176                     4936   \n",
       "\n",
       "       stalk-color-above-ring stalk-color-below-ring veil-type veil-color  \\\n",
       "count                    8124                   8124      8124       8124   \n",
       "unique                      9                      9         1          4   \n",
       "top                         w                      w         p          w   \n",
       "freq                     4464                   4384      8124       7924   \n",
       "\n",
       "       ring-number ring-type spore-print-color population habitat  \n",
       "count         8124      8124              8124       8124    8124  \n",
       "unique           3         5                 9          6       7  \n",
       "top              o         p                 w          v       d  \n",
       "freq          7488      3968              2388       4040    3148  "
      ]
     },
     "execution_count": 42,
     "metadata": {},
     "output_type": "execute_result"
    }
   ],
   "source": [
    "# 문제데이터 기술통계 확인하기\n",
    "# 최소,최대,평균,중앙, 최빈값...\n",
    "# 문자형태(범주형) -> 최빈값만 제공\n",
    "X.describe()"
   ]
  },
  {
   "cell_type": "code",
   "execution_count": 43,
   "id": "98d0926e-509f-40c9-9a7d-ba847581bb9b",
   "metadata": {},
   "outputs": [
    {
     "data": {
      "text/plain": [
       "poisonous\n",
       "e    4208\n",
       "p    3916\n",
       "Name: count, dtype: int64"
      ]
     },
     "execution_count": 43,
     "metadata": {},
     "output_type": "execute_result"
    }
   ],
   "source": [
    "# 독성, 식용버섯이 답데이터에 각각 몇 개씩 들어있을까?\n",
    "y.value_counts()"
   ]
  },
  {
   "cell_type": "markdown",
   "id": "965ba753-1738-440f-967a-484e710a1ff2",
   "metadata": {},
   "source": [
    "- 인코딩(encoding) : 범주(문자) -> 수치화\r\n",
    "    - 레이블 인코딩(label encoding) : 값의 크고 작음에 의미가 있는 경우\r\n",
    "    - 원핫 인코딩(one-hot encoding) : 값의 크고 작음에 의미가 없는 경우"
   ]
  },
  {
   "cell_type": "code",
   "execution_count": 44,
   "id": "836cb6d9-0058-4fa3-8c76-0ece0f57b633",
   "metadata": {},
   "outputs": [
    {
     "data": {
      "text/plain": [
       "(8124, 117)"
      ]
     },
     "execution_count": 44,
     "metadata": {},
     "output_type": "execute_result"
    }
   ],
   "source": [
    "# 버섯데이터의 모든 컬럼을 원핫 인코딩 \n",
    "# pd.get_dummies(대상) : 원핫인코딩 함수\n",
    "X_oh = pd.get_dummies(X)\n",
    "X_oh.head(1)\n",
    "# 크기 확인 \n",
    "X_oh.shape"
   ]
  },
  {
   "cell_type": "code",
   "execution_count": 45,
   "id": "616cb3e5-bfd7-4c24-bb0e-cc751e68b33f",
   "metadata": {},
   "outputs": [
    {
     "name": "stdout",
     "output_type": "stream",
     "text": [
      "훈련 데이터셋 크기:  (5686, 117) (5686,)\n",
      "테스트 데이터셋 크기:  (2438, 117) (2438,)\n"
     ]
    }
   ],
   "source": [
    "# 훈련세트, 테스트세트 분리 \n",
    "# 분리 비율 7:3 \n",
    "# 랜덤 섞기 고정값 3 \n",
    "X_train,X_test,y_train,y_test = train_test_split(X_oh,y,\n",
    "                                                 test_size= 0.3, # 30%\n",
    "                                                 random_state = 3)\n",
    "print('훈련 데이터셋 크기: ', X_train.shape, y_train.shape)\n",
    "print('테스트 데이터셋 크기: ',X_test.shape,y_test.shape)"
   ]
  },
  {
   "cell_type": "markdown",
   "id": "dc4e8aa4-18f4-4238-ba03-69f3b90e070a",
   "metadata": {},
   "source": [
    "#### 모델링\n",
    " - tree 모델객체 생성\n",
    " - 학습"
   ]
  },
  {
   "cell_type": "code",
   "execution_count": 64,
   "id": "3dab0569-7106-4497-a152-855070accdb3",
   "metadata": {},
   "outputs": [
    {
     "data": {
      "text/html": [
       "<style>#sk-container-id-3 {color: black;background-color: white;}#sk-container-id-3 pre{padding: 0;}#sk-container-id-3 div.sk-toggleable {background-color: white;}#sk-container-id-3 label.sk-toggleable__label {cursor: pointer;display: block;width: 100%;margin-bottom: 0;padding: 0.3em;box-sizing: border-box;text-align: center;}#sk-container-id-3 label.sk-toggleable__label-arrow:before {content: \"▸\";float: left;margin-right: 0.25em;color: #696969;}#sk-container-id-3 label.sk-toggleable__label-arrow:hover:before {color: black;}#sk-container-id-3 div.sk-estimator:hover label.sk-toggleable__label-arrow:before {color: black;}#sk-container-id-3 div.sk-toggleable__content {max-height: 0;max-width: 0;overflow: hidden;text-align: left;background-color: #f0f8ff;}#sk-container-id-3 div.sk-toggleable__content pre {margin: 0.2em;color: black;border-radius: 0.25em;background-color: #f0f8ff;}#sk-container-id-3 input.sk-toggleable__control:checked~div.sk-toggleable__content {max-height: 200px;max-width: 100%;overflow: auto;}#sk-container-id-3 input.sk-toggleable__control:checked~label.sk-toggleable__label-arrow:before {content: \"▾\";}#sk-container-id-3 div.sk-estimator input.sk-toggleable__control:checked~label.sk-toggleable__label {background-color: #d4ebff;}#sk-container-id-3 div.sk-label input.sk-toggleable__control:checked~label.sk-toggleable__label {background-color: #d4ebff;}#sk-container-id-3 input.sk-hidden--visually {border: 0;clip: rect(1px 1px 1px 1px);clip: rect(1px, 1px, 1px, 1px);height: 1px;margin: -1px;overflow: hidden;padding: 0;position: absolute;width: 1px;}#sk-container-id-3 div.sk-estimator {font-family: monospace;background-color: #f0f8ff;border: 1px dotted black;border-radius: 0.25em;box-sizing: border-box;margin-bottom: 0.5em;}#sk-container-id-3 div.sk-estimator:hover {background-color: #d4ebff;}#sk-container-id-3 div.sk-parallel-item::after {content: \"\";width: 100%;border-bottom: 1px solid gray;flex-grow: 1;}#sk-container-id-3 div.sk-label:hover label.sk-toggleable__label {background-color: #d4ebff;}#sk-container-id-3 div.sk-serial::before {content: \"\";position: absolute;border-left: 1px solid gray;box-sizing: border-box;top: 0;bottom: 0;left: 50%;z-index: 0;}#sk-container-id-3 div.sk-serial {display: flex;flex-direction: column;align-items: center;background-color: white;padding-right: 0.2em;padding-left: 0.2em;position: relative;}#sk-container-id-3 div.sk-item {position: relative;z-index: 1;}#sk-container-id-3 div.sk-parallel {display: flex;align-items: stretch;justify-content: center;background-color: white;position: relative;}#sk-container-id-3 div.sk-item::before, #sk-container-id-3 div.sk-parallel-item::before {content: \"\";position: absolute;border-left: 1px solid gray;box-sizing: border-box;top: 0;bottom: 0;left: 50%;z-index: -1;}#sk-container-id-3 div.sk-parallel-item {display: flex;flex-direction: column;z-index: 1;position: relative;background-color: white;}#sk-container-id-3 div.sk-parallel-item:first-child::after {align-self: flex-end;width: 50%;}#sk-container-id-3 div.sk-parallel-item:last-child::after {align-self: flex-start;width: 50%;}#sk-container-id-3 div.sk-parallel-item:only-child::after {width: 0;}#sk-container-id-3 div.sk-dashed-wrapped {border: 1px dashed gray;margin: 0 0.4em 0.5em 0.4em;box-sizing: border-box;padding-bottom: 0.4em;background-color: white;}#sk-container-id-3 div.sk-label label {font-family: monospace;font-weight: bold;display: inline-block;line-height: 1.2em;}#sk-container-id-3 div.sk-label-container {text-align: center;}#sk-container-id-3 div.sk-container {/* jupyter's `normalize.less` sets `[hidden] { display: none; }` but bootstrap.min.css set `[hidden] { display: none !important; }` so we also need the `!important` here to be able to override the default hidden behavior on the sphinx rendered scikit-learn.org. See: https://github.com/scikit-learn/scikit-learn/issues/21755 */display: inline-block !important;position: relative;}#sk-container-id-3 div.sk-text-repr-fallback {display: none;}</style><div id=\"sk-container-id-3\" class=\"sk-top-container\"><div class=\"sk-text-repr-fallback\"><pre>DecisionTreeClassifier(max_depth=3)</pre><b>In a Jupyter environment, please rerun this cell to show the HTML representation or trust the notebook. <br />On GitHub, the HTML representation is unable to render, please try loading this page with nbviewer.org.</b></div><div class=\"sk-container\" hidden><div class=\"sk-item\"><div class=\"sk-estimator sk-toggleable\"><input class=\"sk-toggleable__control sk-hidden--visually\" id=\"sk-estimator-id-3\" type=\"checkbox\" checked><label for=\"sk-estimator-id-3\" class=\"sk-toggleable__label sk-toggleable__label-arrow\">DecisionTreeClassifier</label><div class=\"sk-toggleable__content\"><pre>DecisionTreeClassifier(max_depth=3)</pre></div></div></div></div></div>"
      ],
      "text/plain": [
       "DecisionTreeClassifier(max_depth=3)"
      ]
     },
     "execution_count": 64,
     "metadata": {},
     "output_type": "execute_result"
    }
   ],
   "source": [
    "tree_model = DecisionTreeClassifier(max_depth=3) # 기본값 그대로 사용\n",
    "# -> 트리 모델이 가지를 뻗어나갈 수 있을 만큼 최대로 뻗어나감 \n",
    "# 모델이 깊어지는 현상\n",
    "tree_model.fit(X_train, y_train)"
   ]
  },
  {
   "cell_type": "markdown",
   "id": "41426f4e-a91c-4117-a1d3-fd1b835ae0cd",
   "metadata": {},
   "source": [
    "- 모델의 일반화 성능 확인 : 교차검증\n",
    "  - 개념: 일반화 성능 측정 방법 -> 모든 데이터에 대해 모델이 얼마나 잘 맞추는지 평가, 한 번 나누는 것 보다는 더 안정적인 방법\n",
    "  - 방법론: 훈련세트를 기준으로 훈련세트와 검증용 세트로 여러겹 나눠서 평가(새로운 test 데이터를 train 세트 내부에서 여러 개 만들어서 평가)\n",
    "  - 모델을 정의하고 학습하기 전에 정확도가 어느 정도 일지 확인하는 것이 가능"
   ]
  },
  {
   "cell_type": "code",
   "execution_count": 65,
   "id": "f11665d6-8631-4b2f-9a9b-e46fc6f813c7",
   "metadata": {},
   "outputs": [],
   "source": [
    "# 교차검증 라이브러리 불러오기 \n",
    "from sklearn.model_selection import cross_val_score"
   ]
  },
  {
   "cell_type": "code",
   "execution_count": 66,
   "id": "b794adc4-78c9-4805-a7c8-d932619d7c38",
   "metadata": {},
   "outputs": [
    {
     "data": {
      "text/plain": [
       "array([0.98506151, 0.9876869 , 0.98504837, 0.98328936, 0.9876869 ])"
      ]
     },
     "execution_count": 66,
     "metadata": {},
     "output_type": "execute_result"
    }
   ],
   "source": [
    "# cross_val_score(모델명, 훈련문제, 훈련답,\n",
    "#                 cv = 검증횟수(검증 데이터를 분리하느 횟수)) \n",
    "\n",
    "result1 = cross_val_score(tree_model,X_train,y_train, cv=5)\n",
    "result1\n",
    "\n",
    "# 해당 모델은 버섯 분류에 있어서 과대적합을 제어하지 않아도 성능이 상당히 좋은 상태!\n",
    "# 과대적합 제어할 필요가 없음"
   ]
  },
  {
   "cell_type": "code",
   "execution_count": 67,
   "id": "63241cea-e50a-4cd2-be27-da06811cefb5",
   "metadata": {},
   "outputs": [
    {
     "data": {
      "text/plain": [
       "0.9840032813781788"
      ]
     },
     "execution_count": 67,
     "metadata": {},
     "output_type": "execute_result"
    }
   ],
   "source": [
    "# X_test 성능 확인\n",
    "# predict -> 실제값과 비교 \n",
    "# accuracy_score(실제값, 예측값) --> 예측값이 무조건 존재해야만 함\n",
    "# 모델이 자체적으로 가지고 있는 score() -> 정확도\n",
    "test_acc = tree_model.score(X_test,y_test) # -> 정확도 \n",
    "test_acc # 100% 맞춘상태\n",
    "# 버섯 특징데이터는 버섯을 잘 분류하기에 좋은 데이터"
   ]
  },
  {
   "cell_type": "markdown",
   "id": "ad37bcb8-d7a2-4635-b45c-16694842754e",
   "metadata": {},
   "source": [
    "### 모델이 선택한 중요한 특성 확인\n",
    "- 특성 선택\n",
    "- tree 계열의 모델은 특성 중요도를 출력하는 키워드가 있다\n",
    "- 모델이름.feature_importances_"
   ]
  },
  {
   "cell_type": "code",
   "execution_count": 68,
   "id": "203ebb6b-4ef9-4344-95e2-89e7e865a3ec",
   "metadata": {},
   "outputs": [
    {
     "data": {
      "text/plain": [
       "Index(['cap-shape_b', 'cap-shape_c', 'cap-shape_f', 'cap-shape_k',\n",
       "       'cap-shape_s', 'cap-shape_x', 'cap-surface_f', 'cap-surface_g',\n",
       "       'cap-surface_s', 'cap-surface_y',\n",
       "       ...\n",
       "       'population_s', 'population_v', 'population_y', 'habitat_d',\n",
       "       'habitat_g', 'habitat_l', 'habitat_m', 'habitat_p', 'habitat_u',\n",
       "       'habitat_w'],\n",
       "      dtype='object', length=117)"
      ]
     },
     "execution_count": 68,
     "metadata": {},
     "output_type": "execute_result"
    }
   ],
   "source": [
    "X_oh.columns"
   ]
  },
  {
   "cell_type": "code",
   "execution_count": 69,
   "id": "ce725640-8956-49cd-88bc-cafe60349323",
   "metadata": {},
   "outputs": [
    {
     "data": {
      "text/plain": [
       "odor_n                      0.651303\n",
       "stalk-root_c                0.185905\n",
       "stalk-root_r                0.094922\n",
       "spore-print-color_r         0.034740\n",
       "stalk-color-below-ring_w    0.016734\n",
       "Name: import, dtype: float64"
      ]
     },
     "execution_count": 69,
     "metadata": {},
     "output_type": "execute_result"
    }
   ],
   "source": [
    "fi = tree_model.feature_importances_\n",
    "fi # 과학적표기법 -> 실수값(지수표현방식)\n",
    "# df로 변환\n",
    "\n",
    "fi_df = pd.DataFrame(fi, index= X_oh.columns,columns=['import'])# 117개의 특성중요도 수치값\n",
    "fi_df\n",
    "\n",
    "# 특성 중요도 내림차순 정렬해보기(top5)\n",
    "fi_df['import'].sort_values(ascending=False).head()\n",
    "# odor_n : 냄새"
   ]
  },
  {
   "cell_type": "markdown",
   "id": "ea877f68-c04c-45f8-be11-3a47b9165625",
   "metadata": {},
   "source": [
    "#### tree 모델 시각화\n",
    "- 시각화 패키지(grapviz)설치\n",
    "- anaconda prompt 실행 후 pip install graphviz > jupyter 노트묵 내부 !pip install graphviz"
   ]
  },
  {
   "cell_type": "code",
   "execution_count": 70,
   "id": "3ea71689-97ac-4dd3-b89f-4010e549798d",
   "metadata": {},
   "outputs": [
    {
     "name": "stdout",
     "output_type": "stream",
     "text": [
      "Requirement already satisfied: graphviz in c:\\users\\smhrd1\\anaconda3\\lib\\site-packages (0.20.3)\n"
     ]
    }
   ],
   "source": [
    "!pip install graphviz"
   ]
  },
  {
   "cell_type": "code",
   "execution_count": 71,
   "id": "4a57b734-23eb-45b2-bd62-61a536216038",
   "metadata": {},
   "outputs": [],
   "source": [
    "# jupyter 노트북 껐다가 다시 실행해서 run all -> 라이브러리 불러오기\n",
    "from sklearn.tree import export_graphviz\n",
    "export_graphviz(tree_model,out_file='./data/tree.dot',\n",
    "                class_names=['독','식'],\n",
    "                feature_names= X_oh.columns,\n",
    "                impurity= False, # 지니불순도와 비슷한 개념을 가진 속성\n",
    "                filled = True) # 해당 노드의 클래스에 대한 색상 지정"
   ]
  },
  {
   "cell_type": "code",
   "execution_count": 72,
   "id": "c937460f-1f5b-45b8-acd8-d5a13a044884",
   "metadata": {},
   "outputs": [
    {
     "data": {
      "image/svg+xml": [
       "<?xml version=\"1.0\" encoding=\"UTF-8\" standalone=\"no\"?>\n",
       "<!DOCTYPE svg PUBLIC \"-//W3C//DTD SVG 1.1//EN\"\n",
       " \"http://www.w3.org/Graphics/SVG/1.1/DTD/svg11.dtd\">\n",
       "<!-- Generated by graphviz version 11.0.0 (20240428.1522)\n",
       " -->\n",
       "<!-- Title: Tree Pages: 1 -->\n",
       "<svg width=\"871pt\" height=\"396pt\"\n",
       " viewBox=\"0.00 0.00 870.88 395.50\" xmlns=\"http://www.w3.org/2000/svg\" xmlns:xlink=\"http://www.w3.org/1999/xlink\">\n",
       "<g id=\"graph0\" class=\"graph\" transform=\"scale(1 1) rotate(0) translate(4 391.5)\">\n",
       "<title>Tree</title>\n",
       "<polygon fill=\"white\" stroke=\"none\" points=\"-4,4 -4,-391.5 866.88,-391.5 866.88,4 -4,4\"/>\n",
       "<!-- 0 -->\n",
       "<g id=\"node1\" class=\"node\">\n",
       "<title>0</title>\n",
       "<polygon fill=\"#fdf8f3\" stroke=\"black\" points=\"581.5,-387.5 435.75,-387.5 435.75,-313.5 581.5,-313.5 581.5,-387.5\"/>\n",
       "<text text-anchor=\"middle\" x=\"508.62\" y=\"-370.2\" font-family=\"Helvetica,sans-Serif\" font-size=\"14.00\">odor_n &lt;= 0.5</text>\n",
       "<text text-anchor=\"middle\" x=\"508.62\" y=\"-353.7\" font-family=\"Helvetica,sans-Serif\" font-size=\"14.00\">samples = 5686</text>\n",
       "<text text-anchor=\"middle\" x=\"508.62\" y=\"-337.2\" font-family=\"Helvetica,sans-Serif\" font-size=\"14.00\">value = [2929, 2757]</text>\n",
       "<text text-anchor=\"middle\" x=\"508.62\" y=\"-320.7\" font-family=\"Helvetica,sans-Serif\" font-size=\"14.00\">class = 독</text>\n",
       "</g>\n",
       "<!-- 1 -->\n",
       "<g id=\"node2\" class=\"node\">\n",
       "<title>1</title>\n",
       "<polygon fill=\"#63b2ea\" stroke=\"black\" points=\"459.38,-277.5 321.88,-277.5 321.88,-203.5 459.38,-203.5 459.38,-277.5\"/>\n",
       "<text text-anchor=\"middle\" x=\"390.62\" y=\"-260.2\" font-family=\"Helvetica,sans-Serif\" font-size=\"14.00\">stalk&#45;root_c &lt;= 0.5</text>\n",
       "<text text-anchor=\"middle\" x=\"390.62\" y=\"-243.7\" font-family=\"Helvetica,sans-Serif\" font-size=\"14.00\">samples = 3237</text>\n",
       "<text text-anchor=\"middle\" x=\"390.62\" y=\"-227.2\" font-family=\"Helvetica,sans-Serif\" font-size=\"14.00\">value = [563, 2674]</text>\n",
       "<text text-anchor=\"middle\" x=\"390.62\" y=\"-210.7\" font-family=\"Helvetica,sans-Serif\" font-size=\"14.00\">class = 식</text>\n",
       "</g>\n",
       "<!-- 0&#45;&gt;1 -->\n",
       "<g id=\"edge1\" class=\"edge\">\n",
       "<title>0&#45;&gt;1</title>\n",
       "<path fill=\"none\" stroke=\"black\" d=\"M469,-313.24C459.28,-304.33 448.76,-294.7 438.68,-285.48\"/>\n",
       "<polygon fill=\"black\" stroke=\"black\" points=\"441.2,-283.04 431.46,-278.87 436.47,-288.21 441.2,-283.04\"/>\n",
       "<text text-anchor=\"middle\" x=\"431.45\" y=\"-297.78\" font-family=\"Helvetica,sans-Serif\" font-size=\"14.00\">True</text>\n",
       "</g>\n",
       "<!-- 8 -->\n",
       "<g id=\"node9\" class=\"node\">\n",
       "<title>8</title>\n",
       "<polygon fill=\"#e68540\" stroke=\"black\" points=\"716.25,-277.5 539,-277.5 539,-203.5 716.25,-203.5 716.25,-277.5\"/>\n",
       "<text text-anchor=\"middle\" x=\"627.62\" y=\"-260.2\" font-family=\"Helvetica,sans-Serif\" font-size=\"14.00\">spore&#45;print&#45;color_r &lt;= 0.5</text>\n",
       "<text text-anchor=\"middle\" x=\"627.62\" y=\"-243.7\" font-family=\"Helvetica,sans-Serif\" font-size=\"14.00\">samples = 2449</text>\n",
       "<text text-anchor=\"middle\" x=\"627.62\" y=\"-227.2\" font-family=\"Helvetica,sans-Serif\" font-size=\"14.00\">value = [2366, 83]</text>\n",
       "<text text-anchor=\"middle\" x=\"627.62\" y=\"-210.7\" font-family=\"Helvetica,sans-Serif\" font-size=\"14.00\">class = 독</text>\n",
       "</g>\n",
       "<!-- 0&#45;&gt;8 -->\n",
       "<g id=\"edge8\" class=\"edge\">\n",
       "<title>0&#45;&gt;8</title>\n",
       "<path fill=\"none\" stroke=\"black\" d=\"M548.58,-313.24C558.39,-304.33 569,-294.7 579.17,-285.48\"/>\n",
       "<polygon fill=\"black\" stroke=\"black\" points=\"581.4,-288.18 586.45,-278.87 576.69,-283 581.4,-288.18\"/>\n",
       "<text text-anchor=\"middle\" x=\"586.36\" y=\"-297.77\" font-family=\"Helvetica,sans-Serif\" font-size=\"14.00\">False</text>\n",
       "</g>\n",
       "<!-- 2 -->\n",
       "<g id=\"node3\" class=\"node\">\n",
       "<title>2</title>\n",
       "<polygon fill=\"#49a5e7\" stroke=\"black\" points=\"266.38,-167.5 128.88,-167.5 128.88,-93.5 266.38,-93.5 266.38,-167.5\"/>\n",
       "<text text-anchor=\"middle\" x=\"197.62\" y=\"-150.2\" font-family=\"Helvetica,sans-Serif\" font-size=\"14.00\">stalk&#45;root_r &lt;= 0.5</text>\n",
       "<text text-anchor=\"middle\" x=\"197.62\" y=\"-133.7\" font-family=\"Helvetica,sans-Serif\" font-size=\"14.00\">samples = 2858</text>\n",
       "<text text-anchor=\"middle\" x=\"197.62\" y=\"-117.2\" font-family=\"Helvetica,sans-Serif\" font-size=\"14.00\">value = [208, 2650]</text>\n",
       "<text text-anchor=\"middle\" x=\"197.62\" y=\"-100.7\" font-family=\"Helvetica,sans-Serif\" font-size=\"14.00\">class = 식</text>\n",
       "</g>\n",
       "<!-- 1&#45;&gt;2 -->\n",
       "<g id=\"edge2\" class=\"edge\">\n",
       "<title>1&#45;&gt;2</title>\n",
       "<path fill=\"none\" stroke=\"black\" d=\"M325.55,-203.09C308.47,-193.53 289.91,-183.14 272.37,-173.33\"/>\n",
       "<polygon fill=\"black\" stroke=\"black\" points=\"274.5,-170.51 264.06,-168.68 271.08,-176.62 274.5,-170.51\"/>\n",
       "</g>\n",
       "<!-- 5 -->\n",
       "<g id=\"node6\" class=\"node\">\n",
       "<title>5</title>\n",
       "<polygon fill=\"#e78a46\" stroke=\"black\" points=\"496.88,-167.5 284.38,-167.5 284.38,-93.5 496.88,-93.5 496.88,-167.5\"/>\n",
       "<text text-anchor=\"middle\" x=\"390.62\" y=\"-150.2\" font-family=\"Helvetica,sans-Serif\" font-size=\"14.00\">stalk&#45;color&#45;below&#45;ring_w &lt;= 0.5</text>\n",
       "<text text-anchor=\"middle\" x=\"390.62\" y=\"-133.7\" font-family=\"Helvetica,sans-Serif\" font-size=\"14.00\">samples = 379</text>\n",
       "<text text-anchor=\"middle\" x=\"390.62\" y=\"-117.2\" font-family=\"Helvetica,sans-Serif\" font-size=\"14.00\">value = [355, 24]</text>\n",
       "<text text-anchor=\"middle\" x=\"390.62\" y=\"-100.7\" font-family=\"Helvetica,sans-Serif\" font-size=\"14.00\">class = 독</text>\n",
       "</g>\n",
       "<!-- 1&#45;&gt;5 -->\n",
       "<g id=\"edge5\" class=\"edge\">\n",
       "<title>1&#45;&gt;5</title>\n",
       "<path fill=\"none\" stroke=\"black\" d=\"M390.62,-203.24C390.62,-195.49 390.62,-187.2 390.62,-179.1\"/>\n",
       "<polygon fill=\"black\" stroke=\"black\" points=\"394.13,-179.36 390.63,-169.36 387.13,-179.36 394.13,-179.36\"/>\n",
       "</g>\n",
       "<!-- 3 -->\n",
       "<g id=\"node4\" class=\"node\">\n",
       "<title>3</title>\n",
       "<polygon fill=\"#3e9fe6\" stroke=\"black\" points=\"129.25,-57.5 0,-57.5 0,0 129.25,0 129.25,-57.5\"/>\n",
       "<text text-anchor=\"middle\" x=\"64.62\" y=\"-40.2\" font-family=\"Helvetica,sans-Serif\" font-size=\"14.00\">samples = 2717</text>\n",
       "<text text-anchor=\"middle\" x=\"64.62\" y=\"-23.7\" font-family=\"Helvetica,sans-Serif\" font-size=\"14.00\">value = [67, 2650]</text>\n",
       "<text text-anchor=\"middle\" x=\"64.62\" y=\"-7.2\" font-family=\"Helvetica,sans-Serif\" font-size=\"14.00\">class = 식</text>\n",
       "</g>\n",
       "<!-- 2&#45;&gt;3 -->\n",
       "<g id=\"edge3\" class=\"edge\">\n",
       "<title>2&#45;&gt;3</title>\n",
       "<path fill=\"none\" stroke=\"black\" d=\"M149.23,-93.21C136.8,-83.88 123.46,-73.88 111.13,-64.63\"/>\n",
       "<polygon fill=\"black\" stroke=\"black\" points=\"113.24,-61.84 103.14,-58.64 109.04,-67.44 113.24,-61.84\"/>\n",
       "</g>\n",
       "<!-- 4 -->\n",
       "<g id=\"node5\" class=\"node\">\n",
       "<title>4</title>\n",
       "<polygon fill=\"#e58139\" stroke=\"black\" points=\"260,-57.5 147.25,-57.5 147.25,0 260,0 260,-57.5\"/>\n",
       "<text text-anchor=\"middle\" x=\"203.62\" y=\"-40.2\" font-family=\"Helvetica,sans-Serif\" font-size=\"14.00\">samples = 141</text>\n",
       "<text text-anchor=\"middle\" x=\"203.62\" y=\"-23.7\" font-family=\"Helvetica,sans-Serif\" font-size=\"14.00\">value = [141, 0]</text>\n",
       "<text text-anchor=\"middle\" x=\"203.62\" y=\"-7.2\" font-family=\"Helvetica,sans-Serif\" font-size=\"14.00\">class = 독</text>\n",
       "</g>\n",
       "<!-- 2&#45;&gt;4 -->\n",
       "<g id=\"edge4\" class=\"edge\">\n",
       "<title>2&#45;&gt;4</title>\n",
       "<path fill=\"none\" stroke=\"black\" d=\"M199.81,-93.21C200.28,-85.35 200.78,-77 201.26,-69.03\"/>\n",
       "<polygon fill=\"black\" stroke=\"black\" points=\"204.74,-69.43 201.85,-59.24 197.76,-69.01 204.74,-69.43\"/>\n",
       "</g>\n",
       "<!-- 6 -->\n",
       "<g id=\"node7\" class=\"node\">\n",
       "<title>6</title>\n",
       "<polygon fill=\"#399de5\" stroke=\"black\" points=\"402.88,-57.5 298.38,-57.5 298.38,0 402.88,0 402.88,-57.5\"/>\n",
       "<text text-anchor=\"middle\" x=\"350.62\" y=\"-40.2\" font-family=\"Helvetica,sans-Serif\" font-size=\"14.00\">samples = 24</text>\n",
       "<text text-anchor=\"middle\" x=\"350.62\" y=\"-23.7\" font-family=\"Helvetica,sans-Serif\" font-size=\"14.00\">value = [0, 24]</text>\n",
       "<text text-anchor=\"middle\" x=\"350.62\" y=\"-7.2\" font-family=\"Helvetica,sans-Serif\" font-size=\"14.00\">class = 식</text>\n",
       "</g>\n",
       "<!-- 5&#45;&gt;6 -->\n",
       "<g id=\"edge6\" class=\"edge\">\n",
       "<title>5&#45;&gt;6</title>\n",
       "<path fill=\"none\" stroke=\"black\" d=\"M376.07,-93.21C372.81,-85.07 369.34,-76.42 366.04,-68.2\"/>\n",
       "<polygon fill=\"black\" stroke=\"black\" points=\"369.38,-67.11 362.41,-59.13 362.88,-69.72 369.38,-67.11\"/>\n",
       "</g>\n",
       "<!-- 7 -->\n",
       "<g id=\"node8\" class=\"node\">\n",
       "<title>7</title>\n",
       "<polygon fill=\"#e58139\" stroke=\"black\" points=\"534,-57.5 421.25,-57.5 421.25,0 534,0 534,-57.5\"/>\n",
       "<text text-anchor=\"middle\" x=\"477.62\" y=\"-40.2\" font-family=\"Helvetica,sans-Serif\" font-size=\"14.00\">samples = 355</text>\n",
       "<text text-anchor=\"middle\" x=\"477.62\" y=\"-23.7\" font-family=\"Helvetica,sans-Serif\" font-size=\"14.00\">value = [355, 0]</text>\n",
       "<text text-anchor=\"middle\" x=\"477.62\" y=\"-7.2\" font-family=\"Helvetica,sans-Serif\" font-size=\"14.00\">class = 독</text>\n",
       "</g>\n",
       "<!-- 5&#45;&gt;7 -->\n",
       "<g id=\"edge7\" class=\"edge\">\n",
       "<title>5&#45;&gt;7</title>\n",
       "<path fill=\"none\" stroke=\"black\" d=\"M422.28,-93.21C429.93,-84.43 438.11,-75.05 445.77,-66.27\"/>\n",
       "<polygon fill=\"black\" stroke=\"black\" points=\"448.29,-68.71 452.23,-58.87 443.02,-64.1 448.29,-68.71\"/>\n",
       "</g>\n",
       "<!-- 9 -->\n",
       "<g id=\"node10\" class=\"node\">\n",
       "<title>9</title>\n",
       "<polygon fill=\"#e5833c\" stroke=\"black\" points=\"740.25,-167.5 515,-167.5 515,-93.5 740.25,-93.5 740.25,-167.5\"/>\n",
       "<text text-anchor=\"middle\" x=\"627.62\" y=\"-150.2\" font-family=\"Helvetica,sans-Serif\" font-size=\"14.00\">stalk&#45;surface&#45;below&#45;ring_y &lt;= 0.5</text>\n",
       "<text text-anchor=\"middle\" x=\"627.62\" y=\"-133.7\" font-family=\"Helvetica,sans-Serif\" font-size=\"14.00\">samples = 2400</text>\n",
       "<text text-anchor=\"middle\" x=\"627.62\" y=\"-117.2\" font-family=\"Helvetica,sans-Serif\" font-size=\"14.00\">value = [2366, 34]</text>\n",
       "<text text-anchor=\"middle\" x=\"627.62\" y=\"-100.7\" font-family=\"Helvetica,sans-Serif\" font-size=\"14.00\">class = 독</text>\n",
       "</g>\n",
       "<!-- 8&#45;&gt;9 -->\n",
       "<g id=\"edge9\" class=\"edge\">\n",
       "<title>8&#45;&gt;9</title>\n",
       "<path fill=\"none\" stroke=\"black\" d=\"M627.62,-203.24C627.62,-195.49 627.62,-187.2 627.62,-179.1\"/>\n",
       "<polygon fill=\"black\" stroke=\"black\" points=\"631.13,-179.36 627.63,-169.36 624.13,-179.36 631.13,-179.36\"/>\n",
       "</g>\n",
       "<!-- 12 -->\n",
       "<g id=\"node13\" class=\"node\">\n",
       "<title>12</title>\n",
       "<polygon fill=\"#399de5\" stroke=\"black\" points=\"862.88,-159.25 758.38,-159.25 758.38,-101.75 862.88,-101.75 862.88,-159.25\"/>\n",
       "<text text-anchor=\"middle\" x=\"810.62\" y=\"-141.95\" font-family=\"Helvetica,sans-Serif\" font-size=\"14.00\">samples = 49</text>\n",
       "<text text-anchor=\"middle\" x=\"810.62\" y=\"-125.45\" font-family=\"Helvetica,sans-Serif\" font-size=\"14.00\">value = [0, 49]</text>\n",
       "<text text-anchor=\"middle\" x=\"810.62\" y=\"-108.95\" font-family=\"Helvetica,sans-Serif\" font-size=\"14.00\">class = 식</text>\n",
       "</g>\n",
       "<!-- 8&#45;&gt;12 -->\n",
       "<g id=\"edge12\" class=\"edge\">\n",
       "<title>8&#45;&gt;12</title>\n",
       "<path fill=\"none\" stroke=\"black\" d=\"M689.33,-203.09C709.92,-190.93 732.78,-177.44 753.06,-165.47\"/>\n",
       "<polygon fill=\"black\" stroke=\"black\" points=\"754.64,-168.6 761.48,-160.51 751.08,-162.57 754.64,-168.6\"/>\n",
       "</g>\n",
       "<!-- 10 -->\n",
       "<g id=\"node11\" class=\"node\">\n",
       "<title>10</title>\n",
       "<polygon fill=\"#e58139\" stroke=\"black\" points=\"683.12,-57.5 562.12,-57.5 562.12,0 683.12,0 683.12,-57.5\"/>\n",
       "<text text-anchor=\"middle\" x=\"622.62\" y=\"-40.2\" font-family=\"Helvetica,sans-Serif\" font-size=\"14.00\">samples = 2360</text>\n",
       "<text text-anchor=\"middle\" x=\"622.62\" y=\"-23.7\" font-family=\"Helvetica,sans-Serif\" font-size=\"14.00\">value = [2356, 4]</text>\n",
       "<text text-anchor=\"middle\" x=\"622.62\" y=\"-7.2\" font-family=\"Helvetica,sans-Serif\" font-size=\"14.00\">class = 독</text>\n",
       "</g>\n",
       "<!-- 9&#45;&gt;10 -->\n",
       "<g id=\"edge10\" class=\"edge\">\n",
       "<title>9&#45;&gt;10</title>\n",
       "<path fill=\"none\" stroke=\"black\" d=\"M625.81,-93.21C625.41,-85.35 624.99,-77 624.59,-69.03\"/>\n",
       "<polygon fill=\"black\" stroke=\"black\" points=\"628.1,-69.05 624.1,-59.24 621.11,-69.4 628.1,-69.05\"/>\n",
       "</g>\n",
       "<!-- 11 -->\n",
       "<g id=\"node12\" class=\"node\">\n",
       "<title>11</title>\n",
       "<polygon fill=\"#7bbeee\" stroke=\"black\" points=\"814,-57.5 701.25,-57.5 701.25,0 814,0 814,-57.5\"/>\n",
       "<text text-anchor=\"middle\" x=\"757.62\" y=\"-40.2\" font-family=\"Helvetica,sans-Serif\" font-size=\"14.00\">samples = 40</text>\n",
       "<text text-anchor=\"middle\" x=\"757.62\" y=\"-23.7\" font-family=\"Helvetica,sans-Serif\" font-size=\"14.00\">value = [10, 30]</text>\n",
       "<text text-anchor=\"middle\" x=\"757.62\" y=\"-7.2\" font-family=\"Helvetica,sans-Serif\" font-size=\"14.00\">class = 식</text>\n",
       "</g>\n",
       "<!-- 9&#45;&gt;11 -->\n",
       "<g id=\"edge11\" class=\"edge\">\n",
       "<title>9&#45;&gt;11</title>\n",
       "<path fill=\"none\" stroke=\"black\" d=\"M674.93,-93.21C687.07,-83.88 700.12,-73.88 712.17,-64.63\"/>\n",
       "<polygon fill=\"black\" stroke=\"black\" points=\"714.16,-67.51 719.96,-58.65 709.9,-61.96 714.16,-67.51\"/>\n",
       "</g>\n",
       "</g>\n",
       "</svg>\n"
      ],
      "text/plain": [
       "<graphviz.sources.Source at 0x1b41e0edd50>"
      ]
     },
     "metadata": {},
     "output_type": "display_data"
    }
   ],
   "source": [
    "import graphviz\n",
    "# tree.dot 파일 열어주기\n",
    "with open('data/tree.dot',encoding='UTF8') as f: # 외부에 있는 파일을 읽어주는 코드\n",
    "    # 파일이 열려있다\n",
    "    dot_graph = f.read()\n",
    "dot_graph\n",
    "\n",
    "# 그래프 그려보기\n",
    "display(graphviz.Source(dot_graph))"
   ]
  },
  {
   "cell_type": "code",
   "execution_count": 62,
   "id": "ae672673-b4c1-439b-b9f4-784979e0cb2c",
   "metadata": {},
   "outputs": [],
   "source": [
    "import os\n",
    "os.environ[\"PATH\"]+=os.pathsep+'C:/Program Files/Graphviz/bin/'"
   ]
  }
 ],
 "metadata": {
  "kernelspec": {
   "display_name": "Python 3 (ipykernel)",
   "language": "python",
   "name": "python3"
  },
  "language_info": {
   "codemirror_mode": {
    "name": "ipython",
    "version": 3
   },
   "file_extension": ".py",
   "mimetype": "text/x-python",
   "name": "python",
   "nbconvert_exporter": "python",
   "pygments_lexer": "ipython3",
   "version": "3.11.7"
  }
 },
 "nbformat": 4,
 "nbformat_minor": 5
}
